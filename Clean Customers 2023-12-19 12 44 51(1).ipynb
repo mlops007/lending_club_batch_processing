{
 "cells": [
  {
   "cell_type": "code",
   "execution_count": 0,
   "metadata": {
    "application/vnd.databricks.v1+cell": {
     "cellMetadata": {
      "byteLimit": 2048000,
      "rowLimit": 10000
     },
     "inputWidgets": {},
     "nuid": "fc9c2d35-b94a-4496-99b6-38d6bb622ed7",
     "showTitle": false,
     "title": ""
    }
   },
   "outputs": [
    {
     "output_type": "display_data",
     "data": {
      "text/html": [
       "<style scoped>\n",
       "  .table-result-container {\n",
       "    max-height: 300px;\n",
       "    overflow: auto;\n",
       "  }\n",
       "  table, th, td {\n",
       "    border: 1px solid black;\n",
       "    border-collapse: collapse;\n",
       "  }\n",
       "  th, td {\n",
       "    padding: 5px;\n",
       "  }\n",
       "  th {\n",
       "    text-align: left;\n",
       "  }\n",
       "</style><div class='table-result-container'><table class='table-result'><thead style='background-color: white'><tr><th>path</th><th>name</th><th>size</th><th>modificationTime</th></tr></thead><tbody><tr><td>dbfs:/mnt/lending_club/landing/customers_df/csv/single/_SUCCESS</td><td>_SUCCESS</td><td>0</td><td>1702882677000</td></tr><tr><td>dbfs:/mnt/lending_club/landing/customers_df/csv/single/_committed_3236819910337846505</td><td>_committed_3236819910337846505</td><td>113</td><td>1702882677000</td></tr><tr><td>dbfs:/mnt/lending_club/landing/customers_df/csv/single/_started_3236819910337846505</td><td>_started_3236819910337846505</td><td>0</td><td>1702882668000</td></tr><tr><td>dbfs:/mnt/lending_club/landing/customers_df/csv/single/part-00000-tid-3236819910337846505-cec1c320-11df-4a4a-8114-f0d0d2bfc2c9-214-1-c000.csv</td><td>part-00000-tid-3236819910337846505-cec1c320-11df-4a4a-8114-f0d0d2bfc2c9-214-1-c000.csv</td><td>354975108</td><td>1702882677000</td></tr></tbody></table></div>"
      ]
     },
     "metadata": {
      "application/vnd.databricks.v1+output": {
       "addedWidgets": {},
       "aggData": [],
       "aggError": "",
       "aggOverflow": false,
       "aggSchema": [],
       "aggSeriesLimitReached": false,
       "aggType": "",
       "arguments": {},
       "columnCustomDisplayInfos": {},
       "data": [
        [
         "dbfs:/mnt/lending_club/landing/customers_df/csv/single/_SUCCESS",
         "_SUCCESS",
         0,
         1702882677000
        ],
        [
         "dbfs:/mnt/lending_club/landing/customers_df/csv/single/_committed_3236819910337846505",
         "_committed_3236819910337846505",
         113,
         1702882677000
        ],
        [
         "dbfs:/mnt/lending_club/landing/customers_df/csv/single/_started_3236819910337846505",
         "_started_3236819910337846505",
         0,
         1702882668000
        ],
        [
         "dbfs:/mnt/lending_club/landing/customers_df/csv/single/part-00000-tid-3236819910337846505-cec1c320-11df-4a4a-8114-f0d0d2bfc2c9-214-1-c000.csv",
         "part-00000-tid-3236819910337846505-cec1c320-11df-4a4a-8114-f0d0d2bfc2c9-214-1-c000.csv",
         354975108,
         1702882677000
        ]
       ],
       "datasetInfos": [],
       "dbfsResultPath": null,
       "isJsonSchema": true,
       "metadata": {
        "isDbfsCommandResult": false
       },
       "overflow": false,
       "plotOptions": {
        "customPlotOptions": {},
        "displayType": "table",
        "pivotAggregation": null,
        "pivotColumns": null,
        "xColumns": null,
        "yColumns": null
       },
       "removedWidgets": [],
       "schema": [
        {
         "metadata": "{}",
         "name": "path",
         "type": "\"string\""
        },
        {
         "metadata": "{}",
         "name": "name",
         "type": "\"string\""
        },
        {
         "metadata": "{}",
         "name": "size",
         "type": "\"long\""
        },
        {
         "metadata": "{}",
         "name": "modificationTime",
         "type": "\"long\""
        }
       ],
       "type": "table"
      }
     },
     "output_type": "display_data"
    }
   ],
   "source": [
    "%fs ls /mnt/lending_club/landing/customers_df/csv/single"
   ]
  },
  {
   "cell_type": "code",
   "execution_count": 0,
   "metadata": {
    "application/vnd.databricks.v1+cell": {
     "cellMetadata": {
      "byteLimit": 2048000,
      "rowLimit": 10000
     },
     "inputWidgets": {},
     "nuid": "97aeb645-1346-41e7-b22a-819c220b1c85",
     "showTitle": false,
     "title": ""
    }
   },
   "outputs": [],
   "source": [
    "from pyspark.sql.types import StructType, StructField, TimestampType, IntegerType, StringType, FloatType\n",
    "from pyspark.sql.functions import regexp_replace, concat_ws\n",
    "from pyspark.sql.functions import when, col, length\n",
    "from pyspark.sql.functions import current_timestamp\n",
    "from pyspark.sql.functions import avg"
   ]
  },
  {
   "cell_type": "code",
   "execution_count": 0,
   "metadata": {
    "application/vnd.databricks.v1+cell": {
     "cellMetadata": {
      "byteLimit": 2048000,
      "rowLimit": 10000
     },
     "inputWidgets": {},
     "nuid": "52a794ca-fc03-4fa9-a590-a6d9e5951fa1",
     "showTitle": false,
     "title": ""
    }
   },
   "outputs": [],
   "source": [
    "customers_schema = StructType([\n",
    "    StructField(\"member_id\", StringType(), True)\n",
    "    ,StructField(\"emp_title\", StringType(), True)\n",
    "    ,StructField(\"emp_length\", StringType(), True)\n",
    "    ,StructField(\"home_ownership\", StringType(), True)\n",
    "    ,StructField(\"annual_inc\", FloatType(), True)\n",
    "    ,StructField(\"addr_state\", StringType(), True)\n",
    "    ,StructField(\"grade\", StringType(), True)\n",
    "    ,StructField(\"zip_code\", StringType(), True)\n",
    "    ,StructField(\"sub_grade\", StringType(), True)\n",
    "    ,StructField(\"verification_status\", StringType(), True)\n",
    "    ,StructField(\"tot_hi_cred_lim\", FloatType(), True)\n",
    "    ,StructField(\"application_type\", StringType(), True)\n",
    "    ,StructField(\"annual_inc_joint\", FloatType(), True)\n",
    "    ,StructField(\"verification_status_joint\", StringType(), True)\n",
    "    ,StructField(\"country\", StringType(), True)\n",
    "\n",
    "])"
   ]
  },
  {
   "cell_type": "code",
   "execution_count": 0,
   "metadata": {
    "application/vnd.databricks.v1+cell": {
     "cellMetadata": {
      "byteLimit": 2048000,
      "rowLimit": 10000
     },
     "inputWidgets": {},
     "nuid": "5fb7446c-36e2-44c5-8190-f8cc0293ee29",
     "showTitle": false,
     "title": ""
    }
   },
   "outputs": [
    {
     "output_type": "stream",
     "name": "stdout",
     "output_type": "stream",
     "text": [
      "+--------------------+--------------------+----------+--------------+----------+----------+-----+--------+---------+-------------------+---------------+----------------+----------------+-------------------------+-------+\n|           member_id|           emp_title|emp_length|home_ownership|annual_inc|addr_state|grade|zip_code|sub_grade|verification_status|tot_hi_cred_lim|application_type|annual_inc_joint|verification_status_joint|country|\n+--------------------+--------------------+----------+--------------+----------+----------+-----+--------+---------+-------------------+---------------+----------------+----------------+-------------------------+-------+\n|af2c01919a67ad070...|             leadman| 10+ years|      MORTGAGE|   55000.0|        PA|190xx|       C|       C4|       Not Verified|       178050.0|      Individual|            NULL|                     NULL|    USA|\n|51cf0089ac3e1beeb...|            Engineer| 10+ years|      MORTGAGE|   65000.0|        SD|577xx|       C|       C1|       Not Verified|       314017.0|      Individual|            NULL|                     NULL|    USA|\n|a03d0c087a03631e3...|        truck driver| 10+ years|      MORTGAGE|   63000.0|        IL|605xx|       B|       B4|       Not Verified|       218418.0|       Joint App|         71000.0|             Not Verified|    USA|\n|edb5d90fadb8d0754...|Information Syste...| 10+ years|      MORTGAGE|  110000.0|        NJ|076xx|       C|       C5|    Source Verified|       381215.0|      Individual|            NULL|                     NULL|    USA|\n|19ef0a55233f5d753...| Contract Specialist|   3 years|      MORTGAGE|  104433.0|        PA|174xx|       F|       F1|    Source Verified|       439570.0|      Individual|            NULL|                     NULL|    USA|\n|e8330c3d08626dd84...|Veterinary Tecnician|   4 years|          RENT|   34000.0|        GA|300xx|       C|       C3|    Source Verified|        16900.0|      Individual|            NULL|                     NULL|    USA|\n|1fcc933dd0548c623...|Vice President of...| 10+ years|      MORTGAGE|  180000.0|        MN|550xx|       B|       B2|       Not Verified|       388852.0|      Individual|            NULL|                     NULL|    USA|\n|ac829342586dce5b5...|         road driver| 10+ years|      MORTGAGE|   85000.0|        SC|293xx|       B|       B1|       Not Verified|       193390.0|      Individual|            NULL|                     NULL|    USA|\n|fc961d7d8940475a1...|     SERVICE MANAGER|   6 years|          RENT|   85000.0|        PA|160xx|       A|       A2|       Not Verified|        61099.0|      Individual|            NULL|                     NULL|    USA|\n|6ff86d8b565871d94...|      Vendor liaison| 10+ years|      MORTGAGE|   42000.0|        RI|029xx|       B|       B5|       Not Verified|       256513.0|      Individual|            NULL|                     NULL|    USA|\n|aedd29e3627be1278...|  Executive Director|   6 years|      MORTGAGE|   95000.0|        SC|290xx|       C|       C2|       Not Verified|       436841.0|      Individual|            NULL|                     NULL|    USA|\n|5b42be481ab00e358...|Senior Structural...|    1 year|      MORTGAGE|   70000.0|        TX|786xx|       C|       C2|       Not Verified|       309638.0|      Individual|            NULL|                     NULL|    USA|\n|45da7ecd0535b4243...|   Logistics Manager|   3 years|      MORTGAGE|   64000.0|        NC|275xx|       C|       C2|       Not Verified|       372109.0|      Individual|            NULL|                     NULL|    USA|\n|618a72079f76d6511...|    Software Manager|   7 years|          RENT|  150000.0|        CA|916xx|       E|       E2|       Not Verified|        65819.0|      Individual|            NULL|                     NULL|    USA|\n|b737dd01c078e95e2...|      Senior Manager| 10+ years|      MORTGAGE|   92000.0|        NC|275xx|       A|       A2|       Not Verified|       304003.0|      Individual|            NULL|                     NULL|    USA|\n|db57cdd3f81b2501a...|                tech|   8 years|      MORTGAGE|   60000.0|        SC|299xx|       A|       A4|       Not Verified|        88635.0|      Individual|            NULL|                     NULL|    USA|\n|7ecc9d571f7dff321...|       Sales Manager| 10+ years|      MORTGAGE|  109000.0|        VA|226xx|       A|       A4|       Not Verified|       373572.0|      Individual|            NULL|                     NULL|    USA|\n|0704182cf7ed93107...|               GS-11| 10+ years|      MORTGAGE|  112000.0|        AZ|856xx|       C|       C1|       Not Verified|       309710.0|      Individual|            NULL|                     NULL|    USA|\n|7b70a7dd291cc5bb5...|             Teacher|   5 years|          RENT|   64000.0|        NY|117xx|       B|       B1|       Not Verified|        93962.0|      Individual|            NULL|                     NULL|    USA|\n|d5bbe44369cec752e...| Program Coordinator|   8 years|          RENT|   55000.0|        IN|462xx|       E|       E3|           Verified|        38998.0|      Individual|            NULL|                     NULL|    USA|\n+--------------------+--------------------+----------+--------------+----------+----------+-----+--------+---------+-------------------+---------------+----------------+----------------+-------------------------+-------+\nonly showing top 20 rows\n\n"
     ]
    }
   ],
   "source": [
    "customers_df = spark.read\\\n",
    "    .option(\"header\", True)\\\n",
    "    .format(\"csv\")\\\n",
    "    .schema(customers_schema)\\\n",
    "    .load(\"dbfs:/mnt/lending_club/landing/customers_df/csv/single/part-00000-tid-3236819910337846505-cec1c320-11df-4a4a-8114-f0d0d2bfc2c9-214-1-c000.csv\")\n",
    "customers_df.show()"
   ]
  },
  {
   "cell_type": "code",
   "execution_count": 0,
   "metadata": {
    "application/vnd.databricks.v1+cell": {
     "cellMetadata": {
      "byteLimit": 2048000,
      "rowLimit": 10000
     },
     "inputWidgets": {},
     "nuid": "b787e078-e41f-4575-ba0d-aea494195c7e",
     "showTitle": false,
     "title": ""
    }
   },
   "outputs": [
    {
     "output_type": "stream",
     "name": "stdout",
     "output_type": "stream",
     "text": [
      "root\n |-- member_id: string (nullable = true)\n |-- emp_title: string (nullable = true)\n |-- emp_length: string (nullable = true)\n |-- home_ownership: string (nullable = true)\n |-- annual_inc: float (nullable = true)\n |-- addr_state: string (nullable = true)\n |-- grade: string (nullable = true)\n |-- zip_code: string (nullable = true)\n |-- sub_grade: string (nullable = true)\n |-- verification_status: string (nullable = true)\n |-- tot_hi_cred_lim: float (nullable = true)\n |-- application_type: string (nullable = true)\n |-- annual_inc_joint: float (nullable = true)\n |-- verification_status_joint: string (nullable = true)\n |-- country: string (nullable = true)\n\n"
     ]
    }
   ],
   "source": [
    "customers_df.printSchema()"
   ]
  },
  {
   "cell_type": "markdown",
   "metadata": {
    "application/vnd.databricks.v1+cell": {
     "cellMetadata": {},
     "inputWidgets": {},
     "nuid": "9d7ac6d3-727e-4521-9773-34b78189d08b",
     "showTitle": false,
     "title": ""
    }
   },
   "source": [
    "\n",
    "# Rename cols"
   ]
  },
  {
   "cell_type": "code",
   "execution_count": 0,
   "metadata": {
    "application/vnd.databricks.v1+cell": {
     "cellMetadata": {
      "byteLimit": 2048000,
      "rowLimit": 10000
     },
     "inputWidgets": {},
     "nuid": "e89b0e75-58fb-43b6-be56-45ee6e69e9eb",
     "showTitle": false,
     "title": ""
    }
   },
   "outputs": [
    {
     "output_type": "stream",
     "name": "stdout",
     "output_type": "stream",
     "text": [
      "+--------------------+--------------------+----------+--------------+-------------+-------------+-----+---------------+---------+-------------------+---------------+----------------+-------------------+-------------------------+---------------+\n|           member_id|           emp_title|emp_length|home_ownership|annual_income|address_state|grade|address_zipcode|sub_grade|verification_status|tot_hi_cred_lim|application_type|joint_annual_income|verification_status_joint|address_country|\n+--------------------+--------------------+----------+--------------+-------------+-------------+-----+---------------+---------+-------------------+---------------+----------------+-------------------+-------------------------+---------------+\n|af2c01919a67ad070...|             leadman| 10+ years|      MORTGAGE|      55000.0|           PA|190xx|              C|       C4|       Not Verified|       178050.0|      Individual|               NULL|                     NULL|            USA|\n|51cf0089ac3e1beeb...|            Engineer| 10+ years|      MORTGAGE|      65000.0|           SD|577xx|              C|       C1|       Not Verified|       314017.0|      Individual|               NULL|                     NULL|            USA|\n|a03d0c087a03631e3...|        truck driver| 10+ years|      MORTGAGE|      63000.0|           IL|605xx|              B|       B4|       Not Verified|       218418.0|       Joint App|            71000.0|             Not Verified|            USA|\n|edb5d90fadb8d0754...|Information Syste...| 10+ years|      MORTGAGE|     110000.0|           NJ|076xx|              C|       C5|    Source Verified|       381215.0|      Individual|               NULL|                     NULL|            USA|\n|19ef0a55233f5d753...| Contract Specialist|   3 years|      MORTGAGE|     104433.0|           PA|174xx|              F|       F1|    Source Verified|       439570.0|      Individual|               NULL|                     NULL|            USA|\n|e8330c3d08626dd84...|Veterinary Tecnician|   4 years|          RENT|      34000.0|           GA|300xx|              C|       C3|    Source Verified|        16900.0|      Individual|               NULL|                     NULL|            USA|\n|1fcc933dd0548c623...|Vice President of...| 10+ years|      MORTGAGE|     180000.0|           MN|550xx|              B|       B2|       Not Verified|       388852.0|      Individual|               NULL|                     NULL|            USA|\n|ac829342586dce5b5...|         road driver| 10+ years|      MORTGAGE|      85000.0|           SC|293xx|              B|       B1|       Not Verified|       193390.0|      Individual|               NULL|                     NULL|            USA|\n|fc961d7d8940475a1...|     SERVICE MANAGER|   6 years|          RENT|      85000.0|           PA|160xx|              A|       A2|       Not Verified|        61099.0|      Individual|               NULL|                     NULL|            USA|\n|6ff86d8b565871d94...|      Vendor liaison| 10+ years|      MORTGAGE|      42000.0|           RI|029xx|              B|       B5|       Not Verified|       256513.0|      Individual|               NULL|                     NULL|            USA|\n|aedd29e3627be1278...|  Executive Director|   6 years|      MORTGAGE|      95000.0|           SC|290xx|              C|       C2|       Not Verified|       436841.0|      Individual|               NULL|                     NULL|            USA|\n|5b42be481ab00e358...|Senior Structural...|    1 year|      MORTGAGE|      70000.0|           TX|786xx|              C|       C2|       Not Verified|       309638.0|      Individual|               NULL|                     NULL|            USA|\n|45da7ecd0535b4243...|   Logistics Manager|   3 years|      MORTGAGE|      64000.0|           NC|275xx|              C|       C2|       Not Verified|       372109.0|      Individual|               NULL|                     NULL|            USA|\n|618a72079f76d6511...|    Software Manager|   7 years|          RENT|     150000.0|           CA|916xx|              E|       E2|       Not Verified|        65819.0|      Individual|               NULL|                     NULL|            USA|\n|b737dd01c078e95e2...|      Senior Manager| 10+ years|      MORTGAGE|      92000.0|           NC|275xx|              A|       A2|       Not Verified|       304003.0|      Individual|               NULL|                     NULL|            USA|\n|db57cdd3f81b2501a...|                tech|   8 years|      MORTGAGE|      60000.0|           SC|299xx|              A|       A4|       Not Verified|        88635.0|      Individual|               NULL|                     NULL|            USA|\n|7ecc9d571f7dff321...|       Sales Manager| 10+ years|      MORTGAGE|     109000.0|           VA|226xx|              A|       A4|       Not Verified|       373572.0|      Individual|               NULL|                     NULL|            USA|\n|0704182cf7ed93107...|               GS-11| 10+ years|      MORTGAGE|     112000.0|           AZ|856xx|              C|       C1|       Not Verified|       309710.0|      Individual|               NULL|                     NULL|            USA|\n|7b70a7dd291cc5bb5...|             Teacher|   5 years|          RENT|      64000.0|           NY|117xx|              B|       B1|       Not Verified|        93962.0|      Individual|               NULL|                     NULL|            USA|\n|d5bbe44369cec752e...| Program Coordinator|   8 years|          RENT|      55000.0|           IN|462xx|              E|       E3|           Verified|        38998.0|      Individual|               NULL|                     NULL|            USA|\n+--------------------+--------------------+----------+--------------+-------------+-------------+-----+---------------+---------+-------------------+---------------+----------------+-------------------+-------------------------+---------------+\nonly showing top 20 rows\n\n"
     ]
    }
   ],
   "source": [
    "customers_df_renamed = customers_df.withColumnRenamed(\"annual_inc\", \"annual_income\") \\\n",
    ".withColumnRenamed(\"addr_state\", \"address_state\") \\\n",
    ".withColumnRenamed(\"zip_code\", \"address_zipcode\") \\\n",
    ".withColumnRenamed(\"country\", \"address_country\") \\\n",
    ".withColumnRenamed(\"tot_hi_credit_lim\", \"total_high_credit_limit\") \\\n",
    ".withColumnRenamed(\"annual_inc_joint\", \"joint_annual_income\")\n",
    "\n",
    "customers_df_renamed.show()"
   ]
  },
  {
   "cell_type": "markdown",
   "metadata": {
    "application/vnd.databricks.v1+cell": {
     "cellMetadata": {},
     "inputWidgets": {},
     "nuid": "e9b0707d-6e02-4bb6-843f-b2b37419f0ac",
     "showTitle": false,
     "title": ""
    }
   },
   "source": [
    "\n",
    "####  insert a new column named as ingestion date(current time)"
   ]
  },
  {
   "cell_type": "code",
   "execution_count": 0,
   "metadata": {
    "application/vnd.databricks.v1+cell": {
     "cellMetadata": {
      "byteLimit": 2048000,
      "rowLimit": 10000
     },
     "inputWidgets": {},
     "nuid": "9b61681a-fb60-4ae8-97e5-9fde92223def",
     "showTitle": false,
     "title": ""
    }
   },
   "outputs": [
    {
     "output_type": "stream",
     "name": "stdout",
     "output_type": "stream",
     "text": [
      "+--------------------+--------------------+----------+--------------+-------------+-------------+-----+---------------+---------+-------------------+---------------+----------------+-------------------+-------------------------+---------------+--------------------+\n|           member_id|           emp_title|emp_length|home_ownership|annual_income|address_state|grade|address_zipcode|sub_grade|verification_status|tot_hi_cred_lim|application_type|joint_annual_income|verification_status_joint|address_country|         ingest_date|\n+--------------------+--------------------+----------+--------------+-------------+-------------+-----+---------------+---------+-------------------+---------------+----------------+-------------------+-------------------------+---------------+--------------------+\n|af2c01919a67ad070...|             leadman| 10+ years|      MORTGAGE|      55000.0|           PA|190xx|              C|       C4|       Not Verified|       178050.0|      Individual|               NULL|                     NULL|            USA|2023-12-19 07:38:...|\n|51cf0089ac3e1beeb...|            Engineer| 10+ years|      MORTGAGE|      65000.0|           SD|577xx|              C|       C1|       Not Verified|       314017.0|      Individual|               NULL|                     NULL|            USA|2023-12-19 07:38:...|\n|a03d0c087a03631e3...|        truck driver| 10+ years|      MORTGAGE|      63000.0|           IL|605xx|              B|       B4|       Not Verified|       218418.0|       Joint App|            71000.0|             Not Verified|            USA|2023-12-19 07:38:...|\n|edb5d90fadb8d0754...|Information Syste...| 10+ years|      MORTGAGE|     110000.0|           NJ|076xx|              C|       C5|    Source Verified|       381215.0|      Individual|               NULL|                     NULL|            USA|2023-12-19 07:38:...|\n|19ef0a55233f5d753...| Contract Specialist|   3 years|      MORTGAGE|     104433.0|           PA|174xx|              F|       F1|    Source Verified|       439570.0|      Individual|               NULL|                     NULL|            USA|2023-12-19 07:38:...|\n|e8330c3d08626dd84...|Veterinary Tecnician|   4 years|          RENT|      34000.0|           GA|300xx|              C|       C3|    Source Verified|        16900.0|      Individual|               NULL|                     NULL|            USA|2023-12-19 07:38:...|\n|1fcc933dd0548c623...|Vice President of...| 10+ years|      MORTGAGE|     180000.0|           MN|550xx|              B|       B2|       Not Verified|       388852.0|      Individual|               NULL|                     NULL|            USA|2023-12-19 07:38:...|\n|ac829342586dce5b5...|         road driver| 10+ years|      MORTGAGE|      85000.0|           SC|293xx|              B|       B1|       Not Verified|       193390.0|      Individual|               NULL|                     NULL|            USA|2023-12-19 07:38:...|\n|fc961d7d8940475a1...|     SERVICE MANAGER|   6 years|          RENT|      85000.0|           PA|160xx|              A|       A2|       Not Verified|        61099.0|      Individual|               NULL|                     NULL|            USA|2023-12-19 07:38:...|\n|6ff86d8b565871d94...|      Vendor liaison| 10+ years|      MORTGAGE|      42000.0|           RI|029xx|              B|       B5|       Not Verified|       256513.0|      Individual|               NULL|                     NULL|            USA|2023-12-19 07:38:...|\n|aedd29e3627be1278...|  Executive Director|   6 years|      MORTGAGE|      95000.0|           SC|290xx|              C|       C2|       Not Verified|       436841.0|      Individual|               NULL|                     NULL|            USA|2023-12-19 07:38:...|\n|5b42be481ab00e358...|Senior Structural...|    1 year|      MORTGAGE|      70000.0|           TX|786xx|              C|       C2|       Not Verified|       309638.0|      Individual|               NULL|                     NULL|            USA|2023-12-19 07:38:...|\n|45da7ecd0535b4243...|   Logistics Manager|   3 years|      MORTGAGE|      64000.0|           NC|275xx|              C|       C2|       Not Verified|       372109.0|      Individual|               NULL|                     NULL|            USA|2023-12-19 07:38:...|\n|618a72079f76d6511...|    Software Manager|   7 years|          RENT|     150000.0|           CA|916xx|              E|       E2|       Not Verified|        65819.0|      Individual|               NULL|                     NULL|            USA|2023-12-19 07:38:...|\n|b737dd01c078e95e2...|      Senior Manager| 10+ years|      MORTGAGE|      92000.0|           NC|275xx|              A|       A2|       Not Verified|       304003.0|      Individual|               NULL|                     NULL|            USA|2023-12-19 07:38:...|\n|db57cdd3f81b2501a...|                tech|   8 years|      MORTGAGE|      60000.0|           SC|299xx|              A|       A4|       Not Verified|        88635.0|      Individual|               NULL|                     NULL|            USA|2023-12-19 07:38:...|\n|7ecc9d571f7dff321...|       Sales Manager| 10+ years|      MORTGAGE|     109000.0|           VA|226xx|              A|       A4|       Not Verified|       373572.0|      Individual|               NULL|                     NULL|            USA|2023-12-19 07:38:...|\n|0704182cf7ed93107...|               GS-11| 10+ years|      MORTGAGE|     112000.0|           AZ|856xx|              C|       C1|       Not Verified|       309710.0|      Individual|               NULL|                     NULL|            USA|2023-12-19 07:38:...|\n|7b70a7dd291cc5bb5...|             Teacher|   5 years|          RENT|      64000.0|           NY|117xx|              B|       B1|       Not Verified|        93962.0|      Individual|               NULL|                     NULL|            USA|2023-12-19 07:38:...|\n|d5bbe44369cec752e...| Program Coordinator|   8 years|          RENT|      55000.0|           IN|462xx|              E|       E3|           Verified|        38998.0|      Individual|               NULL|                     NULL|            USA|2023-12-19 07:38:...|\n+--------------------+--------------------+----------+--------------+-------------+-------------+-----+---------------+---------+-------------------+---------------+----------------+-------------------+-------------------------+---------------+--------------------+\nonly showing top 20 rows\n\n"
     ]
    }
   ],
   "source": [
    "customers_df_ingested_ts = customers_df_renamed.withColumn(\"ingest_date\", current_timestamp())\n",
    "customers_df_ingested_ts.show()"
   ]
  },
  {
   "cell_type": "code",
   "execution_count": 0,
   "metadata": {
    "application/vnd.databricks.v1+cell": {
     "cellMetadata": {
      "byteLimit": 2048000,
      "rowLimit": 10000
     },
     "inputWidgets": {},
     "nuid": "bf1b732a-b072-4a85-832a-fa82491397d0",
     "showTitle": false,
     "title": ""
    }
   },
   "outputs": [
    {
     "output_type": "execute_result",
     "data": {
      "text/plain": [
       "2260701"
      ]
     },
     "execution_count": 17,
     "metadata": {},
     "output_type": "execute_result"
    }
   ],
   "source": [
    "customers_df_ingested_ts.count()"
   ]
  },
  {
   "cell_type": "markdown",
   "metadata": {
    "application/vnd.databricks.v1+cell": {
     "cellMetadata": {},
     "inputWidgets": {},
     "nuid": "e0c6f818-b877-48ea-936e-1f0e48462a28",
     "showTitle": false,
     "title": ""
    }
   },
   "source": [
    "####  Remove complete duplicate rows"
   ]
  },
  {
   "cell_type": "code",
   "execution_count": 0,
   "metadata": {
    "application/vnd.databricks.v1+cell": {
     "cellMetadata": {
      "byteLimit": 2048000,
      "rowLimit": 10000
     },
     "inputWidgets": {},
     "nuid": "bd3e92be-c2ce-4f6b-9c89-0bf530d022b7",
     "showTitle": false,
     "title": ""
    }
   },
   "outputs": [],
   "source": [
    "customers_df_ingested_ts_distinct = customers_df_ingested_ts.distinct()\n",
    "customers_df_ingested_ts_distinct_count = customers_df_ingested_ts_distinct.count()\n",
    "customers_df_ingested_ts_count = customers_df_ingested_ts.count()\n",
    "duplicates = customers_df_ingested_ts_count - customers_df_ingested_ts_distinct_count"
   ]
  },
  {
   "cell_type": "code",
   "execution_count": 0,
   "metadata": {
    "application/vnd.databricks.v1+cell": {
     "cellMetadata": {
      "byteLimit": 2048000,
      "rowLimit": 10000
     },
     "inputWidgets": {},
     "nuid": "3f1bc355-aee4-4d1a-9dd6-774f4bd15258",
     "showTitle": false,
     "title": ""
    }
   },
   "outputs": [
    {
     "output_type": "stream",
     "name": "stdout",
     "output_type": "stream",
     "text": [
      "Total no of rows : 2260701\nTotal no of distinct rows : 2260638\nTotal no of duplicate rows : 63 \n\n\n ************************** no of duplicate rows are 63  **************************\n"
     ]
    }
   ],
   "source": [
    "print(f\"Total no of rows : {customers_df_ingested_ts_count}\")\n",
    "print(f\"Total no of distinct rows : {customers_df_ingested_ts_distinct_count}\")\n",
    "print(f\"Total no of duplicate rows : {duplicates} \\n\")\n",
    "print(f\"\\n ************************** no of duplicate rows are {duplicates}  **************************\")"
   ]
  },
  {
   "cell_type": "code",
   "execution_count": 0,
   "metadata": {
    "application/vnd.databricks.v1+cell": {
     "cellMetadata": {
      "byteLimit": 2048000,
      "rowLimit": 10000
     },
     "inputWidgets": {},
     "nuid": "5502d146-2d9f-4cbf-8ebc-f96ee7f1e136",
     "showTitle": false,
     "title": ""
    }
   },
   "outputs": [
    {
     "output_type": "stream",
     "name": "stdout",
     "output_type": "stream",
     "text": [
      "+--------------------+--------------------+----------+--------------+-------------+-------------+-----+---------------+---------+-------------------+---------------+----------------+-------------------+-------------------------+---------------+--------------------+\n|           member_id|           emp_title|emp_length|home_ownership|annual_income|address_state|grade|address_zipcode|sub_grade|verification_status|tot_hi_cred_lim|application_type|joint_annual_income|verification_status_joint|address_country|         ingest_date|\n+--------------------+--------------------+----------+--------------+-------------+-------------+-----+---------------+---------+-------------------+---------------+----------------+-------------------+-------------------------+---------------+--------------------+\n|af2c01919a67ad070...|             leadman| 10+ years|      MORTGAGE|      55000.0|           PA|190xx|              C|       C4|       Not Verified|       178050.0|      Individual|               NULL|                     NULL|            USA|2023-12-19 08:06:...|\n|51cf0089ac3e1beeb...|            Engineer| 10+ years|      MORTGAGE|      65000.0|           SD|577xx|              C|       C1|       Not Verified|       314017.0|      Individual|               NULL|                     NULL|            USA|2023-12-19 08:06:...|\n|a03d0c087a03631e3...|        truck driver| 10+ years|      MORTGAGE|      63000.0|           IL|605xx|              B|       B4|       Not Verified|       218418.0|       Joint App|            71000.0|             Not Verified|            USA|2023-12-19 08:06:...|\n|edb5d90fadb8d0754...|Information Syste...| 10+ years|      MORTGAGE|     110000.0|           NJ|076xx|              C|       C5|    Source Verified|       381215.0|      Individual|               NULL|                     NULL|            USA|2023-12-19 08:06:...|\n|19ef0a55233f5d753...| Contract Specialist|   3 years|      MORTGAGE|     104433.0|           PA|174xx|              F|       F1|    Source Verified|       439570.0|      Individual|               NULL|                     NULL|            USA|2023-12-19 08:06:...|\n|e8330c3d08626dd84...|Veterinary Tecnician|   4 years|          RENT|      34000.0|           GA|300xx|              C|       C3|    Source Verified|        16900.0|      Individual|               NULL|                     NULL|            USA|2023-12-19 08:06:...|\n|1fcc933dd0548c623...|Vice President of...| 10+ years|      MORTGAGE|     180000.0|           MN|550xx|              B|       B2|       Not Verified|       388852.0|      Individual|               NULL|                     NULL|            USA|2023-12-19 08:06:...|\n|ac829342586dce5b5...|         road driver| 10+ years|      MORTGAGE|      85000.0|           SC|293xx|              B|       B1|       Not Verified|       193390.0|      Individual|               NULL|                     NULL|            USA|2023-12-19 08:06:...|\n|fc961d7d8940475a1...|     SERVICE MANAGER|   6 years|          RENT|      85000.0|           PA|160xx|              A|       A2|       Not Verified|        61099.0|      Individual|               NULL|                     NULL|            USA|2023-12-19 08:06:...|\n|6ff86d8b565871d94...|      Vendor liaison| 10+ years|      MORTGAGE|      42000.0|           RI|029xx|              B|       B5|       Not Verified|       256513.0|      Individual|               NULL|                     NULL|            USA|2023-12-19 08:06:...|\n|aedd29e3627be1278...|  Executive Director|   6 years|      MORTGAGE|      95000.0|           SC|290xx|              C|       C2|       Not Verified|       436841.0|      Individual|               NULL|                     NULL|            USA|2023-12-19 08:06:...|\n|5b42be481ab00e358...|Senior Structural...|    1 year|      MORTGAGE|      70000.0|           TX|786xx|              C|       C2|       Not Verified|       309638.0|      Individual|               NULL|                     NULL|            USA|2023-12-19 08:06:...|\n|45da7ecd0535b4243...|   Logistics Manager|   3 years|      MORTGAGE|      64000.0|           NC|275xx|              C|       C2|       Not Verified|       372109.0|      Individual|               NULL|                     NULL|            USA|2023-12-19 08:06:...|\n|618a72079f76d6511...|    Software Manager|   7 years|          RENT|     150000.0|           CA|916xx|              E|       E2|       Not Verified|        65819.0|      Individual|               NULL|                     NULL|            USA|2023-12-19 08:06:...|\n|b737dd01c078e95e2...|      Senior Manager| 10+ years|      MORTGAGE|      92000.0|           NC|275xx|              A|       A2|       Not Verified|       304003.0|      Individual|               NULL|                     NULL|            USA|2023-12-19 08:06:...|\n|db57cdd3f81b2501a...|                tech|   8 years|      MORTGAGE|      60000.0|           SC|299xx|              A|       A4|       Not Verified|        88635.0|      Individual|               NULL|                     NULL|            USA|2023-12-19 08:06:...|\n|7ecc9d571f7dff321...|       Sales Manager| 10+ years|      MORTGAGE|     109000.0|           VA|226xx|              A|       A4|       Not Verified|       373572.0|      Individual|               NULL|                     NULL|            USA|2023-12-19 08:06:...|\n|0704182cf7ed93107...|               GS-11| 10+ years|      MORTGAGE|     112000.0|           AZ|856xx|              C|       C1|       Not Verified|       309710.0|      Individual|               NULL|                     NULL|            USA|2023-12-19 08:06:...|\n|7b70a7dd291cc5bb5...|             Teacher|   5 years|          RENT|      64000.0|           NY|117xx|              B|       B1|       Not Verified|        93962.0|      Individual|               NULL|                     NULL|            USA|2023-12-19 08:06:...|\n|d5bbe44369cec752e...| Program Coordinator|   8 years|          RENT|      55000.0|           IN|462xx|              E|       E3|           Verified|        38998.0|      Individual|               NULL|                     NULL|            USA|2023-12-19 08:06:...|\n+--------------------+--------------------+----------+--------------+-------------+-------------+-----+---------------+---------+-------------------+---------------+----------------+-------------------+-------------------------+---------------+--------------------+\nonly showing top 20 rows\n\n"
     ]
    }
   ],
   "source": [
    "customers_filtered = customers_df_ingested_ts.filter(\"annual_income is not null\")\n",
    "customers_filtered.show()"
   ]
  },
  {
   "cell_type": "code",
   "execution_count": 0,
   "metadata": {
    "application/vnd.databricks.v1+cell": {
     "cellMetadata": {
      "byteLimit": 2048000,
      "rowLimit": 10000
     },
     "inputWidgets": {},
     "nuid": "4cf1584c-2789-4b06-ac05-1d491147809b",
     "showTitle": false,
     "title": ""
    }
   },
   "outputs": [
    {
     "output_type": "execute_result",
     "data": {
      "text/plain": [
       "0"
      ]
     },
     "execution_count": 33,
     "metadata": {},
     "output_type": "execute_result"
    }
   ],
   "source": [
    "customers_filtered.filter(\"annual_income is null\").count()"
   ]
  },
  {
   "cell_type": "markdown",
   "metadata": {
    "application/vnd.databricks.v1+cell": {
     "cellMetadata": {},
     "inputWidgets": {},
     "nuid": "1aacbaf7-fb7d-4fdd-86a0-18c8a6e5eaa3",
     "showTitle": false,
     "title": ""
    }
   },
   "source": [
    "### convert emp_length to integer"
   ]
  },
  {
   "cell_type": "code",
   "execution_count": 0,
   "metadata": {
    "application/vnd.databricks.v1+cell": {
     "cellMetadata": {
      "byteLimit": 2048000,
      "rowLimit": 10000
     },
     "inputWidgets": {},
     "nuid": "8484f6b2-0e32-405c-bd3a-ca962de5ec42",
     "showTitle": false,
     "title": ""
    }
   },
   "outputs": [
    {
     "output_type": "stream",
     "name": "stdout",
     "output_type": "stream",
     "text": [
      "+--------------------+--------------------+----------+--------------+-------------+-------------+-----+---------------+---------+-------------------+---------------+----------------+-------------------+-------------------------+---------------+--------------------+\n|           member_id|           emp_title|emp_length|home_ownership|annual_income|address_state|grade|address_zipcode|sub_grade|verification_status|tot_hi_cred_lim|application_type|joint_annual_income|verification_status_joint|address_country|         ingest_date|\n+--------------------+--------------------+----------+--------------+-------------+-------------+-----+---------------+---------+-------------------+---------------+----------------+-------------------+-------------------------+---------------+--------------------+\n|af2c01919a67ad070...|             leadman|        10|      MORTGAGE|      55000.0|           PA|190xx|              C|       C4|       Not Verified|       178050.0|      Individual|               NULL|                     NULL|            USA|2023-12-19 08:12:...|\n|51cf0089ac3e1beeb...|            Engineer|        10|      MORTGAGE|      65000.0|           SD|577xx|              C|       C1|       Not Verified|       314017.0|      Individual|               NULL|                     NULL|            USA|2023-12-19 08:12:...|\n|a03d0c087a03631e3...|        truck driver|        10|      MORTGAGE|      63000.0|           IL|605xx|              B|       B4|       Not Verified|       218418.0|       Joint App|            71000.0|             Not Verified|            USA|2023-12-19 08:12:...|\n|edb5d90fadb8d0754...|Information Syste...|        10|      MORTGAGE|     110000.0|           NJ|076xx|              C|       C5|    Source Verified|       381215.0|      Individual|               NULL|                     NULL|            USA|2023-12-19 08:12:...|\n|19ef0a55233f5d753...| Contract Specialist|         3|      MORTGAGE|     104433.0|           PA|174xx|              F|       F1|    Source Verified|       439570.0|      Individual|               NULL|                     NULL|            USA|2023-12-19 08:12:...|\n|e8330c3d08626dd84...|Veterinary Tecnician|         4|          RENT|      34000.0|           GA|300xx|              C|       C3|    Source Verified|        16900.0|      Individual|               NULL|                     NULL|            USA|2023-12-19 08:12:...|\n|1fcc933dd0548c623...|Vice President of...|        10|      MORTGAGE|     180000.0|           MN|550xx|              B|       B2|       Not Verified|       388852.0|      Individual|               NULL|                     NULL|            USA|2023-12-19 08:12:...|\n|ac829342586dce5b5...|         road driver|        10|      MORTGAGE|      85000.0|           SC|293xx|              B|       B1|       Not Verified|       193390.0|      Individual|               NULL|                     NULL|            USA|2023-12-19 08:12:...|\n|fc961d7d8940475a1...|     SERVICE MANAGER|         6|          RENT|      85000.0|           PA|160xx|              A|       A2|       Not Verified|        61099.0|      Individual|               NULL|                     NULL|            USA|2023-12-19 08:12:...|\n|6ff86d8b565871d94...|      Vendor liaison|        10|      MORTGAGE|      42000.0|           RI|029xx|              B|       B5|       Not Verified|       256513.0|      Individual|               NULL|                     NULL|            USA|2023-12-19 08:12:...|\n|aedd29e3627be1278...|  Executive Director|         6|      MORTGAGE|      95000.0|           SC|290xx|              C|       C2|       Not Verified|       436841.0|      Individual|               NULL|                     NULL|            USA|2023-12-19 08:12:...|\n|5b42be481ab00e358...|Senior Structural...|         1|      MORTGAGE|      70000.0|           TX|786xx|              C|       C2|       Not Verified|       309638.0|      Individual|               NULL|                     NULL|            USA|2023-12-19 08:12:...|\n|45da7ecd0535b4243...|   Logistics Manager|         3|      MORTGAGE|      64000.0|           NC|275xx|              C|       C2|       Not Verified|       372109.0|      Individual|               NULL|                     NULL|            USA|2023-12-19 08:12:...|\n|618a72079f76d6511...|    Software Manager|         7|          RENT|     150000.0|           CA|916xx|              E|       E2|       Not Verified|        65819.0|      Individual|               NULL|                     NULL|            USA|2023-12-19 08:12:...|\n|b737dd01c078e95e2...|      Senior Manager|        10|      MORTGAGE|      92000.0|           NC|275xx|              A|       A2|       Not Verified|       304003.0|      Individual|               NULL|                     NULL|            USA|2023-12-19 08:12:...|\n|db57cdd3f81b2501a...|                tech|         8|      MORTGAGE|      60000.0|           SC|299xx|              A|       A4|       Not Verified|        88635.0|      Individual|               NULL|                     NULL|            USA|2023-12-19 08:12:...|\n|7ecc9d571f7dff321...|       Sales Manager|        10|      MORTGAGE|     109000.0|           VA|226xx|              A|       A4|       Not Verified|       373572.0|      Individual|               NULL|                     NULL|            USA|2023-12-19 08:12:...|\n|0704182cf7ed93107...|               GS-11|        10|      MORTGAGE|     112000.0|           AZ|856xx|              C|       C1|       Not Verified|       309710.0|      Individual|               NULL|                     NULL|            USA|2023-12-19 08:12:...|\n|7b70a7dd291cc5bb5...|             Teacher|         5|          RENT|      64000.0|           NY|117xx|              B|       B1|       Not Verified|        93962.0|      Individual|               NULL|                     NULL|            USA|2023-12-19 08:12:...|\n|d5bbe44369cec752e...| Program Coordinator|         8|          RENT|      55000.0|           IN|462xx|              E|       E3|           Verified|        38998.0|      Individual|               NULL|                     NULL|            USA|2023-12-19 08:12:...|\n+--------------------+--------------------+----------+--------------+-------------+-------------+-----+---------------+---------+-------------------+---------------+----------------+-------------------+-------------------------+---------------+--------------------+\nonly showing top 20 rows\n\n"
     ]
    }
   ],
   "source": [
    "customers_emp_length_cleaned = customers_filtered.withColumn(\"emp_length\", regexp_replace(col(\"emp_length\"), \"(\\D)\", \"\"))\n",
    "customers_emp_length_cleaned.show()"
   ]
  },
  {
   "cell_type": "code",
   "execution_count": 0,
   "metadata": {
    "application/vnd.databricks.v1+cell": {
     "cellMetadata": {
      "byteLimit": 2048000,
      "rowLimit": 10000
     },
     "inputWidgets": {},
     "nuid": "018c65ed-dfc5-43c3-9a0c-9976e0bc0cdc",
     "showTitle": false,
     "title": ""
    }
   },
   "outputs": [
    {
     "output_type": "stream",
     "name": "stdout",
     "output_type": "stream",
     "text": [
      "+--------------------+--------------------+----------+--------------+-------------+-------------+-----+---------------+---------+-------------------+---------------+----------------+-------------------+-------------------------+---------------+--------------------+\n|           member_id|           emp_title|emp_length|home_ownership|annual_income|address_state|grade|address_zipcode|sub_grade|verification_status|tot_hi_cred_lim|application_type|joint_annual_income|verification_status_joint|address_country|         ingest_date|\n+--------------------+--------------------+----------+--------------+-------------+-------------+-----+---------------+---------+-------------------+---------------+----------------+-------------------+-------------------------+---------------+--------------------+\n|af2c01919a67ad070...|             leadman|        10|      MORTGAGE|      55000.0|           PA|190xx|              C|       C4|       Not Verified|       178050.0|      Individual|               NULL|                     NULL|            USA|2023-12-19 08:14:...|\n|51cf0089ac3e1beeb...|            Engineer|        10|      MORTGAGE|      65000.0|           SD|577xx|              C|       C1|       Not Verified|       314017.0|      Individual|               NULL|                     NULL|            USA|2023-12-19 08:14:...|\n|a03d0c087a03631e3...|        truck driver|        10|      MORTGAGE|      63000.0|           IL|605xx|              B|       B4|       Not Verified|       218418.0|       Joint App|            71000.0|             Not Verified|            USA|2023-12-19 08:14:...|\n|edb5d90fadb8d0754...|Information Syste...|        10|      MORTGAGE|     110000.0|           NJ|076xx|              C|       C5|    Source Verified|       381215.0|      Individual|               NULL|                     NULL|            USA|2023-12-19 08:14:...|\n|19ef0a55233f5d753...| Contract Specialist|         3|      MORTGAGE|     104433.0|           PA|174xx|              F|       F1|    Source Verified|       439570.0|      Individual|               NULL|                     NULL|            USA|2023-12-19 08:14:...|\n|e8330c3d08626dd84...|Veterinary Tecnician|         4|          RENT|      34000.0|           GA|300xx|              C|       C3|    Source Verified|        16900.0|      Individual|               NULL|                     NULL|            USA|2023-12-19 08:14:...|\n|1fcc933dd0548c623...|Vice President of...|        10|      MORTGAGE|     180000.0|           MN|550xx|              B|       B2|       Not Verified|       388852.0|      Individual|               NULL|                     NULL|            USA|2023-12-19 08:14:...|\n|ac829342586dce5b5...|         road driver|        10|      MORTGAGE|      85000.0|           SC|293xx|              B|       B1|       Not Verified|       193390.0|      Individual|               NULL|                     NULL|            USA|2023-12-19 08:14:...|\n|fc961d7d8940475a1...|     SERVICE MANAGER|         6|          RENT|      85000.0|           PA|160xx|              A|       A2|       Not Verified|        61099.0|      Individual|               NULL|                     NULL|            USA|2023-12-19 08:14:...|\n|6ff86d8b565871d94...|      Vendor liaison|        10|      MORTGAGE|      42000.0|           RI|029xx|              B|       B5|       Not Verified|       256513.0|      Individual|               NULL|                     NULL|            USA|2023-12-19 08:14:...|\n|aedd29e3627be1278...|  Executive Director|         6|      MORTGAGE|      95000.0|           SC|290xx|              C|       C2|       Not Verified|       436841.0|      Individual|               NULL|                     NULL|            USA|2023-12-19 08:14:...|\n|5b42be481ab00e358...|Senior Structural...|         1|      MORTGAGE|      70000.0|           TX|786xx|              C|       C2|       Not Verified|       309638.0|      Individual|               NULL|                     NULL|            USA|2023-12-19 08:14:...|\n|45da7ecd0535b4243...|   Logistics Manager|         3|      MORTGAGE|      64000.0|           NC|275xx|              C|       C2|       Not Verified|       372109.0|      Individual|               NULL|                     NULL|            USA|2023-12-19 08:14:...|\n|618a72079f76d6511...|    Software Manager|         7|          RENT|     150000.0|           CA|916xx|              E|       E2|       Not Verified|        65819.0|      Individual|               NULL|                     NULL|            USA|2023-12-19 08:14:...|\n|b737dd01c078e95e2...|      Senior Manager|        10|      MORTGAGE|      92000.0|           NC|275xx|              A|       A2|       Not Verified|       304003.0|      Individual|               NULL|                     NULL|            USA|2023-12-19 08:14:...|\n|db57cdd3f81b2501a...|                tech|         8|      MORTGAGE|      60000.0|           SC|299xx|              A|       A4|       Not Verified|        88635.0|      Individual|               NULL|                     NULL|            USA|2023-12-19 08:14:...|\n|7ecc9d571f7dff321...|       Sales Manager|        10|      MORTGAGE|     109000.0|           VA|226xx|              A|       A4|       Not Verified|       373572.0|      Individual|               NULL|                     NULL|            USA|2023-12-19 08:14:...|\n|0704182cf7ed93107...|               GS-11|        10|      MORTGAGE|     112000.0|           AZ|856xx|              C|       C1|       Not Verified|       309710.0|      Individual|               NULL|                     NULL|            USA|2023-12-19 08:14:...|\n|7b70a7dd291cc5bb5...|             Teacher|         5|          RENT|      64000.0|           NY|117xx|              B|       B1|       Not Verified|        93962.0|      Individual|               NULL|                     NULL|            USA|2023-12-19 08:14:...|\n|d5bbe44369cec752e...| Program Coordinator|         8|          RENT|      55000.0|           IN|462xx|              E|       E3|           Verified|        38998.0|      Individual|               NULL|                     NULL|            USA|2023-12-19 08:14:...|\n+--------------------+--------------------+----------+--------------+-------------+-------------+-----+---------------+---------+-------------------+---------------+----------------+-------------------+-------------------------+---------------+--------------------+\nonly showing top 20 rows\n\n"
     ]
    }
   ],
   "source": [
    "customers_emp_length_cleaned = customers_emp_length_cleaned.withColumn(\"emp_length\", customers_emp_length_cleaned.emp_length.cast(\"int\"))\n",
    "customers_emp_length_cleaned.show()"
   ]
  },
  {
   "cell_type": "code",
   "execution_count": 0,
   "metadata": {
    "application/vnd.databricks.v1+cell": {
     "cellMetadata": {
      "byteLimit": 2048000,
      "rowLimit": 10000
     },
     "inputWidgets": {},
     "nuid": "0dab5233-e9fb-4efe-84df-ff59b95e4bff",
     "showTitle": false,
     "title": ""
    }
   },
   "outputs": [
    {
     "output_type": "stream",
     "name": "stdout",
     "output_type": "stream",
     "text": [
      "root\n |-- member_id: string (nullable = true)\n |-- emp_title: string (nullable = true)\n |-- emp_length: integer (nullable = true)\n |-- home_ownership: string (nullable = true)\n |-- annual_income: float (nullable = true)\n |-- address_state: string (nullable = true)\n |-- grade: string (nullable = true)\n |-- address_zipcode: string (nullable = true)\n |-- sub_grade: string (nullable = true)\n |-- verification_status: string (nullable = true)\n |-- tot_hi_cred_lim: float (nullable = true)\n |-- application_type: string (nullable = true)\n |-- joint_annual_income: float (nullable = true)\n |-- verification_status_joint: string (nullable = true)\n |-- address_country: string (nullable = true)\n |-- ingest_date: timestamp (nullable = false)\n\n"
     ]
    }
   ],
   "source": [
    "customers_emp_length_cleaned.printSchema()"
   ]
  },
  {
   "cell_type": "markdown",
   "metadata": {
    "application/vnd.databricks.v1+cell": {
     "cellMetadata": {},
     "inputWidgets": {},
     "nuid": "2c330cac-6bdd-4008-a5ba-512db2754551",
     "showTitle": false,
     "title": ""
    }
   },
   "source": [
    "\n",
    "# Replace al the nulls in emp_length with average of the column"
   ]
  },
  {
   "cell_type": "code",
   "execution_count": 0,
   "metadata": {
    "application/vnd.databricks.v1+cell": {
     "cellMetadata": {
      "byteLimit": 2048000,
      "rowLimit": 10000
     },
     "inputWidgets": {},
     "nuid": "374850a2-401d-4c8e-ba18-74a987c721b8",
     "showTitle": false,
     "title": ""
    }
   },
   "outputs": [
    {
     "output_type": "execute_result",
     "data": {
      "text/plain": [
       "146907"
      ]
     },
     "execution_count": 38,
     "metadata": {},
     "output_type": "execute_result"
    }
   ],
   "source": [
    "customers_emp_length_cleaned.filter(\"emp_length is null\").count()"
   ]
  },
  {
   "cell_type": "code",
   "execution_count": 0,
   "metadata": {
    "application/vnd.databricks.v1+cell": {
     "cellMetadata": {
      "byteLimit": 2048000,
      "rowLimit": 10000
     },
     "inputWidgets": {},
     "nuid": "510d7a8f-c1d0-4965-b4e9-ecc01e9d9ed5",
     "showTitle": false,
     "title": ""
    }
   },
   "outputs": [
    {
     "output_type": "stream",
     "name": "stdout",
     "output_type": "stream",
     "text": [
      "The average of column_name is: 6.021252216433685\n"
     ]
    }
   ],
   "source": [
    "average = customers_emp_length_cleaned.select(avg(\"emp_length\")).collect()[0][0]\n",
    "\n",
    "print(f\"The average of column_name is: {average}\")"
   ]
  },
  {
   "cell_type": "code",
   "execution_count": 0,
   "metadata": {
    "application/vnd.databricks.v1+cell": {
     "cellMetadata": {
      "byteLimit": 2048000,
      "rowLimit": 10000
     },
     "inputWidgets": {},
     "nuid": "293e635b-cb46-41ab-befd-47cb13c67c2b",
     "showTitle": false,
     "title": ""
    }
   },
   "outputs": [
    {
     "output_type": "stream",
     "name": "stdout",
     "output_type": "stream",
     "text": [
      "+--------------------+--------------------+----------+--------------+-------------+-------------+-----+---------------+---------+-------------------+---------------+----------------+-------------------+-------------------------+---------------+--------------------+\n|           member_id|           emp_title|emp_length|home_ownership|annual_income|address_state|grade|address_zipcode|sub_grade|verification_status|tot_hi_cred_lim|application_type|joint_annual_income|verification_status_joint|address_country|         ingest_date|\n+--------------------+--------------------+----------+--------------+-------------+-------------+-----+---------------+---------+-------------------+---------------+----------------+-------------------+-------------------------+---------------+--------------------+\n|af2c01919a67ad070...|             leadman|        10|      MORTGAGE|      55000.0|           PA|190xx|              C|       C4|       Not Verified|       178050.0|      Individual|               NULL|                     NULL|            USA|2023-12-19 08:24:...|\n|51cf0089ac3e1beeb...|            Engineer|        10|      MORTGAGE|      65000.0|           SD|577xx|              C|       C1|       Not Verified|       314017.0|      Individual|               NULL|                     NULL|            USA|2023-12-19 08:24:...|\n|a03d0c087a03631e3...|        truck driver|        10|      MORTGAGE|      63000.0|           IL|605xx|              B|       B4|       Not Verified|       218418.0|       Joint App|            71000.0|             Not Verified|            USA|2023-12-19 08:24:...|\n|edb5d90fadb8d0754...|Information Syste...|        10|      MORTGAGE|     110000.0|           NJ|076xx|              C|       C5|    Source Verified|       381215.0|      Individual|               NULL|                     NULL|            USA|2023-12-19 08:24:...|\n|19ef0a55233f5d753...| Contract Specialist|         3|      MORTGAGE|     104433.0|           PA|174xx|              F|       F1|    Source Verified|       439570.0|      Individual|               NULL|                     NULL|            USA|2023-12-19 08:24:...|\n|e8330c3d08626dd84...|Veterinary Tecnician|         4|          RENT|      34000.0|           GA|300xx|              C|       C3|    Source Verified|        16900.0|      Individual|               NULL|                     NULL|            USA|2023-12-19 08:24:...|\n|1fcc933dd0548c623...|Vice President of...|        10|      MORTGAGE|     180000.0|           MN|550xx|              B|       B2|       Not Verified|       388852.0|      Individual|               NULL|                     NULL|            USA|2023-12-19 08:24:...|\n|ac829342586dce5b5...|         road driver|        10|      MORTGAGE|      85000.0|           SC|293xx|              B|       B1|       Not Verified|       193390.0|      Individual|               NULL|                     NULL|            USA|2023-12-19 08:24:...|\n|fc961d7d8940475a1...|     SERVICE MANAGER|         6|          RENT|      85000.0|           PA|160xx|              A|       A2|       Not Verified|        61099.0|      Individual|               NULL|                     NULL|            USA|2023-12-19 08:24:...|\n|6ff86d8b565871d94...|      Vendor liaison|        10|      MORTGAGE|      42000.0|           RI|029xx|              B|       B5|       Not Verified|       256513.0|      Individual|               NULL|                     NULL|            USA|2023-12-19 08:24:...|\n|aedd29e3627be1278...|  Executive Director|         6|      MORTGAGE|      95000.0|           SC|290xx|              C|       C2|       Not Verified|       436841.0|      Individual|               NULL|                     NULL|            USA|2023-12-19 08:24:...|\n|5b42be481ab00e358...|Senior Structural...|         1|      MORTGAGE|      70000.0|           TX|786xx|              C|       C2|       Not Verified|       309638.0|      Individual|               NULL|                     NULL|            USA|2023-12-19 08:24:...|\n|45da7ecd0535b4243...|   Logistics Manager|         3|      MORTGAGE|      64000.0|           NC|275xx|              C|       C2|       Not Verified|       372109.0|      Individual|               NULL|                     NULL|            USA|2023-12-19 08:24:...|\n|618a72079f76d6511...|    Software Manager|         7|          RENT|     150000.0|           CA|916xx|              E|       E2|       Not Verified|        65819.0|      Individual|               NULL|                     NULL|            USA|2023-12-19 08:24:...|\n|b737dd01c078e95e2...|      Senior Manager|        10|      MORTGAGE|      92000.0|           NC|275xx|              A|       A2|       Not Verified|       304003.0|      Individual|               NULL|                     NULL|            USA|2023-12-19 08:24:...|\n|db57cdd3f81b2501a...|                tech|         8|      MORTGAGE|      60000.0|           SC|299xx|              A|       A4|       Not Verified|        88635.0|      Individual|               NULL|                     NULL|            USA|2023-12-19 08:24:...|\n|7ecc9d571f7dff321...|       Sales Manager|        10|      MORTGAGE|     109000.0|           VA|226xx|              A|       A4|       Not Verified|       373572.0|      Individual|               NULL|                     NULL|            USA|2023-12-19 08:24:...|\n|0704182cf7ed93107...|               GS-11|        10|      MORTGAGE|     112000.0|           AZ|856xx|              C|       C1|       Not Verified|       309710.0|      Individual|               NULL|                     NULL|            USA|2023-12-19 08:24:...|\n|7b70a7dd291cc5bb5...|             Teacher|         5|          RENT|      64000.0|           NY|117xx|              B|       B1|       Not Verified|        93962.0|      Individual|               NULL|                     NULL|            USA|2023-12-19 08:24:...|\n|d5bbe44369cec752e...| Program Coordinator|         8|          RENT|      55000.0|           IN|462xx|              E|       E3|           Verified|        38998.0|      Individual|               NULL|                     NULL|            USA|2023-12-19 08:24:...|\n+--------------------+--------------------+----------+--------------+-------------+-------------+-----+---------------+---------+-------------------+---------------+----------------+-------------------+-------------------------+---------------+--------------------+\nonly showing top 20 rows\n\n"
     ]
    }
   ],
   "source": [
    "customers_emp_length_cleaned_average = customers_emp_length_cleaned.na.fill(average, subset=[\"emp_length\"])\n",
    "customers_emp_length_cleaned_average.show()"
   ]
  },
  {
   "cell_type": "code",
   "execution_count": 0,
   "metadata": {
    "application/vnd.databricks.v1+cell": {
     "cellMetadata": {
      "byteLimit": 2048000,
      "rowLimit": 10000
     },
     "inputWidgets": {},
     "nuid": "b7eeb969-8f0b-4e2f-af4c-3e57098b0bc2",
     "showTitle": false,
     "title": ""
    }
   },
   "outputs": [
    {
     "output_type": "execute_result",
     "data": {
      "text/plain": [
       "0"
      ]
     },
     "execution_count": 51,
     "metadata": {},
     "output_type": "execute_result"
    }
   ],
   "source": [
    "customers_emp_length_cleaned_average.filter(\"emp_length is null\").count()"
   ]
  },
  {
   "cell_type": "markdown",
   "metadata": {
    "application/vnd.databricks.v1+cell": {
     "cellMetadata": {},
     "inputWidgets": {},
     "nuid": "211d2c07-7811-45d0-946a-cc4424a9acee",
     "showTitle": false,
     "title": ""
    }
   },
   "source": [
    "\n",
    "####  Clean the address_state(it should be 2 characters only),replace all others with NA"
   ]
  },
  {
   "cell_type": "code",
   "execution_count": 0,
   "metadata": {
    "application/vnd.databricks.v1+cell": {
     "cellMetadata": {
      "byteLimit": 2048000,
      "rowLimit": 10000
     },
     "inputWidgets": {},
     "nuid": "8e572095-d505-4bcf-aa64-f0b206a99fb5",
     "showTitle": false,
     "title": ""
    }
   },
   "outputs": [
    {
     "output_type": "stream",
     "name": "stdout",
     "output_type": "stream",
     "text": [
      "+--------------------+--------------------+----------+--------------+-------------+--------------------+--------------------+---------------+---------+-------------------+---------------+----------------+-------------------+-------------------------+---------------+--------------------+\n|           member_id|           emp_title|emp_length|home_ownership|annual_income|       address_state|               grade|address_zipcode|sub_grade|verification_status|tot_hi_cred_lim|application_type|joint_annual_income|verification_status_joint|address_country|         ingest_date|\n+--------------------+--------------------+----------+--------------+-------------+--------------------+--------------------+---------------+---------+-------------------+---------------+----------------+-------------------+-------------------------+---------------+--------------------+\n|7a3dcd449914b0ab5...|          hr manager|         2|          RENT|      65000.0|  debt_consolidation|as long as it doe...|              D|       D4|    Source Verified|           60.0|             0.0|               NULL|               Individual|            USA|2023-12-19 08:29:...|\n|d1bc7cf9e82205d91...|    City of new york|         5|          RENT|      87996.0|this does not int...|and I have a stea...|              D|       D2|       Not Verified|           NULL|           630.0|                0.0|                      1.0|            USA|2023-12-19 08:29:...|\n|fb03f69b2be3fbf9b...|Borgata Hotel and...|         4|      MORTGAGE|     120000.0|                roof|    home_improvement|              B|       B1|    Source Verified|            0.0|            NULL|                1.0|                     NULL|            USA|2023-12-19 08:29:...|\n|cb3756b3db8168d49...|  Dollar Bay Schools|         6|      MORTGAGE|      80000.0|               499xx|        Property Tax|              B|       B4|    Source Verified|            0.0|             1.0|               NULL|                     NULL|            USA|2023-12-19 08:29:...|\n|5ad73112f63cc0aa4...|                NULL|         3|          RENT|     105000.0|yet Capital One n...|Capital One would...|              B|       B4|           Verified|           NULL|             0.0|                0.0|                   483.57|            USA|2023-12-19 08:29:...|\n|9a203d65287d9dfc5...|   Nims & Associates|         5|      MORTGAGE|      90000.0|we both stand to ...|\"\"set it and forg...|              A|       A4|       Not Verified|           NULL|           710.0|                0.0|                      1.0|            USA|2023-12-19 08:29:...|\n|b35be8e87365b7241...|                 TNG|         1|      MORTGAGE|      81000.0|  debt_consolidation|a homeowner and h...|              E|       E3|           Verified|           NULL|             0.0|               NULL|               Individual|            USA|2023-12-19 08:29:...|\n|697bed14ef726fbcf...|Rhode Island Hosp...|         4|      MORTGAGE|      62000.0|as anything less ...|and the building ...|              E|       E2|           Verified|           NULL|           779.0|              775.0|                     NULL|            USA|2023-12-19 08:29:...|\n|d1f8b184ed31d6c50...| Skate Warehouse LLC|         7|          RENT|      40000.0|profit sharing & ...|full-time salarie...|              D|       D5|    Source Verified|           NULL|        Apr-2012|             176.58|                 Dec-2017|            USA|2023-12-19 08:29:...|\n|2f4a9f80f5c85a6a7...|University of Cal...|         4|          RENT|      37000.0|financially I mad...|most likely due t...|              E|       E4|           Verified|           NULL|             0.0|                0.0|                 Jul-2015|            USA|2023-12-19 08:29:...|\n|69cda775bda911a16...|            CompuCom|         3|          RENT|      43000.0|Pay Off Credit Cards|         credit_card|              D|       D2|           Verified|            0.0|            NULL|                1.0|                     NULL|            USA|2023-12-19 08:29:...|\n|a973582690817eb23...|Concurrent Techno...|        10|      MORTGAGE|     182000.0|and Expense Reimb...|                 W2s|              B|       B3|    Source Verified|           NULL|           500.0|                0.0|                      1.0|            USA|2023-12-19 08:29:...|\n|0ca5c87a640a703c0...|            Raytheon|        10|      MORTGAGE|      79601.6|               750xx|    Get out of Debt!|              E|       E4|           Verified|            0.0|             1.0|               NULL|                     NULL|            USA|2023-12-19 08:29:...|\n|4fffa0f1b127a7f2f...|   AsTech Consulting|         1|          RENT|     120000.0|               949xx|    Wedding and Debt|              E|       E5|    Source Verified|            0.0|             1.0|               NULL|                     NULL|            USA|2023-12-19 08:29:...|\n|1def3474e93e8e3d4...|     VieBridge, Inc.|         2|      MORTGAGE|      90000.0|                 HOA|               taxes|              E|       E2|           Verified|           NULL|        Apr-2013|            8656.75|                 Dec-2017|            USA|2023-12-19 08:29:...|\n|7a8b61a99746947d2...|Helicopter Suppor...|         4|          RENT|      44000.0|but I would like ...|with money I have...|              F|       F1|       Not Verified|           NULL|           659.0|              655.0|                     NULL|            USA|2023-12-19 08:29:...|\n|88417ef3e26f4be81...|         Savvis, Inc|        10|      MORTGAGE|      57000.0|equal time. <br/>...|I am fighting for...|              A|       A5|    Source Verified|           NULL|           844.0|              840.0|                     NULL|            USA|2023-12-19 08:29:...|\n|8f6a65afa417b5263...|Brownsville Multi...|         1|          RENT|      27000.0|           Blessings|    home_improvement|              C|       C2|       Not Verified|            0.0|            NULL|                1.0|                     NULL|            USA|2023-12-19 08:29:...|\n|28beef667fba22c86...|CITIZENS INVESTME...|         3|      MORTGAGE|     132000.0|               173xx| BOB'S BUSINESS LOAN|              D|       D5|           Verified|            0.0|             1.0|               NULL|                     NULL|            USA|2023-12-19 08:29:...|\n|cc6540b6f0de4f0f0...|             Chili's|         1|          RENT|      12000.0|       Justin's Loan|      major_purchase|              C|       C1|    Source Verified|            0.0|            NULL|                1.0|                     NULL|            USA|2023-12-19 08:29:...|\n+--------------------+--------------------+----------+--------------+-------------+--------------------+--------------------+---------------+---------+-------------------+---------------+----------------+-------------------+-------------------------+---------------+--------------------+\nonly showing top 20 rows\n\n"
     ]
    }
   ],
   "source": [
    "customers_emp_length_cleaned_average.filter(length(col(\"address_state\"))>2).show()"
   ]
  },
  {
   "cell_type": "code",
   "execution_count": 0,
   "metadata": {
    "application/vnd.databricks.v1+cell": {
     "cellMetadata": {
      "byteLimit": 2048000,
      "rowLimit": 10000
     },
     "inputWidgets": {},
     "nuid": "2f4582cd-8a6c-4e9b-8d5c-5252627f6101",
     "showTitle": false,
     "title": ""
    }
   },
   "outputs": [
    {
     "output_type": "stream",
     "name": "stdout",
     "output_type": "stream",
     "text": [
      "+--------------------+--------------------+----------+--------------+-------------+-------------+-----+---------------+---------+-------------------+---------------+----------------+-------------------+-------------------------+---------------+--------------------+\n|           member_id|           emp_title|emp_length|home_ownership|annual_income|address_state|grade|address_zipcode|sub_grade|verification_status|tot_hi_cred_lim|application_type|joint_annual_income|verification_status_joint|address_country|         ingest_date|\n+--------------------+--------------------+----------+--------------+-------------+-------------+-----+---------------+---------+-------------------+---------------+----------------+-------------------+-------------------------+---------------+--------------------+\n|af2c01919a67ad070...|             leadman|        10|      MORTGAGE|      55000.0|           PA|190xx|              C|       C4|       Not Verified|       178050.0|      Individual|               NULL|                     NULL|            USA|2023-12-19 08:33:...|\n|51cf0089ac3e1beeb...|            Engineer|        10|      MORTGAGE|      65000.0|           SD|577xx|              C|       C1|       Not Verified|       314017.0|      Individual|               NULL|                     NULL|            USA|2023-12-19 08:33:...|\n|a03d0c087a03631e3...|        truck driver|        10|      MORTGAGE|      63000.0|           IL|605xx|              B|       B4|       Not Verified|       218418.0|       Joint App|            71000.0|             Not Verified|            USA|2023-12-19 08:33:...|\n|edb5d90fadb8d0754...|Information Syste...|        10|      MORTGAGE|     110000.0|           NJ|076xx|              C|       C5|    Source Verified|       381215.0|      Individual|               NULL|                     NULL|            USA|2023-12-19 08:33:...|\n|19ef0a55233f5d753...| Contract Specialist|         3|      MORTGAGE|     104433.0|           PA|174xx|              F|       F1|    Source Verified|       439570.0|      Individual|               NULL|                     NULL|            USA|2023-12-19 08:33:...|\n|e8330c3d08626dd84...|Veterinary Tecnician|         4|          RENT|      34000.0|           GA|300xx|              C|       C3|    Source Verified|        16900.0|      Individual|               NULL|                     NULL|            USA|2023-12-19 08:33:...|\n|1fcc933dd0548c623...|Vice President of...|        10|      MORTGAGE|     180000.0|           MN|550xx|              B|       B2|       Not Verified|       388852.0|      Individual|               NULL|                     NULL|            USA|2023-12-19 08:33:...|\n|ac829342586dce5b5...|         road driver|        10|      MORTGAGE|      85000.0|           SC|293xx|              B|       B1|       Not Verified|       193390.0|      Individual|               NULL|                     NULL|            USA|2023-12-19 08:33:...|\n|fc961d7d8940475a1...|     SERVICE MANAGER|         6|          RENT|      85000.0|           PA|160xx|              A|       A2|       Not Verified|        61099.0|      Individual|               NULL|                     NULL|            USA|2023-12-19 08:33:...|\n|6ff86d8b565871d94...|      Vendor liaison|        10|      MORTGAGE|      42000.0|           RI|029xx|              B|       B5|       Not Verified|       256513.0|      Individual|               NULL|                     NULL|            USA|2023-12-19 08:33:...|\n|aedd29e3627be1278...|  Executive Director|         6|      MORTGAGE|      95000.0|           SC|290xx|              C|       C2|       Not Verified|       436841.0|      Individual|               NULL|                     NULL|            USA|2023-12-19 08:33:...|\n|5b42be481ab00e358...|Senior Structural...|         1|      MORTGAGE|      70000.0|           TX|786xx|              C|       C2|       Not Verified|       309638.0|      Individual|               NULL|                     NULL|            USA|2023-12-19 08:33:...|\n|45da7ecd0535b4243...|   Logistics Manager|         3|      MORTGAGE|      64000.0|           NC|275xx|              C|       C2|       Not Verified|       372109.0|      Individual|               NULL|                     NULL|            USA|2023-12-19 08:33:...|\n|618a72079f76d6511...|    Software Manager|         7|          RENT|     150000.0|           CA|916xx|              E|       E2|       Not Verified|        65819.0|      Individual|               NULL|                     NULL|            USA|2023-12-19 08:33:...|\n|b737dd01c078e95e2...|      Senior Manager|        10|      MORTGAGE|      92000.0|           NC|275xx|              A|       A2|       Not Verified|       304003.0|      Individual|               NULL|                     NULL|            USA|2023-12-19 08:33:...|\n|db57cdd3f81b2501a...|                tech|         8|      MORTGAGE|      60000.0|           SC|299xx|              A|       A4|       Not Verified|        88635.0|      Individual|               NULL|                     NULL|            USA|2023-12-19 08:33:...|\n|7ecc9d571f7dff321...|       Sales Manager|        10|      MORTGAGE|     109000.0|           VA|226xx|              A|       A4|       Not Verified|       373572.0|      Individual|               NULL|                     NULL|            USA|2023-12-19 08:33:...|\n|0704182cf7ed93107...|               GS-11|        10|      MORTGAGE|     112000.0|           AZ|856xx|              C|       C1|       Not Verified|       309710.0|      Individual|               NULL|                     NULL|            USA|2023-12-19 08:33:...|\n|7b70a7dd291cc5bb5...|             Teacher|         5|          RENT|      64000.0|           NY|117xx|              B|       B1|       Not Verified|        93962.0|      Individual|               NULL|                     NULL|            USA|2023-12-19 08:33:...|\n|d5bbe44369cec752e...| Program Coordinator|         8|          RENT|      55000.0|           IN|462xx|              E|       E3|           Verified|        38998.0|      Individual|               NULL|                     NULL|            USA|2023-12-19 08:33:...|\n+--------------------+--------------------+----------+--------------+-------------+-------------+-----+---------------+---------+-------------------+---------------+----------------+-------------------+-------------------------+---------------+--------------------+\nonly showing top 20 rows\n\n"
     ]
    }
   ],
   "source": [
    "customers_state_cleaned = customers_emp_length_cleaned_average.withColumn(\n",
    "    \"address_state\",\n",
    "    when(length(col(\"address_state\"))> 2, \"NA\").otherwise(col(\"address_state\"))\n",
    ")\n",
    "customers_state_cleaned.show()"
   ]
  },
  {
   "cell_type": "code",
   "execution_count": 0,
   "metadata": {
    "application/vnd.databricks.v1+cell": {
     "cellMetadata": {
      "byteLimit": 2048000,
      "rowLimit": 10000
     },
     "inputWidgets": {},
     "nuid": "47069804-479c-405a-aa6c-cc1c570ffd3f",
     "showTitle": false,
     "title": ""
    }
   },
   "outputs": [
    {
     "output_type": "stream",
     "name": "stdout",
     "output_type": "stream",
     "text": [
      "+--------------------+--------------------+----------+--------------+-------------+-------------+-----+---------------+---------+-------------------+---------------+----------------+-------------------+-------------------------+---------------+--------------------+\n|           member_id|           emp_title|emp_length|home_ownership|annual_income|address_state|grade|address_zipcode|sub_grade|verification_status|tot_hi_cred_lim|application_type|joint_annual_income|verification_status_joint|address_country|         ingest_date|\n+--------------------+--------------------+----------+--------------+-------------+-------------+-----+---------------+---------+-------------------+---------------+----------------+-------------------+-------------------------+---------------+--------------------+\n|af2c01919a67ad070...|             leadman|        10|      MORTGAGE|      55000.0|      USA||PA|190xx|              C|       C4|       Not Verified|       178050.0|      Individual|               NULL|                     NULL|            USA|2023-12-19 08:37:...|\n|51cf0089ac3e1beeb...|            Engineer|        10|      MORTGAGE|      65000.0|      USA||SD|577xx|              C|       C1|       Not Verified|       314017.0|      Individual|               NULL|                     NULL|            USA|2023-12-19 08:37:...|\n|a03d0c087a03631e3...|        truck driver|        10|      MORTGAGE|      63000.0|      USA||IL|605xx|              B|       B4|       Not Verified|       218418.0|       Joint App|            71000.0|             Not Verified|            USA|2023-12-19 08:37:...|\n|edb5d90fadb8d0754...|Information Syste...|        10|      MORTGAGE|     110000.0|      USA||NJ|076xx|              C|       C5|    Source Verified|       381215.0|      Individual|               NULL|                     NULL|            USA|2023-12-19 08:37:...|\n|19ef0a55233f5d753...| Contract Specialist|         3|      MORTGAGE|     104433.0|      USA||PA|174xx|              F|       F1|    Source Verified|       439570.0|      Individual|               NULL|                     NULL|            USA|2023-12-19 08:37:...|\n|e8330c3d08626dd84...|Veterinary Tecnician|         4|          RENT|      34000.0|      USA||GA|300xx|              C|       C3|    Source Verified|        16900.0|      Individual|               NULL|                     NULL|            USA|2023-12-19 08:37:...|\n|1fcc933dd0548c623...|Vice President of...|        10|      MORTGAGE|     180000.0|      USA||MN|550xx|              B|       B2|       Not Verified|       388852.0|      Individual|               NULL|                     NULL|            USA|2023-12-19 08:37:...|\n|ac829342586dce5b5...|         road driver|        10|      MORTGAGE|      85000.0|      USA||SC|293xx|              B|       B1|       Not Verified|       193390.0|      Individual|               NULL|                     NULL|            USA|2023-12-19 08:37:...|\n|fc961d7d8940475a1...|     SERVICE MANAGER|         6|          RENT|      85000.0|      USA||PA|160xx|              A|       A2|       Not Verified|        61099.0|      Individual|               NULL|                     NULL|            USA|2023-12-19 08:37:...|\n|6ff86d8b565871d94...|      Vendor liaison|        10|      MORTGAGE|      42000.0|      USA||RI|029xx|              B|       B5|       Not Verified|       256513.0|      Individual|               NULL|                     NULL|            USA|2023-12-19 08:37:...|\n|aedd29e3627be1278...|  Executive Director|         6|      MORTGAGE|      95000.0|      USA||SC|290xx|              C|       C2|       Not Verified|       436841.0|      Individual|               NULL|                     NULL|            USA|2023-12-19 08:37:...|\n|5b42be481ab00e358...|Senior Structural...|         1|      MORTGAGE|      70000.0|      USA||TX|786xx|              C|       C2|       Not Verified|       309638.0|      Individual|               NULL|                     NULL|            USA|2023-12-19 08:37:...|\n|45da7ecd0535b4243...|   Logistics Manager|         3|      MORTGAGE|      64000.0|      USA||NC|275xx|              C|       C2|       Not Verified|       372109.0|      Individual|               NULL|                     NULL|            USA|2023-12-19 08:37:...|\n|618a72079f76d6511...|    Software Manager|         7|          RENT|     150000.0|      USA||CA|916xx|              E|       E2|       Not Verified|        65819.0|      Individual|               NULL|                     NULL|            USA|2023-12-19 08:37:...|\n|b737dd01c078e95e2...|      Senior Manager|        10|      MORTGAGE|      92000.0|      USA||NC|275xx|              A|       A2|       Not Verified|       304003.0|      Individual|               NULL|                     NULL|            USA|2023-12-19 08:37:...|\n|db57cdd3f81b2501a...|                tech|         8|      MORTGAGE|      60000.0|      USA||SC|299xx|              A|       A4|       Not Verified|        88635.0|      Individual|               NULL|                     NULL|            USA|2023-12-19 08:37:...|\n|7ecc9d571f7dff321...|       Sales Manager|        10|      MORTGAGE|     109000.0|      USA||VA|226xx|              A|       A4|       Not Verified|       373572.0|      Individual|               NULL|                     NULL|            USA|2023-12-19 08:37:...|\n|0704182cf7ed93107...|               GS-11|        10|      MORTGAGE|     112000.0|      USA||AZ|856xx|              C|       C1|       Not Verified|       309710.0|      Individual|               NULL|                     NULL|            USA|2023-12-19 08:37:...|\n|7b70a7dd291cc5bb5...|             Teacher|         5|          RENT|      64000.0|      USA||NY|117xx|              B|       B1|       Not Verified|        93962.0|      Individual|               NULL|                     NULL|            USA|2023-12-19 08:37:...|\n|d5bbe44369cec752e...| Program Coordinator|         8|          RENT|      55000.0|      USA||IN|462xx|              E|       E3|           Verified|        38998.0|      Individual|               NULL|                     NULL|            USA|2023-12-19 08:37:...|\n+--------------------+--------------------+----------+--------------+-------------+-------------+-----+---------------+---------+-------------------+---------------+----------------+-------------------+-------------------------+---------------+--------------------+\nonly showing top 20 rows\n\n"
     ]
    }
   ],
   "source": [
    "customers_state_cleaned = customers_state_cleaned.withColumn(\"address_state\", concat_ws(\"||\", col(\"address_country\"), col(\"address_state\")))\n",
    "customers_state_cleaned.show()"
   ]
  },
  {
   "cell_type": "code",
   "execution_count": 0,
   "metadata": {
    "application/vnd.databricks.v1+cell": {
     "cellMetadata": {
      "byteLimit": 2048000,
      "rowLimit": 10000
     },
     "inputWidgets": {},
     "nuid": "a121c56c-fba3-41fd-8621-8f4e818cd166",
     "showTitle": false,
     "title": ""
    }
   },
   "outputs": [
    {
     "output_type": "stream",
     "name": "stdout",
     "output_type": "stream",
     "text": [
      "+-------------------+\n|verification_status|\n+-------------------+\n|           Verified|\n|    Source Verified|\n|       Not Verified|\n+-------------------+\n\n"
     ]
    }
   ],
   "source": [
    "customers_state_cleaned.select(\"verification_status\").distinct().show()"
   ]
  },
  {
   "cell_type": "code",
   "execution_count": 0,
   "metadata": {
    "application/vnd.databricks.v1+cell": {
     "cellMetadata": {
      "byteLimit": 2048000,
      "rowLimit": 10000
     },
     "inputWidgets": {},
     "nuid": "e693db1c-8f40-4e70-ba41-a37f82f8e824",
     "showTitle": false,
     "title": ""
    }
   },
   "outputs": [],
   "source": [
    "customers_state_cleaned.write \\\n",
    ".format(\"parquet\") \\\n",
    ".mode(\"overwrite\") \\\n",
    ".option(\"path\", \"/mnt/lending_club/staging/customers/partitioned/parquet\") \\\n",
    ".partitionBy(\"verification_status\")\\\n",
    ".save()"
   ]
  },
  {
   "cell_type": "code",
   "execution_count": 0,
   "metadata": {
    "application/vnd.databricks.v1+cell": {
     "cellMetadata": {
      "byteLimit": 2048000,
      "rowLimit": 10000
     },
     "inputWidgets": {},
     "nuid": "61e22825-aa3b-4859-b393-acb1ddbce441",
     "showTitle": false,
     "title": ""
    }
   },
   "outputs": [],
   "source": [
    "customers_state_cleaned.write \\\n",
    ".format(\"csv\") \\\n",
    ".mode(\"overwrite\") \\\n",
    ".option(\"path\", \"/mnt/lending_club/staging/customers/partitioned/csv\") \\\n",
    ".partitionBy(\"verification_status\")\\\n",
    ".save()"
   ]
  },
  {
   "cell_type": "code",
   "execution_count": 0,
   "metadata": {
    "application/vnd.databricks.v1+cell": {
     "cellMetadata": {
      "byteLimit": 2048000,
      "rowLimit": 10000
     },
     "inputWidgets": {},
     "nuid": "a1f0726c-503a-4895-b312-49c0aa50ef14",
     "showTitle": false,
     "title": ""
    }
   },
   "outputs": [],
   "source": [
    "customers_state_cleaned.write \\\n",
    ".format(\"parquet\") \\\n",
    ".mode(\"overwrite\") \\\n",
    ".option(\"path\", \"/mnt/lending_club/staging/customers/non_partitioned/parquet\") \\\n",
    ".save()"
   ]
  },
  {
   "cell_type": "code",
   "execution_count": 0,
   "metadata": {
    "application/vnd.databricks.v1+cell": {
     "cellMetadata": {
      "byteLimit": 2048000,
      "rowLimit": 10000
     },
     "inputWidgets": {},
     "nuid": "b170d7d6-b53e-43f9-83c4-1b98fb7be2ae",
     "showTitle": false,
     "title": ""
    }
   },
   "outputs": [],
   "source": [
    "customers_state_cleaned.write \\\n",
    ".format(\"csv\") \\\n",
    ".mode(\"overwrite\") \\\n",
    ".option(\"path\", \"/mnt/lending_club/staging/customers/non_partitioned/csv\") \\\n",
    ".save()"
   ]
  },
  {
   "cell_type": "code",
   "execution_count": 0,
   "metadata": {
    "application/vnd.databricks.v1+cell": {
     "cellMetadata": {},
     "inputWidgets": {},
     "nuid": "dafceeb3-54ce-4bb0-a240-d87abffe556a",
     "showTitle": false,
     "title": ""
    }
   },
   "outputs": [],
   "source": []
  }
 ],
 "metadata": {
  "application/vnd.databricks.v1+notebook": {
   "dashboards": [],
   "language": "python",
   "notebookMetadata": {
    "mostRecentlyExecutedCommandWithImplicitDF": {
     "commandId": 1129696470705713,
     "dataframes": [
      "_sqldf"
     ]
    },
    "pythonIndentUnit": 4
   },
   "notebookName": "Clean Customers 2023-12-19 12:44:51",
   "widgets": {}
  }
 },
 "nbformat": 4,
 "nbformat_minor": 0
}
