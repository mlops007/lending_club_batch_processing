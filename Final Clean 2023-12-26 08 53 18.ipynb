{
 "cells": [
  {
   "cell_type": "code",
   "execution_count": 0,
   "metadata": {
    "application/vnd.databricks.v1+cell": {
     "cellMetadata": {
      "byteLimit": 2048000,
      "rowLimit": 10000
     },
     "inputWidgets": {},
     "nuid": "732835b9-eeb1-4470-84f2-222a23419453",
     "showTitle": false,
     "title": ""
    }
   },
   "outputs": [
    {
     "output_type": "display_data",
     "data": {
      "text/html": [
       "<style scoped>\n",
       "  .table-result-container {\n",
       "    max-height: 300px;\n",
       "    overflow: auto;\n",
       "  }\n",
       "  table, th, td {\n",
       "    border: 1px solid black;\n",
       "    border-collapse: collapse;\n",
       "  }\n",
       "  th, td {\n",
       "    padding: 5px;\n",
       "  }\n",
       "  th {\n",
       "    text-align: left;\n",
       "  }\n",
       "</style><div class='table-result-container'><table class='table-result'><thead style='background-color: white'><tr><th>path</th><th>name</th><th>size</th><th>modificationTime</th></tr></thead><tbody><tr><td>dbfs:/mnt/lending_club/staging/loans/non_partitioned/parquet/_SUCCESS</td><td>_SUCCESS</td><td>0</td><td>1702997591000</td></tr><tr><td>dbfs:/mnt/lending_club/staging/loans/non_partitioned/parquet/_committed_8263679197730626570</td><td>_committed_8263679197730626570</td><td>424</td><td>1702997591000</td></tr><tr><td>dbfs:/mnt/lending_club/staging/loans/non_partitioned/parquet/_started_8263679197730626570</td><td>_started_8263679197730626570</td><td>0</td><td>1702997583000</td></tr><tr><td>dbfs:/mnt/lending_club/staging/loans/non_partitioned/parquet/part-00000-tid-8263679197730626570-9114dca2-1586-46f5-bdfe-ae103061bb2b-298-1-c000.snappy.parquet</td><td>part-00000-tid-8263679197730626570-9114dca2-1586-46f5-bdfe-ae103061bb2b-298-1-c000.snappy.parquet</td><td>45030594</td><td>1702997590000</td></tr><tr><td>dbfs:/mnt/lending_club/staging/loans/non_partitioned/parquet/part-00001-tid-8263679197730626570-9114dca2-1586-46f5-bdfe-ae103061bb2b-299-1-c000.snappy.parquet</td><td>part-00001-tid-8263679197730626570-9114dca2-1586-46f5-bdfe-ae103061bb2b-299-1-c000.snappy.parquet</td><td>45628171</td><td>1702997590000</td></tr><tr><td>dbfs:/mnt/lending_club/staging/loans/non_partitioned/parquet/part-00002-tid-8263679197730626570-9114dca2-1586-46f5-bdfe-ae103061bb2b-300-1-c000.snappy.parquet</td><td>part-00002-tid-8263679197730626570-9114dca2-1586-46f5-bdfe-ae103061bb2b-300-1-c000.snappy.parquet</td><td>45789829</td><td>1702997590000</td></tr><tr><td>dbfs:/mnt/lending_club/staging/loans/non_partitioned/parquet/part-00003-tid-8263679197730626570-9114dca2-1586-46f5-bdfe-ae103061bb2b-301-1-c000.snappy.parquet</td><td>part-00003-tid-8263679197730626570-9114dca2-1586-46f5-bdfe-ae103061bb2b-301-1-c000.snappy.parquet</td><td>44601101</td><td>1702997591000</td></tr></tbody></table></div>"
      ]
     },
     "metadata": {
      "application/vnd.databricks.v1+output": {
       "addedWidgets": {},
       "aggData": [],
       "aggError": "",
       "aggOverflow": false,
       "aggSchema": [],
       "aggSeriesLimitReached": false,
       "aggType": "",
       "arguments": {},
       "columnCustomDisplayInfos": {},
       "data": [
        [
         "dbfs:/mnt/lending_club/staging/loans/non_partitioned/parquet/_SUCCESS",
         "_SUCCESS",
         0,
         1702997591000
        ],
        [
         "dbfs:/mnt/lending_club/staging/loans/non_partitioned/parquet/_committed_8263679197730626570",
         "_committed_8263679197730626570",
         424,
         1702997591000
        ],
        [
         "dbfs:/mnt/lending_club/staging/loans/non_partitioned/parquet/_started_8263679197730626570",
         "_started_8263679197730626570",
         0,
         1702997583000
        ],
        [
         "dbfs:/mnt/lending_club/staging/loans/non_partitioned/parquet/part-00000-tid-8263679197730626570-9114dca2-1586-46f5-bdfe-ae103061bb2b-298-1-c000.snappy.parquet",
         "part-00000-tid-8263679197730626570-9114dca2-1586-46f5-bdfe-ae103061bb2b-298-1-c000.snappy.parquet",
         45030594,
         1702997590000
        ],
        [
         "dbfs:/mnt/lending_club/staging/loans/non_partitioned/parquet/part-00001-tid-8263679197730626570-9114dca2-1586-46f5-bdfe-ae103061bb2b-299-1-c000.snappy.parquet",
         "part-00001-tid-8263679197730626570-9114dca2-1586-46f5-bdfe-ae103061bb2b-299-1-c000.snappy.parquet",
         45628171,
         1702997590000
        ],
        [
         "dbfs:/mnt/lending_club/staging/loans/non_partitioned/parquet/part-00002-tid-8263679197730626570-9114dca2-1586-46f5-bdfe-ae103061bb2b-300-1-c000.snappy.parquet",
         "part-00002-tid-8263679197730626570-9114dca2-1586-46f5-bdfe-ae103061bb2b-300-1-c000.snappy.parquet",
         45789829,
         1702997590000
        ],
        [
         "dbfs:/mnt/lending_club/staging/loans/non_partitioned/parquet/part-00003-tid-8263679197730626570-9114dca2-1586-46f5-bdfe-ae103061bb2b-301-1-c000.snappy.parquet",
         "part-00003-tid-8263679197730626570-9114dca2-1586-46f5-bdfe-ae103061bb2b-301-1-c000.snappy.parquet",
         44601101,
         1702997591000
        ]
       ],
       "datasetInfos": [],
       "dbfsResultPath": null,
       "isJsonSchema": true,
       "metadata": {
        "isDbfsCommandResult": false
       },
       "overflow": false,
       "plotOptions": {
        "customPlotOptions": {},
        "displayType": "table",
        "pivotAggregation": null,
        "pivotColumns": null,
        "xColumns": null,
        "yColumns": null
       },
       "removedWidgets": [],
       "schema": [
        {
         "metadata": "{}",
         "name": "path",
         "type": "\"string\""
        },
        {
         "metadata": "{}",
         "name": "name",
         "type": "\"string\""
        },
        {
         "metadata": "{}",
         "name": "size",
         "type": "\"long\""
        },
        {
         "metadata": "{}",
         "name": "modificationTime",
         "type": "\"long\""
        }
       ],
       "type": "table"
      }
     },
     "output_type": "display_data"
    }
   ],
   "source": [
    "%fs ls dbfs:/mnt/lending_club/staging/loans/non_partitioned/parquet"
   ]
  },
  {
   "cell_type": "code",
   "execution_count": 0,
   "metadata": {
    "application/vnd.databricks.v1+cell": {
     "cellMetadata": {
      "byteLimit": 2048000,
      "rowLimit": 10000
     },
     "inputWidgets": {},
     "nuid": "c083cd56-2b55-4704-ae92-38bd8e5214ba",
     "showTitle": false,
     "title": ""
    }
   },
   "outputs": [],
   "source": [
    "from pyspark.sql.types import StructType, StructField, TimestampType, IntegerType, StringType, FloatType, LongType, TimestampType\n",
    "from pyspark.sql.functions import regexp_replace, concat_ws\n",
    "from pyspark.sql.functions import when, col, length\n",
    "from pyspark.sql.functions import current_timestamp\n",
    "from pyspark.sql.functions import avg"
   ]
  },
  {
   "cell_type": "code",
   "execution_count": 0,
   "metadata": {
    "application/vnd.databricks.v1+cell": {
     "cellMetadata": {
      "byteLimit": 2048000,
      "rowLimit": 10000
     },
     "inputWidgets": {},
     "nuid": "f22bd278-7c3b-4197-87a3-cedaf7b05436",
     "showTitle": false,
     "title": ""
    }
   },
   "outputs": [],
   "source": [
    "customers =  spark.read\\\n",
    ".format(\"parquet\")\\\n",
    ".load(\"dbfs:/mnt/lending_club/staging/customers/non_partitioned/parquet\")"
   ]
  },
  {
   "cell_type": "code",
   "execution_count": 0,
   "metadata": {
    "application/vnd.databricks.v1+cell": {
     "cellMetadata": {
      "byteLimit": 2048000,
      "rowLimit": 10000
     },
     "inputWidgets": {},
     "nuid": "2d67ee78-13e8-4820-8d77-0c90694e761a",
     "showTitle": false,
     "title": ""
    }
   },
   "outputs": [
    {
     "output_type": "stream",
     "name": "stdout",
     "output_type": "stream",
     "text": [
      "+--------------------+--------------------+----------+--------------+-------------+-------------+-----+---------------+---------+-------------------+---------------+----------------+-------------------+-------------------------+---------------+--------------------+\n|           member_id|           emp_title|emp_length|home_ownership|annual_income|address_state|grade|address_zipcode|sub_grade|verification_status|tot_hi_cred_lim|application_type|joint_annual_income|verification_status_joint|address_country|         ingest_date|\n+--------------------+--------------------+----------+--------------+-------------+-------------+-----+---------------+---------+-------------------+---------------+----------------+-------------------+-------------------------+---------------+--------------------+\n|b8861edd260ba0394...|             Manager|        10|      MORTGAGE|     102000.0|      USA||KY|401xx|              C|       C2|    Source Verified|       210853.0|      Individual|               NULL|                     NULL|            USA|2023-12-19 08:44:...|\n|53b3ab8175cdd5462...| Sr. Systems Analyst|         1|      MORTGAGE|     110000.0|      USA||TX|770xx|              C|       C1|           Verified|       232917.0|      Individual|               NULL|                     NULL|            USA|2023-12-19 08:44:...|\n|918e4f89934cd7f3f...|          unit clerk|         3|          RENT|      34000.0|      USA||NY|107xx|              E|       E1|    Source Verified|        12500.0|      Individual|               NULL|                     NULL|            USA|2023-12-19 08:44:...|\n|5ee0274fa81b91aea...|              driver|         1|          RENT|      35000.0|      USA||CA|945xx|              A|       A2|       Not Verified|        68650.0|      Individual|               NULL|                     NULL|            USA|2023-12-19 08:44:...|\n|201b1f8e82f205976...|physician contractor|         2|          RENT|      76000.0|      USA||NJ|070xx|              B|       B4|    Source Verified|        44110.0|      Individual|               NULL|                     NULL|            USA|2023-12-19 08:44:...|\n|7a63e63124bcac975...|                NULL|         6|      MORTGAGE|      84000.0|      USA||CA|907xx|              D|       D5|           Verified|       450159.0|      Individual|               NULL|                     NULL|            USA|2023-12-19 08:44:...|\n|12913a07b91b10b28...|    Hourly Associate|        10|      MORTGAGE|      36000.0|      USA||CA|960xx|              C|       C5|           Verified|       136023.0|      Individual|               NULL|                     NULL|            USA|2023-12-19 08:44:...|\n|37595c774725ba85c...|Field Service Eng...|        10|      MORTGAGE|     130000.0|      USA||WI|532xx|              C|       C3|    Source Verified|       415184.0|      Individual|               NULL|                     NULL|            USA|2023-12-19 08:44:...|\n|eb5512ad7cd8b0bb9...|             Teacher|        10|           OWN|      65000.0|      USA||CO|802xx|              D|       D5|    Source Verified|       123045.0|      Individual|               NULL|                     NULL|            USA|2023-12-19 08:44:...|\n|59293547d3b21718b...| Director of Service|        10|      MORTGAGE|     100000.0|      USA||OK|743xx|              B|       B3|    Source Verified|       243406.0|      Individual|               NULL|                     NULL|            USA|2023-12-19 08:44:...|\n|ece5a71db2d1b690f...|               sales|         3|          RENT|      50000.0|      USA||RI|028xx|              B|       B3|    Source Verified|        68750.0|      Individual|               NULL|                     NULL|            USA|2023-12-19 08:44:...|\n|21048ac05d966dadf...|Logistics Journeyman|        10|          RENT|      68691.0|      USA||FL|335xx|              D|       D4|    Source Verified|        52314.0|      Individual|               NULL|                     NULL|            USA|2023-12-19 08:44:...|\n|c87d286fb10d98160...|             Cashier|         5|          RENT|      27000.0|      USA||CA|954xx|              B|       B5|       Not Verified|        20160.0|      Individual|               NULL|                     NULL|            USA|2023-12-19 08:44:...|\n|a472df2ca15160017...|Associate investm...|        10|      MORTGAGE|      79480.0|      USA||NY|120xx|              B|       B5|           Verified|       372043.0|      Individual|               NULL|                     NULL|            USA|2023-12-19 08:44:...|\n|e70a249a1536eb7a8...|Asst. Payroll Man...|        10|          RENT|      58365.0|      USA||NY|104xx|              C|       C4|    Source Verified|        68131.0|      Individual|               NULL|                     NULL|            USA|2023-12-19 08:44:...|\n|7c02a0a6946650349...|        CITY CARRIER|        10|      MORTGAGE|      60147.0|      USA||NV|890xx|              F|       F3|           Verified|       202112.0|      Individual|               NULL|                     NULL|            USA|2023-12-19 08:44:...|\n|baff9143f01cc22ab...|    Trial Technician|         8|      MORTGAGE|      51500.0|      USA||TN|380xx|              B|       B4|       Not Verified|       202390.0|      Individual|               NULL|                     NULL|            USA|2023-12-19 08:44:...|\n|90ae064a2cd499e29...|    Practice Manager|         1|          RENT|      69000.0|      USA||NJ|074xx|              C|       C4|    Source Verified|        46475.0|      Individual|               NULL|                     NULL|            USA|2023-12-19 08:44:...|\n|351ca5f0798df35a4...|Student Finance S...|         2|      MORTGAGE|      34000.0|      USA||CO|809xx|              C|       C2|       Not Verified|       171625.0|      Individual|               NULL|                     NULL|            USA|2023-12-19 08:44:...|\n|0ee3bd23fa436f03b...|DENIAL SPECIALIST II|        10|          RENT|      55000.0|      USA||CO|800xx|              E|       E2|    Source Verified|        85724.0|      Individual|               NULL|                     NULL|            USA|2023-12-19 08:44:...|\n+--------------------+--------------------+----------+--------------+-------------+-------------+-----+---------------+---------+-------------------+---------------+----------------+-------------------+-------------------------+---------------+--------------------+\nonly showing top 20 rows\n\n"
     ]
    }
   ],
   "source": [
    "customers.show()"
   ]
  },
  {
   "cell_type": "code",
   "execution_count": 0,
   "metadata": {
    "application/vnd.databricks.v1+cell": {
     "cellMetadata": {
      "byteLimit": 2048000,
      "rowLimit": 10000
     },
     "inputWidgets": {},
     "nuid": "82863265-3e44-4376-ae2b-556899192873",
     "showTitle": false,
     "title": ""
    }
   },
   "outputs": [
    {
     "output_type": "execute_result",
     "data": {
      "text/plain": [
       "DataFrame[]"
      ]
     },
     "execution_count": 16,
     "metadata": {},
     "output_type": "execute_result"
    }
   ],
   "source": [
    "spark.sql(\"create database lending_club\")"
   ]
  },
  {
   "cell_type": "code",
   "execution_count": 0,
   "metadata": {
    "application/vnd.databricks.v1+cell": {
     "cellMetadata": {
      "byteLimit": 2048000,
      "rowLimit": 10000
     },
     "inputWidgets": {},
     "nuid": "6791048f-924a-4233-858f-2bb9f0987999",
     "showTitle": false,
     "title": ""
    }
   },
   "outputs": [
    {
     "output_type": "stream",
     "name": "stdout",
     "output_type": "stream",
     "text": [
      "+------------+\n|databaseName|\n+------------+\n|     default|\n|lending_club|\n+------------+\n\n"
     ]
    }
   ],
   "source": [
    "spark.sql(\"show databases\").show()"
   ]
  },
  {
   "cell_type": "code",
   "execution_count": 0,
   "metadata": {
    "application/vnd.databricks.v1+cell": {
     "cellMetadata": {
      "byteLimit": 2048000,
      "rowLimit": 10000
     },
     "inputWidgets": {},
     "nuid": "91f684d9-0769-41cf-a79e-e41c2447d075",
     "showTitle": false,
     "title": ""
    }
   },
   "outputs": [
    {
     "output_type": "execute_result",
     "data": {
      "text/plain": [
       "DataFrame[]"
      ]
     },
     "execution_count": 19,
     "metadata": {},
     "output_type": "execute_result"
    }
   ],
   "source": [
    "spark.sql(\"use lending_club\")"
   ]
  },
  {
   "cell_type": "code",
   "execution_count": 0,
   "metadata": {
    "application/vnd.databricks.v1+cell": {
     "cellMetadata": {
      "byteLimit": 2048000,
      "rowLimit": 10000
     },
     "inputWidgets": {},
     "nuid": "09c26e8d-d76d-413b-a06c-ee3aeea9c4a2",
     "showTitle": false,
     "title": ""
    }
   },
   "outputs": [
    {
     "output_type": "stream",
     "name": "stdout",
     "output_type": "stream",
     "text": [
      "root\n |-- member_id: string (nullable = true)\n |-- emp_title: string (nullable = true)\n |-- emp_length: integer (nullable = true)\n |-- home_ownership: string (nullable = true)\n |-- annual_income: float (nullable = true)\n |-- address_state: string (nullable = true)\n |-- grade: string (nullable = true)\n |-- address_zipcode: string (nullable = true)\n |-- sub_grade: string (nullable = true)\n |-- verification_status: string (nullable = true)\n |-- tot_hi_cred_lim: float (nullable = true)\n |-- application_type: string (nullable = true)\n |-- joint_annual_income: float (nullable = true)\n |-- verification_status_joint: string (nullable = true)\n |-- address_country: string (nullable = true)\n |-- ingest_date: timestamp (nullable = true)\n\n"
     ]
    }
   ],
   "source": [
    "customers.printSchema()"
   ]
  },
  {
   "cell_type": "code",
   "execution_count": 0,
   "metadata": {
    "application/vnd.databricks.v1+cell": {
     "cellMetadata": {
      "byteLimit": 2048000,
      "rowLimit": 10000
     },
     "inputWidgets": {},
     "nuid": "5e4a1dc4-2ece-4b23-880b-dc555d437879",
     "showTitle": false,
     "title": ""
    }
   },
   "outputs": [
    {
     "output_type": "execute_result",
     "data": {
      "text/plain": [
       "DataFrame[]"
      ]
     },
     "execution_count": 27,
     "metadata": {},
     "output_type": "execute_result"
    }
   ],
   "source": [
    "spark.sql(\"\"\"\n",
    "CREATE EXTERNAL TABLE lending_club.customers (\n",
    "    member_id STRING,\n",
    "    emp_title STRING,\n",
    "    emp_length INT,\n",
    "    home_ownership STRING,\n",
    "    annual_income FLOAT,\n",
    "    address_state STRING,\n",
    "    address_zipcode STRING,\n",
    "    address_country STRING,\n",
    "    grade STRING,\n",
    "    sub_grade STRING,\n",
    "    verification_status STRING,\n",
    "    total_high_credit_limit FLOAT,\n",
    "    application_type STRING,\n",
    "    join_annual_income FLOAT,\n",
    "    verification_status_joint STRING\n",
    ")\n",
    "STORED AS PARQUET\n",
    "LOCATION 'dbfs:/mnt/lending_club/staging/customers/non_partitioned/parquet'\n",
    "\"\"\")"
   ]
  },
  {
   "cell_type": "code",
   "execution_count": 0,
   "metadata": {
    "application/vnd.databricks.v1+cell": {
     "cellMetadata": {
      "byteLimit": 2048000,
      "rowLimit": 10000
     },
     "inputWidgets": {},
     "nuid": "c9b625db-f8de-4db7-81e5-6bb883812efd",
     "showTitle": false,
     "title": ""
    }
   },
   "outputs": [
    {
     "output_type": "stream",
     "name": "stdout",
     "output_type": "stream",
     "text": [
      "+--------------------+--------------------+----------+--------------+-------------+-------------+---------------+---------------+-----+---------+-------------------+-----------------------+----------------+------------------+-------------------------+\n|           member_id|           emp_title|emp_length|home_ownership|annual_income|address_state|address_zipcode|address_country|grade|sub_grade|verification_status|total_high_credit_limit|application_type|join_annual_income|verification_status_joint|\n+--------------------+--------------------+----------+--------------+-------------+-------------+---------------+---------------+-----+---------+-------------------+-----------------------+----------------+------------------+-------------------------+\n|b8861edd260ba0394...|             Manager|        10|      MORTGAGE|     102000.0|      USA||KY|              C|            USA|401xx|       C2|    Source Verified|                   NULL|      Individual|              NULL|                     NULL|\n|53b3ab8175cdd5462...| Sr. Systems Analyst|         1|      MORTGAGE|     110000.0|      USA||TX|              C|            USA|770xx|       C1|           Verified|                   NULL|      Individual|              NULL|                     NULL|\n|918e4f89934cd7f3f...|          unit clerk|         3|          RENT|      34000.0|      USA||NY|              E|            USA|107xx|       E1|    Source Verified|                   NULL|      Individual|              NULL|                     NULL|\n|5ee0274fa81b91aea...|              driver|         1|          RENT|      35000.0|      USA||CA|              A|            USA|945xx|       A2|       Not Verified|                   NULL|      Individual|              NULL|                     NULL|\n|201b1f8e82f205976...|physician contractor|         2|          RENT|      76000.0|      USA||NJ|              B|            USA|070xx|       B4|    Source Verified|                   NULL|      Individual|              NULL|                     NULL|\n|7a63e63124bcac975...|                NULL|         6|      MORTGAGE|      84000.0|      USA||CA|              D|            USA|907xx|       D5|           Verified|                   NULL|      Individual|              NULL|                     NULL|\n|12913a07b91b10b28...|    Hourly Associate|        10|      MORTGAGE|      36000.0|      USA||CA|              C|            USA|960xx|       C5|           Verified|                   NULL|      Individual|              NULL|                     NULL|\n|37595c774725ba85c...|Field Service Eng...|        10|      MORTGAGE|     130000.0|      USA||WI|              C|            USA|532xx|       C3|    Source Verified|                   NULL|      Individual|              NULL|                     NULL|\n|eb5512ad7cd8b0bb9...|             Teacher|        10|           OWN|      65000.0|      USA||CO|              D|            USA|802xx|       D5|    Source Verified|                   NULL|      Individual|              NULL|                     NULL|\n|59293547d3b21718b...| Director of Service|        10|      MORTGAGE|     100000.0|      USA||OK|              B|            USA|743xx|       B3|    Source Verified|                   NULL|      Individual|              NULL|                     NULL|\n|ece5a71db2d1b690f...|               sales|         3|          RENT|      50000.0|      USA||RI|              B|            USA|028xx|       B3|    Source Verified|                   NULL|      Individual|              NULL|                     NULL|\n|21048ac05d966dadf...|Logistics Journeyman|        10|          RENT|      68691.0|      USA||FL|              D|            USA|335xx|       D4|    Source Verified|                   NULL|      Individual|              NULL|                     NULL|\n|c87d286fb10d98160...|             Cashier|         5|          RENT|      27000.0|      USA||CA|              B|            USA|954xx|       B5|       Not Verified|                   NULL|      Individual|              NULL|                     NULL|\n|a472df2ca15160017...|Associate investm...|        10|      MORTGAGE|      79480.0|      USA||NY|              B|            USA|120xx|       B5|           Verified|                   NULL|      Individual|              NULL|                     NULL|\n|e70a249a1536eb7a8...|Asst. Payroll Man...|        10|          RENT|      58365.0|      USA||NY|              C|            USA|104xx|       C4|    Source Verified|                   NULL|      Individual|              NULL|                     NULL|\n|7c02a0a6946650349...|        CITY CARRIER|        10|      MORTGAGE|      60147.0|      USA||NV|              F|            USA|890xx|       F3|           Verified|                   NULL|      Individual|              NULL|                     NULL|\n|baff9143f01cc22ab...|    Trial Technician|         8|      MORTGAGE|      51500.0|      USA||TN|              B|            USA|380xx|       B4|       Not Verified|                   NULL|      Individual|              NULL|                     NULL|\n|90ae064a2cd499e29...|    Practice Manager|         1|          RENT|      69000.0|      USA||NJ|              C|            USA|074xx|       C4|    Source Verified|                   NULL|      Individual|              NULL|                     NULL|\n|351ca5f0798df35a4...|Student Finance S...|         2|      MORTGAGE|      34000.0|      USA||CO|              C|            USA|809xx|       C2|       Not Verified|                   NULL|      Individual|              NULL|                     NULL|\n|0ee3bd23fa436f03b...|DENIAL SPECIALIST II|        10|          RENT|      55000.0|      USA||CO|              E|            USA|800xx|       E2|    Source Verified|                   NULL|      Individual|              NULL|                     NULL|\n+--------------------+--------------------+----------+--------------+-------------+-------------+---------------+---------------+-----+---------+-------------------+-----------------------+----------------+------------------+-------------------------+\nonly showing top 20 rows\n\n"
     ]
    }
   ],
   "source": [
    "spark.sql(\"select * from lending_club.customers\").show()"
   ]
  },
  {
   "cell_type": "code",
   "execution_count": 0,
   "metadata": {
    "application/vnd.databricks.v1+cell": {
     "cellMetadata": {
      "byteLimit": 2048000,
      "rowLimit": 10000
     },
     "inputWidgets": {},
     "nuid": "22e75784-acc3-49c5-86cd-0117e95255bd",
     "showTitle": false,
     "title": ""
    }
   },
   "outputs": [
    {
     "output_type": "execute_result",
     "data": {
      "text/plain": [
       "DataFrame[]"
      ]
     },
     "execution_count": 34,
     "metadata": {},
     "output_type": "execute_result"
    }
   ],
   "source": [
    "spark.sql(\"\"\"\n",
    "create external table if not exists lending_club.loans(\n",
    "loan_id string, member_id string, loan_amount float, funded_amount float,\n",
    "loan_term_years integer, interest_rate float, monthly_installment float, issue_date string,\n",
    "loan_status string, loan_purpose string, loan_title string)\n",
    "stored as parquet\n",
    "location 'dbfs:/mnt/lending_club/staging/loans/non_partitioned/parquet'\n",
    "\"\"\")"
   ]
  },
  {
   "cell_type": "code",
   "execution_count": 0,
   "metadata": {
    "application/vnd.databricks.v1+cell": {
     "cellMetadata": {
      "byteLimit": 2048000,
      "rowLimit": 10000
     },
     "inputWidgets": {},
     "nuid": "08b2fead-8375-42ca-b6fb-bcf212328818",
     "showTitle": false,
     "title": ""
    }
   },
   "outputs": [
    {
     "output_type": "execute_result",
     "data": {
      "text/plain": [
       "DataFrame[loan_id: string, member_id: string, loan_amount: float, funded_amount: float, loan_term_years: int, interest_rate: float, monthly_installment: float, issue_date: string, loan_status: string, loan_purpose: string, loan_title: string]"
      ]
     },
     "execution_count": 36,
     "metadata": {},
     "output_type": "execute_result"
    }
   ],
   "source": [
    "spark.sql(\"select * from lending_club.loans\")"
   ]
  },
  {
   "cell_type": "code",
   "execution_count": 0,
   "metadata": {
    "application/vnd.databricks.v1+cell": {
     "cellMetadata": {},
     "inputWidgets": {},
     "nuid": "6a076a8a-8ba0-4aa1-9515-66fa8675f30c",
     "showTitle": false,
     "title": ""
    }
   },
   "outputs": [],
   "source": []
  }
 ],
 "metadata": {
  "application/vnd.databricks.v1+notebook": {
   "dashboards": [],
   "language": "python",
   "notebookMetadata": {
    "mostRecentlyExecutedCommandWithImplicitDF": {
     "commandId": 4330638142940287,
     "dataframes": [
      "_sqldf"
     ]
    },
    "pythonIndentUnit": 4
   },
   "notebookName": "Final Clean 2023-12-26 08:53:18",
   "widgets": {}
  }
 },
 "nbformat": 4,
 "nbformat_minor": 0
}
