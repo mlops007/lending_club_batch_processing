{
 "cells": [
  {
   "cell_type": "code",
   "execution_count": 0,
   "metadata": {
    "application/vnd.databricks.v1+cell": {
     "cellMetadata": {
      "byteLimit": 2048000,
      "rowLimit": 10000
     },
     "inputWidgets": {},
     "nuid": "f2d1a668-6736-40e4-b414-1ed495f2f4e6",
     "showTitle": false,
     "title": ""
    }
   },
   "outputs": [
    {
     "output_type": "display_data",
     "data": {
      "text/html": [
       "<style scoped>\n",
       "  .table-result-container {\n",
       "    max-height: 300px;\n",
       "    overflow: auto;\n",
       "  }\n",
       "  table, th, td {\n",
       "    border: 1px solid black;\n",
       "    border-collapse: collapse;\n",
       "  }\n",
       "  th, td {\n",
       "    padding: 5px;\n",
       "  }\n",
       "  th {\n",
       "    text-align: left;\n",
       "  }\n",
       "</style><div class='table-result-container'><table class='table-result'><thead style='background-color: white'><tr><th>path</th><th>name</th><th>size</th><th>modificationTime</th></tr></thead><tbody><tr><td>dbfs:/mnt/lending_club/landing/loans_df/csv/single/_SUCCESS</td><td>_SUCCESS</td><td>0</td><td>1702883689000</td></tr><tr><td>dbfs:/mnt/lending_club/landing/loans_df/csv/single/_committed_357489048282395346</td><td>_committed_357489048282395346</td><td>112</td><td>1702883689000</td></tr><tr><td>dbfs:/mnt/lending_club/landing/loans_df/csv/single/_started_357489048282395346</td><td>_started_357489048282395346</td><td>0</td><td>1702883681000</td></tr><tr><td>dbfs:/mnt/lending_club/landing/loans_df/csv/single/part-00000-tid-357489048282395346-559a0c24-f628-402f-840d-9e24c7f6b5a8-268-1-c000.csv</td><td>part-00000-tid-357489048282395346-559a0c24-f628-402f-840d-9e24c7f6b5a8-268-1-c000.csv</td><td>374481073</td><td>1702883688000</td></tr></tbody></table></div>"
      ]
     },
     "metadata": {
      "application/vnd.databricks.v1+output": {
       "addedWidgets": {},
       "aggData": [],
       "aggError": "",
       "aggOverflow": false,
       "aggSchema": [],
       "aggSeriesLimitReached": false,
       "aggType": "",
       "arguments": {},
       "columnCustomDisplayInfos": {},
       "data": [
        [
         "dbfs:/mnt/lending_club/landing/loans_df/csv/single/_SUCCESS",
         "_SUCCESS",
         0,
         1702883689000
        ],
        [
         "dbfs:/mnt/lending_club/landing/loans_df/csv/single/_committed_357489048282395346",
         "_committed_357489048282395346",
         112,
         1702883689000
        ],
        [
         "dbfs:/mnt/lending_club/landing/loans_df/csv/single/_started_357489048282395346",
         "_started_357489048282395346",
         0,
         1702883681000
        ],
        [
         "dbfs:/mnt/lending_club/landing/loans_df/csv/single/part-00000-tid-357489048282395346-559a0c24-f628-402f-840d-9e24c7f6b5a8-268-1-c000.csv",
         "part-00000-tid-357489048282395346-559a0c24-f628-402f-840d-9e24c7f6b5a8-268-1-c000.csv",
         374481073,
         1702883688000
        ]
       ],
       "datasetInfos": [],
       "dbfsResultPath": null,
       "isJsonSchema": true,
       "metadata": {
        "isDbfsCommandResult": false
       },
       "overflow": false,
       "plotOptions": {
        "customPlotOptions": {},
        "displayType": "table",
        "pivotAggregation": null,
        "pivotColumns": null,
        "xColumns": null,
        "yColumns": null
       },
       "removedWidgets": [],
       "schema": [
        {
         "metadata": "{}",
         "name": "path",
         "type": "\"string\""
        },
        {
         "metadata": "{}",
         "name": "name",
         "type": "\"string\""
        },
        {
         "metadata": "{}",
         "name": "size",
         "type": "\"long\""
        },
        {
         "metadata": "{}",
         "name": "modificationTime",
         "type": "\"long\""
        }
       ],
       "type": "table"
      }
     },
     "output_type": "display_data"
    }
   ],
   "source": [
    "%fs ls mnt/lending_club/landing/loans_df/csv/single/\n"
   ]
  },
  {
   "cell_type": "code",
   "execution_count": 0,
   "metadata": {
    "application/vnd.databricks.v1+cell": {
     "cellMetadata": {
      "byteLimit": 2048000,
      "rowLimit": 10000
     },
     "inputWidgets": {},
     "nuid": "011c5c65-d5af-49a6-bc51-9ca8d2150c9b",
     "showTitle": false,
     "title": ""
    }
   },
   "outputs": [],
   "source": [
    "from pyspark.sql.types import StructType, StructField, TimestampType, IntegerType, StringType, FloatType, LongType, TimestampType\n",
    "from pyspark.sql.functions import regexp_replace, concat_ws\n",
    "from pyspark.sql.functions import when, col, length\n",
    "from pyspark.sql.functions import current_timestamp\n",
    "from pyspark.sql.functions import avg"
   ]
  },
  {
   "cell_type": "code",
   "execution_count": 0,
   "metadata": {
    "application/vnd.databricks.v1+cell": {
     "cellMetadata": {
      "byteLimit": 2048000,
      "rowLimit": 10000
     },
     "inputWidgets": {},
     "nuid": "daebf45a-48f0-451f-96b2-3fdaed71a559",
     "showTitle": false,
     "title": ""
    }
   },
   "outputs": [],
   "source": [
    "loans_df_schema = StructType([\n",
    "    StructField(\"id\", StringType(), True)\n",
    "    ,StructField(\"member_id\", StringType(), True)\n",
    "    ,StructField(\"loan_amount\", FloatType(), True)\n",
    "    ,StructField(\"funded_amount\", FloatType(), True)\n",
    "    ,StructField(\"loan_term_months\", StringType(), True)\n",
    "    ,StructField(\"interest_rate\", FloatType(), True)\n",
    "    ,StructField(\"monthly_installment\", FloatType(), True)\n",
    "    ,StructField(\"issue_date\", StringType(), True)\n",
    "    ,StructField(\"loan_status\", StringType(), True)\n",
    "    ,StructField(\"loan_purpose\", StringType(), True)\n",
    "    ,StructField(\"loan_title\", StringType(), True)\n",
    "])"
   ]
  },
  {
   "cell_type": "code",
   "execution_count": 0,
   "metadata": {
    "application/vnd.databricks.v1+cell": {
     "cellMetadata": {
      "byteLimit": 2048000,
      "rowLimit": 10000
     },
     "inputWidgets": {},
     "nuid": "d30ffefb-f1f4-4e78-8828-4e3282e8e386",
     "showTitle": false,
     "title": ""
    }
   },
   "outputs": [],
   "source": [
    "loans_df_raw = spark.read\\\n",
    "    .format(\"csv\")\\\n",
    "    .option(\"header\", True)\\\n",
    "    .schema(loans_df_schema)\\\n",
    "    .load(\"/mnt/lending_club/landing/loans_df/csv/single/part-00000-tid-357489048282395346-559a0c24-f628-402f-840d-9e24c7f6b5a8-268-1-c000.csv\")"
   ]
  },
  {
   "cell_type": "code",
   "execution_count": 0,
   "metadata": {
    "application/vnd.databricks.v1+cell": {
     "cellMetadata": {
      "byteLimit": 2048000,
      "rowLimit": 10000
     },
     "inputWidgets": {},
     "nuid": "22fbabfd-aabb-45a8-9862-f2132c019feb",
     "showTitle": false,
     "title": ""
    }
   },
   "outputs": [
    {
     "output_type": "stream",
     "name": "stdout",
     "output_type": "stream",
     "text": [
      "+--------+--------------------+-----------+-------------+----------------+-------------+-------------------+----------+-----------+------------------+--------------------+\n|      id|           member_id|loan_amount|funded_amount|loan_term_months|interest_rate|monthly_installment|issue_date|loan_status|      loan_purpose|          loan_title|\n+--------+--------------------+-----------+-------------+----------------+-------------+-------------------+----------+-----------+------------------+--------------------+\n|68407277|af2c01919a67ad070...|     3600.0|       3600.0|       36 months|        13.99|             123.03|  Dec-2015| Fully Paid|debt_consolidation|  Debt consolidation|\n|68355089|51cf0089ac3e1beeb...|    24700.0|      24700.0|       36 months|        11.99|             820.28|  Dec-2015| Fully Paid|    small_business|            Business|\n|68341763|a03d0c087a03631e3...|    20000.0|      20000.0|       60 months|        10.78|             432.66|  Dec-2015| Fully Paid|  home_improvement|                NULL|\n|66310712|edb5d90fadb8d0754...|    35000.0|      35000.0|       60 months|        14.85|              829.9|  Dec-2015|    Current|debt_consolidation|  Debt consolidation|\n|68476807|19ef0a55233f5d753...|    10400.0|      10400.0|       60 months|        22.45|             289.91|  Dec-2015| Fully Paid|    major_purchase|      Major purchase|\n|68426831|e8330c3d08626dd84...|    11950.0|      11950.0|       36 months|        13.44|             405.18|  Dec-2015| Fully Paid|debt_consolidation|  Debt consolidation|\n|68476668|1fcc933dd0548c623...|    20000.0|      20000.0|       36 months|         9.17|             637.58|  Dec-2015| Fully Paid|debt_consolidation|  Debt consolidation|\n|67275481|ac829342586dce5b5...|    20000.0|      20000.0|       36 months|         8.49|             631.26|  Dec-2015| Fully Paid|    major_purchase|      Major purchase|\n|68466926|fc961d7d8940475a1...|    10000.0|      10000.0|       36 months|         6.49|             306.45|  Dec-2015| Fully Paid|       credit_card|Credit card refin...|\n|68616873|6ff86d8b565871d94...|     8000.0|       8000.0|       36 months|        11.48|             263.74|  Dec-2015| Fully Paid|       credit_card|Credit card refin...|\n|68356421|aedd29e3627be1278...|    22400.0|      22400.0|       60 months|        12.88|              508.3|  Dec-2015|    Current|debt_consolidation|  Debt consolidation|\n|68426545|5b42be481ab00e358...|    16000.0|      16000.0|       60 months|        12.88|             363.07|  Dec-2015|    Current|debt_consolidation|  Debt consolidation|\n|68338832|45da7ecd0535b4243...|     1400.0|       1400.0|       36 months|        12.88|               47.1|  Dec-2015| Fully Paid|             other|                NULL|\n|66624733|618a72079f76d6511...|    18000.0|      18000.0|       60 months|        19.48|              471.7|  Dec-2015|Charged Off|debt_consolidation|  Debt consolidation|\n|68466961|b737dd01c078e95e2...|    28000.0|      28000.0|       36 months|         6.49|             858.05|  Dec-2015| Fully Paid|debt_consolidation|  Debt consolidation|\n|68354783|db57cdd3f81b2501a...|     9600.0|       9600.0|       36 months|         7.49|             298.58|  Dec-2015| Fully Paid|       credit_card|Credit card refin...|\n|68466916|7ecc9d571f7dff321...|    25000.0|      25000.0|       36 months|         7.49|             777.55|  Dec-2015| Fully Paid|debt_consolidation|  Debt consolidation|\n|68577849|0704182cf7ed93107...|    18000.0|      18000.0|       60 months|        11.99|             400.31|  Dec-2015| Fully Paid|debt_consolidation|  Debt consolidation|\n|68506798|7b70a7dd291cc5bb5...|    23000.0|      23000.0|       60 months|         8.49|             471.77|  Dec-2015|    Current|       credit_card|Credit card refin...|\n|68495092|d5bbe44369cec752e...|     8650.0|       8650.0|       36 months|        19.89|             320.99|  Dec-2015| Fully Paid|debt_consolidation|  Debt consolidation|\n+--------+--------------------+-----------+-------------+----------------+-------------+-------------------+----------+-----------+------------------+--------------------+\nonly showing top 20 rows\n\n"
     ]
    }
   ],
   "source": [
    "loans_df_raw.show()"
   ]
  },
  {
   "cell_type": "code",
   "execution_count": 0,
   "metadata": {
    "application/vnd.databricks.v1+cell": {
     "cellMetadata": {
      "byteLimit": 2048000,
      "rowLimit": 10000
     },
     "inputWidgets": {},
     "nuid": "ca0d8c49-b992-4ace-bd75-6bcc2da75564",
     "showTitle": false,
     "title": ""
    }
   },
   "outputs": [
    {
     "output_type": "stream",
     "name": "stdout",
     "output_type": "stream",
     "text": [
      "root\n |-- id: string (nullable = true)\n |-- member_id: string (nullable = true)\n |-- loan_amnt: float (nullable = true)\n |-- funded_amnt: float (nullable = true)\n |-- term: string (nullable = true)\n |-- int_rate: float (nullable = true)\n |-- installment: float (nullable = true)\n |-- issue_d: string (nullable = true)\n |-- loan_status: string (nullable = true)\n |-- purpose: string (nullable = true)\n |-- title: string (nullable = true)\n\n"
     ]
    }
   ],
   "source": [
    "loans_df_raw.printSchema()"
   ]
  },
  {
   "cell_type": "markdown",
   "metadata": {
    "application/vnd.databricks.v1+cell": {
     "cellMetadata": {},
     "inputWidgets": {},
     "nuid": "9713e5b6-8dea-4346-aab2-a435b98b1cc5",
     "showTitle": false,
     "title": ""
    }
   },
   "source": [
    "# insert a new column named as ingestion date(current time)"
   ]
  },
  {
   "cell_type": "code",
   "execution_count": 0,
   "metadata": {
    "application/vnd.databricks.v1+cell": {
     "cellMetadata": {
      "byteLimit": 2048000,
      "rowLimit": 10000
     },
     "inputWidgets": {},
     "nuid": "40d29534-5bdc-4f8f-b1b5-ef156639c836",
     "showTitle": false,
     "title": ""
    }
   },
   "outputs": [
    {
     "output_type": "stream",
     "name": "stdout",
     "output_type": "stream",
     "text": [
      "+--------+--------------------+-----------+-------------+----------------+-------------+-------------------+----------+-----------+------------------+--------------------+--------------------+\n|      id|           member_id|loan_amount|funded_amount|loan_term_months|interest_rate|monthly_installment|issue_date|loan_status|      loan_purpose|          loan_title|         ingest_date|\n+--------+--------------------+-----------+-------------+----------------+-------------+-------------------+----------+-----------+------------------+--------------------+--------------------+\n|68407277|af2c01919a67ad070...|     3600.0|       3600.0|       36 months|        13.99|             123.03|  Dec-2015| Fully Paid|debt_consolidation|  Debt consolidation|2023-12-19 13:56:...|\n|68355089|51cf0089ac3e1beeb...|    24700.0|      24700.0|       36 months|        11.99|             820.28|  Dec-2015| Fully Paid|    small_business|            Business|2023-12-19 13:56:...|\n|68341763|a03d0c087a03631e3...|    20000.0|      20000.0|       60 months|        10.78|             432.66|  Dec-2015| Fully Paid|  home_improvement|                NULL|2023-12-19 13:56:...|\n|66310712|edb5d90fadb8d0754...|    35000.0|      35000.0|       60 months|        14.85|              829.9|  Dec-2015|    Current|debt_consolidation|  Debt consolidation|2023-12-19 13:56:...|\n|68476807|19ef0a55233f5d753...|    10400.0|      10400.0|       60 months|        22.45|             289.91|  Dec-2015| Fully Paid|    major_purchase|      Major purchase|2023-12-19 13:56:...|\n|68426831|e8330c3d08626dd84...|    11950.0|      11950.0|       36 months|        13.44|             405.18|  Dec-2015| Fully Paid|debt_consolidation|  Debt consolidation|2023-12-19 13:56:...|\n|68476668|1fcc933dd0548c623...|    20000.0|      20000.0|       36 months|         9.17|             637.58|  Dec-2015| Fully Paid|debt_consolidation|  Debt consolidation|2023-12-19 13:56:...|\n|67275481|ac829342586dce5b5...|    20000.0|      20000.0|       36 months|         8.49|             631.26|  Dec-2015| Fully Paid|    major_purchase|      Major purchase|2023-12-19 13:56:...|\n|68466926|fc961d7d8940475a1...|    10000.0|      10000.0|       36 months|         6.49|             306.45|  Dec-2015| Fully Paid|       credit_card|Credit card refin...|2023-12-19 13:56:...|\n|68616873|6ff86d8b565871d94...|     8000.0|       8000.0|       36 months|        11.48|             263.74|  Dec-2015| Fully Paid|       credit_card|Credit card refin...|2023-12-19 13:56:...|\n|68356421|aedd29e3627be1278...|    22400.0|      22400.0|       60 months|        12.88|              508.3|  Dec-2015|    Current|debt_consolidation|  Debt consolidation|2023-12-19 13:56:...|\n|68426545|5b42be481ab00e358...|    16000.0|      16000.0|       60 months|        12.88|             363.07|  Dec-2015|    Current|debt_consolidation|  Debt consolidation|2023-12-19 13:56:...|\n|68338832|45da7ecd0535b4243...|     1400.0|       1400.0|       36 months|        12.88|               47.1|  Dec-2015| Fully Paid|             other|                NULL|2023-12-19 13:56:...|\n|66624733|618a72079f76d6511...|    18000.0|      18000.0|       60 months|        19.48|              471.7|  Dec-2015|Charged Off|debt_consolidation|  Debt consolidation|2023-12-19 13:56:...|\n|68466961|b737dd01c078e95e2...|    28000.0|      28000.0|       36 months|         6.49|             858.05|  Dec-2015| Fully Paid|debt_consolidation|  Debt consolidation|2023-12-19 13:56:...|\n|68354783|db57cdd3f81b2501a...|     9600.0|       9600.0|       36 months|         7.49|             298.58|  Dec-2015| Fully Paid|       credit_card|Credit card refin...|2023-12-19 13:56:...|\n|68466916|7ecc9d571f7dff321...|    25000.0|      25000.0|       36 months|         7.49|             777.55|  Dec-2015| Fully Paid|debt_consolidation|  Debt consolidation|2023-12-19 13:56:...|\n|68577849|0704182cf7ed93107...|    18000.0|      18000.0|       60 months|        11.99|             400.31|  Dec-2015| Fully Paid|debt_consolidation|  Debt consolidation|2023-12-19 13:56:...|\n|68506798|7b70a7dd291cc5bb5...|    23000.0|      23000.0|       60 months|         8.49|             471.77|  Dec-2015|    Current|       credit_card|Credit card refin...|2023-12-19 13:56:...|\n|68495092|d5bbe44369cec752e...|     8650.0|       8650.0|       36 months|        19.89|             320.99|  Dec-2015| Fully Paid|debt_consolidation|  Debt consolidation|2023-12-19 13:56:...|\n+--------+--------------------+-----------+-------------+----------------+-------------+-------------------+----------+-----------+------------------+--------------------+--------------------+\nonly showing top 20 rows\n\n"
     ]
    }
   ],
   "source": [
    "loans_df_ingested = loans_df_raw.withColumn(\"ingest_date\", current_timestamp())\n",
    "loans_df_ingested.show()"
   ]
  },
  {
   "cell_type": "markdown",
   "metadata": {
    "application/vnd.databricks.v1+cell": {
     "cellMetadata": {},
     "inputWidgets": {},
     "nuid": "7d306fd7-1f5d-4764-94ea-4b7deb2ff7a0",
     "showTitle": false,
     "title": ""
    }
   },
   "source": [
    "\n",
    "#### Dropping the rows which has null values in the mentioned columns"
   ]
  },
  {
   "cell_type": "code",
   "execution_count": 0,
   "metadata": {
    "application/vnd.databricks.v1+cell": {
     "cellMetadata": {
      "byteLimit": 2048000,
      "rowLimit": 10000
     },
     "inputWidgets": {},
     "nuid": "5b21695c-235d-4bd1-a979-c3db695ee3aa",
     "showTitle": false,
     "title": ""
    }
   },
   "outputs": [],
   "source": [
    "null_count = loans_df_ingested.filter(\n",
    "    (loans_df_ingested.loan_amount.isNull()) | (loans_df_ingested.funded_amount.isNull()) | (loans_df_ingested.loan_term_months.isNull()) | (loans_df_ingested.interest_rate.isNull()) | (loans_df_ingested.monthly_installment.isNull()) | \\\n",
    "        (loans_df_ingested.issue_date.isNull()) |(loans_df_ingested.loan_status.isNull()) |(loans_df_ingested.loan_purpose.isNull())\n",
    "    ).count()"
   ]
  },
  {
   "cell_type": "code",
   "execution_count": 0,
   "metadata": {
    "application/vnd.databricks.v1+cell": {
     "cellMetadata": {
      "byteLimit": 2048000,
      "rowLimit": 10000
     },
     "inputWidgets": {},
     "nuid": "fbea41d8-6488-43cf-a8db-ccd403cc5ae0",
     "showTitle": false,
     "title": ""
    }
   },
   "outputs": [
    {
     "output_type": "stream",
     "name": "stdout",
     "output_type": "stream",
     "text": [
      "Number of nulls are : 34\n"
     ]
    }
   ],
   "source": [
    "print(f\"Number of nulls are : {null_count}\")"
   ]
  },
  {
   "cell_type": "code",
   "execution_count": 0,
   "metadata": {
    "application/vnd.databricks.v1+cell": {
     "cellMetadata": {
      "byteLimit": 2048000,
      "rowLimit": 10000
     },
     "inputWidgets": {},
     "nuid": "9102426e-e664-451b-bc46-5dd068116de1",
     "showTitle": false,
     "title": ""
    }
   },
   "outputs": [
    {
     "output_type": "stream",
     "name": "stdout",
     "output_type": "stream",
     "text": [
      "+--------+--------------------+-----------+-------------+----------------+-------------+-------------------+----------+-----------+------------------+--------------------+--------------------+\n|      id|           member_id|loan_amount|funded_amount|loan_term_months|interest_rate|monthly_installment|issue_date|loan_status|      loan_purpose|          loan_title|         ingest_date|\n+--------+--------------------+-----------+-------------+----------------+-------------+-------------------+----------+-----------+------------------+--------------------+--------------------+\n|68407277|af2c01919a67ad070...|     3600.0|       3600.0|       36 months|        13.99|             123.03|  Dec-2015| Fully Paid|debt_consolidation|  Debt consolidation|2023-12-19 14:15:...|\n|68355089|51cf0089ac3e1beeb...|    24700.0|      24700.0|       36 months|        11.99|             820.28|  Dec-2015| Fully Paid|    small_business|            Business|2023-12-19 14:15:...|\n|68341763|a03d0c087a03631e3...|    20000.0|      20000.0|       60 months|        10.78|             432.66|  Dec-2015| Fully Paid|  home_improvement|                NULL|2023-12-19 14:15:...|\n|66310712|edb5d90fadb8d0754...|    35000.0|      35000.0|       60 months|        14.85|              829.9|  Dec-2015|    Current|debt_consolidation|  Debt consolidation|2023-12-19 14:15:...|\n|68476807|19ef0a55233f5d753...|    10400.0|      10400.0|       60 months|        22.45|             289.91|  Dec-2015| Fully Paid|    major_purchase|      Major purchase|2023-12-19 14:15:...|\n|68426831|e8330c3d08626dd84...|    11950.0|      11950.0|       36 months|        13.44|             405.18|  Dec-2015| Fully Paid|debt_consolidation|  Debt consolidation|2023-12-19 14:15:...|\n|68476668|1fcc933dd0548c623...|    20000.0|      20000.0|       36 months|         9.17|             637.58|  Dec-2015| Fully Paid|debt_consolidation|  Debt consolidation|2023-12-19 14:15:...|\n|67275481|ac829342586dce5b5...|    20000.0|      20000.0|       36 months|         8.49|             631.26|  Dec-2015| Fully Paid|    major_purchase|      Major purchase|2023-12-19 14:15:...|\n|68466926|fc961d7d8940475a1...|    10000.0|      10000.0|       36 months|         6.49|             306.45|  Dec-2015| Fully Paid|       credit_card|Credit card refin...|2023-12-19 14:15:...|\n|68616873|6ff86d8b565871d94...|     8000.0|       8000.0|       36 months|        11.48|             263.74|  Dec-2015| Fully Paid|       credit_card|Credit card refin...|2023-12-19 14:15:...|\n|68356421|aedd29e3627be1278...|    22400.0|      22400.0|       60 months|        12.88|              508.3|  Dec-2015|    Current|debt_consolidation|  Debt consolidation|2023-12-19 14:15:...|\n|68426545|5b42be481ab00e358...|    16000.0|      16000.0|       60 months|        12.88|             363.07|  Dec-2015|    Current|debt_consolidation|  Debt consolidation|2023-12-19 14:15:...|\n|68338832|45da7ecd0535b4243...|     1400.0|       1400.0|       36 months|        12.88|               47.1|  Dec-2015| Fully Paid|             other|                NULL|2023-12-19 14:15:...|\n|66624733|618a72079f76d6511...|    18000.0|      18000.0|       60 months|        19.48|              471.7|  Dec-2015|Charged Off|debt_consolidation|  Debt consolidation|2023-12-19 14:15:...|\n|68466961|b737dd01c078e95e2...|    28000.0|      28000.0|       36 months|         6.49|             858.05|  Dec-2015| Fully Paid|debt_consolidation|  Debt consolidation|2023-12-19 14:15:...|\n|68354783|db57cdd3f81b2501a...|     9600.0|       9600.0|       36 months|         7.49|             298.58|  Dec-2015| Fully Paid|       credit_card|Credit card refin...|2023-12-19 14:15:...|\n|68466916|7ecc9d571f7dff321...|    25000.0|      25000.0|       36 months|         7.49|             777.55|  Dec-2015| Fully Paid|debt_consolidation|  Debt consolidation|2023-12-19 14:15:...|\n|68577849|0704182cf7ed93107...|    18000.0|      18000.0|       60 months|        11.99|             400.31|  Dec-2015| Fully Paid|debt_consolidation|  Debt consolidation|2023-12-19 14:15:...|\n|68506798|7b70a7dd291cc5bb5...|    23000.0|      23000.0|       60 months|         8.49|             471.77|  Dec-2015|    Current|       credit_card|Credit card refin...|2023-12-19 14:15:...|\n|68495092|d5bbe44369cec752e...|     8650.0|       8650.0|       36 months|        19.89|             320.99|  Dec-2015| Fully Paid|debt_consolidation|  Debt consolidation|2023-12-19 14:15:...|\n+--------+--------------------+-----------+-------------+----------------+-------------+-------------------+----------+-----------+------------------+--------------------+--------------------+\nonly showing top 20 rows\n\n"
     ]
    }
   ],
   "source": [
    "columns_to_check = [\"loan_amount\", \"funded_amount\", \"loan_term_months\", \"interest_rate\", \"monthly_installment\", \"issue_date\", \"loan_status\", \"loan_purpose\"]\n",
    "\n",
    "loans_filtered = loans_df_ingested.na.drop(subset = columns_to_check)\n",
    "loans_filtered.show()"
   ]
  },
  {
   "cell_type": "code",
   "execution_count": 0,
   "metadata": {
    "application/vnd.databricks.v1+cell": {
     "cellMetadata": {
      "byteLimit": 2048000,
      "rowLimit": 10000
     },
     "inputWidgets": {},
     "nuid": "b128efcf-b8fe-4635-b8af-4eef6945cdd0",
     "showTitle": false,
     "title": ""
    }
   },
   "outputs": [
    {
     "output_type": "execute_result",
     "data": {
      "text/plain": [
       "0"
      ]
     },
     "execution_count": 46,
     "metadata": {},
     "output_type": "execute_result"
    }
   ],
   "source": [
    "loans_filtered.filter(\n",
    "    (loans_df_ingested.loan_amount.isNull())\n",
    "    ).count()"
   ]
  },
  {
   "cell_type": "markdown",
   "metadata": {
    "application/vnd.databricks.v1+cell": {
     "cellMetadata": {},
     "inputWidgets": {},
     "nuid": "a806b8a8-b9d7-493a-9622-c94f33c155b9",
     "showTitle": false,
     "title": ""
    }
   },
   "source": [
    "#### convert loan_term_months to integer"
   ]
  },
  {
   "cell_type": "code",
   "execution_count": 0,
   "metadata": {
    "application/vnd.databricks.v1+cell": {
     "cellMetadata": {
      "byteLimit": 2048000,
      "rowLimit": 10000
     },
     "inputWidgets": {},
     "nuid": "1e5c1e69-b920-468e-bb98-cf3151523c68",
     "showTitle": false,
     "title": ""
    }
   },
   "outputs": [
    {
     "output_type": "stream",
     "name": "stdout",
     "output_type": "stream",
     "text": [
      "+--------+--------------------+-----------+-------------+---------------+-------------+-------------------+----------+-----------+------------------+--------------------+--------------------+\n|      id|           member_id|loan_amount|funded_amount|loan_term_years|interest_rate|monthly_installment|issue_date|loan_status|      loan_purpose|          loan_title|         ingest_date|\n+--------+--------------------+-----------+-------------+---------------+-------------+-------------------+----------+-----------+------------------+--------------------+--------------------+\n|68407277|af2c01919a67ad070...|     3600.0|       3600.0|            3.0|        13.99|             123.03|  Dec-2015| Fully Paid|debt_consolidation|  Debt consolidation|2023-12-19 14:28:...|\n|68355089|51cf0089ac3e1beeb...|    24700.0|      24700.0|            3.0|        11.99|             820.28|  Dec-2015| Fully Paid|    small_business|            Business|2023-12-19 14:28:...|\n|68341763|a03d0c087a03631e3...|    20000.0|      20000.0|            5.0|        10.78|             432.66|  Dec-2015| Fully Paid|  home_improvement|                NULL|2023-12-19 14:28:...|\n|66310712|edb5d90fadb8d0754...|    35000.0|      35000.0|            5.0|        14.85|              829.9|  Dec-2015|    Current|debt_consolidation|  Debt consolidation|2023-12-19 14:28:...|\n|68476807|19ef0a55233f5d753...|    10400.0|      10400.0|            5.0|        22.45|             289.91|  Dec-2015| Fully Paid|    major_purchase|      Major purchase|2023-12-19 14:28:...|\n|68426831|e8330c3d08626dd84...|    11950.0|      11950.0|            3.0|        13.44|             405.18|  Dec-2015| Fully Paid|debt_consolidation|  Debt consolidation|2023-12-19 14:28:...|\n|68476668|1fcc933dd0548c623...|    20000.0|      20000.0|            3.0|         9.17|             637.58|  Dec-2015| Fully Paid|debt_consolidation|  Debt consolidation|2023-12-19 14:28:...|\n|67275481|ac829342586dce5b5...|    20000.0|      20000.0|            3.0|         8.49|             631.26|  Dec-2015| Fully Paid|    major_purchase|      Major purchase|2023-12-19 14:28:...|\n|68466926|fc961d7d8940475a1...|    10000.0|      10000.0|            3.0|         6.49|             306.45|  Dec-2015| Fully Paid|       credit_card|Credit card refin...|2023-12-19 14:28:...|\n|68616873|6ff86d8b565871d94...|     8000.0|       8000.0|            3.0|        11.48|             263.74|  Dec-2015| Fully Paid|       credit_card|Credit card refin...|2023-12-19 14:28:...|\n|68356421|aedd29e3627be1278...|    22400.0|      22400.0|            5.0|        12.88|              508.3|  Dec-2015|    Current|debt_consolidation|  Debt consolidation|2023-12-19 14:28:...|\n|68426545|5b42be481ab00e358...|    16000.0|      16000.0|            5.0|        12.88|             363.07|  Dec-2015|    Current|debt_consolidation|  Debt consolidation|2023-12-19 14:28:...|\n|68338832|45da7ecd0535b4243...|     1400.0|       1400.0|            3.0|        12.88|               47.1|  Dec-2015| Fully Paid|             other|                NULL|2023-12-19 14:28:...|\n|66624733|618a72079f76d6511...|    18000.0|      18000.0|            5.0|        19.48|              471.7|  Dec-2015|Charged Off|debt_consolidation|  Debt consolidation|2023-12-19 14:28:...|\n|68466961|b737dd01c078e95e2...|    28000.0|      28000.0|            3.0|         6.49|             858.05|  Dec-2015| Fully Paid|debt_consolidation|  Debt consolidation|2023-12-19 14:28:...|\n|68354783|db57cdd3f81b2501a...|     9600.0|       9600.0|            3.0|         7.49|             298.58|  Dec-2015| Fully Paid|       credit_card|Credit card refin...|2023-12-19 14:28:...|\n|68466916|7ecc9d571f7dff321...|    25000.0|      25000.0|            3.0|         7.49|             777.55|  Dec-2015| Fully Paid|debt_consolidation|  Debt consolidation|2023-12-19 14:28:...|\n|68577849|0704182cf7ed93107...|    18000.0|      18000.0|            5.0|        11.99|             400.31|  Dec-2015| Fully Paid|debt_consolidation|  Debt consolidation|2023-12-19 14:28:...|\n|68506798|7b70a7dd291cc5bb5...|    23000.0|      23000.0|            5.0|         8.49|             471.77|  Dec-2015|    Current|       credit_card|Credit card refin...|2023-12-19 14:28:...|\n|68495092|d5bbe44369cec752e...|     8650.0|       8650.0|            3.0|        19.89|             320.99|  Dec-2015| Fully Paid|debt_consolidation|  Debt consolidation|2023-12-19 14:28:...|\n+--------+--------------------+-----------+-------------+---------------+-------------+-------------------+----------+-----------+------------------+--------------------+--------------------+\nonly showing top 20 rows\n\n"
     ]
    }
   ],
   "source": [
    "loans_modified = loans_filtered.withColumn(\"loan_term_months\",\n",
    "                                           regexp_replace(col(\"loan_term_months\"), \" months\", \"\"))\n",
    "                                           \n",
    "loans_modified = loans_modified.withColumn(\"loan_term_months\", loans_modified.loan_term_months.cast(\"int\"))\n",
    "loans_modified = loans_modified.withColumn(\"loan_term_months\", loans_modified.loan_term_months/12)\n",
    "loans_modified = loans_modified.withColumnRenamed(\"loan_term_months\", \"loan_term_years\")\n",
    "loans_modified.show()"
   ]
  },
  {
   "cell_type": "markdown",
   "metadata": {
    "application/vnd.databricks.v1+cell": {
     "cellMetadata": {},
     "inputWidgets": {},
     "nuid": "0cecc40c-1bb7-43b6-9b1a-63b8b6e97c29",
     "showTitle": false,
     "title": ""
    }
   },
   "source": [
    "#### Clean the loans_purpose column"
   ]
  },
  {
   "cell_type": "code",
   "execution_count": 0,
   "metadata": {
    "application/vnd.databricks.v1+cell": {
     "cellMetadata": {
      "byteLimit": 2048000,
      "rowLimit": 10000
     },
     "inputWidgets": {},
     "nuid": "2af2a751-4e75-454f-adeb-d6e0462b9f25",
     "showTitle": false,
     "title": ""
    }
   },
   "outputs": [],
   "source": [
    "dist = loans_modified.select(\"loan_purpose\")\n",
    "dist = dist.groupBy(\"loan_purpose\").count()\n",
    "dist_count_ordered = dist.orderBy(\"count\", ascending = False)\n"
   ]
  },
  {
   "cell_type": "code",
   "execution_count": 0,
   "metadata": {
    "application/vnd.databricks.v1+cell": {
     "cellMetadata": {
      "byteLimit": 2048000,
      "rowLimit": 10000
     },
     "inputWidgets": {},
     "nuid": "c5d76d19-ba5f-4765-8e87-23c01c772906",
     "showTitle": false,
     "title": ""
    }
   },
   "outputs": [
    {
     "output_type": "display_data",
     "data": {
      "text/html": [
       "<style scoped>\n",
       "  .table-result-container {\n",
       "    max-height: 300px;\n",
       "    overflow: auto;\n",
       "  }\n",
       "  table, th, td {\n",
       "    border: 1px solid black;\n",
       "    border-collapse: collapse;\n",
       "  }\n",
       "  th, td {\n",
       "    padding: 5px;\n",
       "  }\n",
       "  th {\n",
       "    text-align: left;\n",
       "  }\n",
       "</style><div class='table-result-container'><table class='table-result'><thead style='background-color: white'><tr><th>loan_purpose</th><th>count</th></tr></thead><tbody><tr><td>debt_consolidation</td><td>1277790</td></tr><tr><td>credit_card</td><td>516926</td></tr><tr><td>home_improvement</td><td>150440</td></tr><tr><td>other</td><td>139413</td></tr><tr><td>major_purchase</td><td>50429</td></tr><tr><td>medical</td><td>27481</td></tr><tr><td>small_business</td><td>24659</td></tr><tr><td>car</td><td>24009</td></tr><tr><td>vacation</td><td>15525</td></tr><tr><td>moving</td><td>15402</td></tr><tr><td>house</td><td>14131</td></tr><tr><td>wedding</td><td>2351</td></tr><tr><td>renewable_energy</td><td>1445</td></tr><tr><td>educational</td><td>412</td></tr><tr><td>and also pay off some credit card debt.  I will be debt free except for my payment to you.  I don't care what the interest rate is</td><td>1</td></tr><tr><td>guaranteed!\"</td><td>1</td></tr><tr><td>and if they are allocated properly. I have twenty plus years experience in the investment business so this is my area of expertise. My plan is unique and will be successful due to the biased nature of the investment business.<br/>\"</td><td>1</td></tr><tr><td>never had any trouble with debts.\"\"\"\"I bought a duplex in june. The only thing left to renovate is the roof and redo the sidewalk and drive way. I am secure in my job</td><td>1</td></tr><tr><td><br/><br/>Lending Club Member Support\"\"<br/>*********<br/><br/>Please contact the Lending Club if you have ANY questions about my loan.<br/>\"</td><td>1</td></tr><tr><td>Bank of America cut our business credit. This left us without the \"\"bridge\"\" capital that we use for seasonal fluctuations in our business income.   Our contracts are usually enacted in the 2nd and 3rd quarters of each year. Therefore</td><td>1</td></tr><tr><td>stocks</td><td>1</td></tr><tr><td>please feel free to ask and I will enlighten you.\"</td><td>1</td></tr><tr><td>I became his primary caregiver.<br/><br/>And to add more strain to our situation</td><td>1</td></tr><tr><td>brakes</td><td>1</td></tr><tr><td>on one of the busiest routes in the entire state</td><td>1</td></tr><tr><td>because of the nature of my business bonus income is very substantial.  Last year's bonus and origination share was over $105</td><td>1</td></tr><tr><td>progressive multi-media company start-up. The initial project of this single-member LLC is an entrepreneurial opportunity that must be taken advantage of immediately</td><td>1</td></tr><tr><td>but not much info for borrower. <br/><br/>If the lender goes bankruptcy.<br/>If the lender die. <br/>Who covers the cost... i'm guessing lenders club.<br/><br/>I'll probably invest in lending club in the near future... but i would not want to invest in something without seeing how the borrower experience is. I will also investigate the above question in more detail at that time.<br/><br/>Thank you for your time!<br/>\"</td><td>1</td></tr><tr><td>I have eliminated 2 1/2 so far</td><td>1</td></tr><tr><td>TutoringOne is a leader in the next generation of innovative education techniques that will improve student achievement and potential for global success.  TutoringOne is staffed by “highly qualified teachers” and college experts or graduates who provide live services 24 hours a day.  Teachers are specifically qualified to teach high school core academic subject areas</td><td>1</td></tr><tr><td>so I have to pay for my loss</td><td>1</td></tr><tr><td>you may feel confident I can always make my payments. 558389 added on 10/16/09 > This loan will partially be used to include:  putting a 3.5% down payment on my newly purchased $105</td><td>1</td></tr><tr><td>Hilal Khalil Homaidan\"</td><td>1</td></tr><tr><td>000 in debt on credit cards. Yes</td><td>1</td></tr><tr><td>and the monthly payment are perfect for my situation.  Thank you in advance.  Sincerely</td><td>1</td></tr><tr><td>the state of the economy</td><td>1</td></tr><tr><td>I will receive the title and will be able to sell the motorcycle ASAP.  I will most likely be able to get around 6500 for the motorcycle so most of this loan will get paid back once the motorcycle is sold.  Thank you for your time</td><td>1</td></tr><tr><td>Credit Card</td><td>1</td></tr><tr><td>I will be able to budget accordingly for future tax expenses.  Thank you for your help!\"</td><td>1</td></tr><tr><td>but you never know.  My wife and I decided to start living in our basement and renting out the top of the house as a Vacation Rental and sometimes as a Bed & Breakfast. So we did some remodeling and racked up our first permanent CC debt in my life ($10 K). We have started renting our house and things look promising.  I hate the idea of giving the interest I made off of the CC companies back to them and would rather get a loan from investors here.\"</td><td>1</td></tr><tr><td>so I am trying to help clean his up some by clearing some of these bad rates.<br/>\"</td><td>1</td></tr><tr><td>I am very serious about fulfilling my obligations to lenders. Financial health is my #1 priority. \"</td><td>1</td></tr><tr><td>but has seen his interest rates double due to blah</td><td>1</td></tr><tr><td>rental property</td><td>1</td></tr><tr><td>in \"\"lunar conditions\"\".  We have already built an initial prototype</td><td>1</td></tr><tr><td>in the past couple of months however</td><td>1</td></tr><tr><td>and I have never been late or even missed a payment. I have been trying to pay off this balance</td><td>1</td></tr><tr><td>we can guarantee you a few things. We are at LC because a bank has either turned us down for a loan or the interest rates were higher than the debt we have. We realize that we rather see a peer profit from our loans as well as helping us succeed.<br/><br/>Will this loan be paid back in 36 months. I have EVERY intention to pay this loan in LESS than 36 months. I would like to purchase a house in the future</td><td>1</td></tr><tr><td>but unfortunately</td><td>1</td></tr><tr><td>Butler PA. It is currently rented out so repaying the capital wouldn't be an issue.  They are currently locked in a 1 year lease with one tenant two months in with the other tenant three.  However I am on a time constraint with the seller because my initial loan from the bank was denied so quick financing would be the best option. It works out for you because you get your loan plus interest from a guaranteed investment source. Again thank you for your interest!\"</td><td>1</td></tr><tr><td>because we are not looking to give up equity in the company long-term. And</td><td>1</td></tr><tr><td>every month. I do not want to be on the \"\"Treadmill\"\" any longer and would appreciate you assistance in making this .<br/><br/>The reasons for the debt is due the following in which I will list below<br/><br/>1. Excessive auto repairs (I have since bought a newer late model used car). So having to have a 10+ YR old vehicle repaired on a regular basis will no longer be an issue.<br/><br/>2. Being unemployed and/or having low paying jobs which excessively exceeded my daily living expenses. I have been able to increase my income and have good job security. I have been with my current employer for nearly 2 years. I also plan to look for additional sources of income (i.e second job</td><td>1</td></tr><tr><td>I don't need extravagance... I just want to put my house back together!\"</td><td>1</td></tr><tr><td>which is easy to do.  $5000 goes to repaying a private loan while the rest will go towards buying a Laptop Computer</td><td>1</td></tr><tr><td>low Rate. Tired of Writing / E paying</td><td>1</td></tr><tr><td>I have the means to get myself out of the mess I created but I would like to quit rewarding the predatory \"\"enablers\"\" with interest payments. I am responsible for getting into this problem. I am now looking forward to getting out and if I can accelerate that process using the lending club with a better rate and not reward credit card companies any more than I already have. So much the better  Thank you for your consideration\"</td><td>1</td></tr><tr><td>I lacked the funds to see it through.  I asked the specialist in Toronto why insurance does not cover it</td><td>1</td></tr><tr><td>it is a historic treasure that deserves repair.    I was approved for a total home renovation loan</td><td>1</td></tr><tr><td>and from that my own stem cells are harvested. Then these stem cells are re-injected into the problem area of the bone to promote re-growth or at least halt the degeneration. This was done by Dr Centeno at the Regenexx clinic in CO. It seems to have been successful. I now need to have this done on my left hip. The procedure cost $8000 and I only have $4000. I have been turned down by my bank and we spent most of our savings on our adoption process. I am experiencing quite a bit of pain and have scheduled the procedure for July- hoping I can raise the money. \"</td><td>1</td></tr><tr><td>I want to pay off my credit cards as soon as possible and destroy them!  I don't have particularly high interest rates</td><td>1</td></tr><tr><td>too</td><td>1</td></tr><tr><td>and it lasts through 2014.<br/><br/>Thank you very much for your consideration.<br/> Borrower added on 03/15/10 > I plan to use the loan to pay off my credit card debt so I will not have to worry about multiple credit card payments every month. Having a fixed interest rate will afford me the opportunity to have a fixed payment plan</td><td>1</td></tr><tr><td>judgments</td><td>1</td></tr><tr><td>MD\"\"... approx. 4 miles North of Bethesda (an appreciating to stable market) and 6 miles South of Rockville (designated a declining market).  The need to borrow is created by timing.  I estimate that the current value of the divorce assets is approximately $200</td><td>1</td></tr><tr><td>so will not affect my budget to increase.  The final buyout price of the car is $15</td><td>1</td></tr><tr><td>550 amount</td><td>1</td></tr><tr><td>allowing me to double or triple payments.<br/>\"</td><td>1</td></tr><tr><td>when I meant \"\"home rehabilitation\"\" -- but I presume the text of my loan description makes that obvious FHA 203(k) program and all.<br/>  <br/>I just wanted to clarify. Thanks for your interest.<br/>\"</td><td>1</td></tr><tr><td>500 more to make my dream come true.  I was self-employed for 17 years it was the happiest times of my life.  Getting out working tirelessly for MY goals.  Then life came along and it was necessary for me to work in the corporate world for the last 10 years for their goals.  I now want to go back to working hard and being happy.  Help me make my dream come true.\"</td><td>1</td></tr><tr><td>lower my finance rate</td><td>1</td></tr><tr><td>so we will have the added greenhouse space for organic</td><td>1</td></tr><tr><td>\"\" even though I've made my payments on time for more than five years for each of the cards.   My goal is to completely pay off all of my non-mortgage debt and by refinancing this debt with a fixed rate I think this is completely obtainable within three years</td><td>1</td></tr><tr><td>it was too late to call and they are not open on weekends.***   ****Now that everything has been VERIFIED for me and they have spoken to me by phone they have stated I need to relist - as my original listing expired</td><td>1</td></tr><tr><td>a school being built in Kenya for deaf children.  These children are considered throw-aways in Kenya and some other African nations.  They are sometimes tied to trees in the bush and left for the wild animals to kill them and eat them.  I want to contribute all of this loan amount at once and would have to cash in some investments carrying a penalty for early withdrawal otherwise.  If you would like to help with a contribution of your own</td><td>1</td></tr><tr><td>my cell is on a family plan at 10 dollars a month</td><td>1</td></tr><tr><td>or over my credit limit? No! They are raising it because \"\"everyone else is doing it.\"\" What a scam! And this is not just a small nudge</td><td>1</td></tr><tr><td>art shows and book sales</td><td>1</td></tr><tr><td>I am married and my husband makes around 80-90K per year.  Since these are all my credit cards</td><td>1</td></tr><tr><td>so it is just not possible for me to get a part time job right now due to their age and also all of their school activities.  This consolidation will help save money each month</td><td>1</td></tr><tr><td>they love me</td><td>1</td></tr><tr><td>as long as we pay at least 5% of the balance each month (which we do). Unfortunately</td><td>1</td></tr><tr><td>I need the loan before my credit report \"\"fixes\"\" itself.\"</td><td>1</td></tr><tr><td>I'm with a Fed agency as a contractor and my wife is a teacher here in Northern VA.  I have talked to my client and have been assured that my position is as secure as his Fed slot.<br/> Borrower added on 06/04/10 > Please feel free to contact me with any questions or concerns.<br/>\"</td><td>1</td></tr><tr><td>so that our company will continue to realize the success which it has had for 25 years.    Please feel free to ask any questions. I will gladly provide any additional details you may require.    Thank you for your consideration.  Borrower added on 05/13/10 > We have recently incorporated a new division of our company in Nevada</td><td>1</td></tr><tr><td>we expect the return in this location to pay the lender(s) back in good time.\"</td><td>1</td></tr><tr><td>JC\"</td><td>1</td></tr><tr><td>our eaves on our house</td><td>1</td></tr><tr><td>but I could not</td><td>1</td></tr><tr><td>I am a good borrower because I have the ability to pay back loans in a timely manner. I have always paid above any minimum amounts due. I have paid any accounts before due dates and typically have paid off loans before the initial end of the loan. I have only had one late payment in the previous three years and that was a credit card annual fee added to my account from Capital One in the amount of $29. I would have paid the amount; however</td><td>1</td></tr><tr><td>without making them feel as though they are \"\"beneath\"\" the rest of us</td><td>1</td></tr><tr><td>300 across 3 retirement accounts.  I save 5% of my paycheck for my 401(k).  I stopped a year ago on my Roth and IRA due to the market meltdown (it sucked to see your money vanish the day after you put it in). We had a $2</td><td>1</td></tr><tr><td>LINE</td><td>1</td></tr><tr><td>20 foot Yamaha sport boat is quite a beauty</td><td>1</td></tr><tr><td>but it will stay open until paid off</td><td>1</td></tr><tr><td>and I am finally in a position to where I can afford a second car</td><td>1</td></tr><tr><td>but any help would be greatly appreciated.   I am trying to live a good life and I give back to others daily. While I am not able to do this finacially</td><td>1</td></tr><tr><td>I'll never be here again!) After coming back to the States</td><td>1</td></tr><tr><td>however</td><td>1</td></tr><tr><td>once under contract</td><td>1</td></tr><tr><td>putting together an apartment here</td><td>1</td></tr><tr><td>but we cant all be just like our Grandad.  I am not DESPERATE for this</td><td>1</td></tr><tr><td>Own my Car outright</td><td>1</td></tr><tr><td>PA). \"</td><td>1</td></tr><tr><td>this was a good thing because it marked the end of some foolish decisions and now I would like to put this behind me quickly. It is my understanding that closed accounts with balances hurt your credit score. But</td><td>1</td></tr><tr><td>CA for 13 years. My credit rating is approximately 740.  I have a good-paying job (as a full-time consultant under contract) that is secure. My actual loan-to-debt ratio is good.  I have no other major credit (card) debt other than my mortgage. I own a 2005 BMW.    Any fellow horse-lovers out there that can empathize?   \"</td><td>1</td></tr><tr><td>increasingly</td><td>1</td></tr><tr><td>in other words</td><td>1</td></tr><tr><td>you are eligible to receive a second loan with us.\"\"  We have had such a good experience that we thought we'd finish off our last remaining credit cards and hopefully soon sign up to be a lender for someone who needs a little help.\"</td><td>1</td></tr><tr><td>bushes</td><td>1</td></tr><tr><td>carbon filtered inserts for underwear</td><td>1</td></tr><tr><td>I'll work on the car then the house.  Thanks for your consideration!\"</td><td>1</td></tr><tr><td>skin care</td><td>1</td></tr><tr><td>and I had grown my residual base and my yearly income to a point where I was \"\"outearning\"\" the owners</td><td>1</td></tr><tr><td>again</td><td>1</td></tr><tr><td>while preparing for my jump off of the swing and have a safe</td><td>1</td></tr><tr><td>but a bit too much of it. I would like to be able to purchase my first home in a few years and finish putting myself thru school. However</td><td>1</td></tr><tr><td>which is more than I am requesting.  Ill just pay of the rest myself.  According to the Lending Club website</td><td>1</td></tr><tr><td>and by understanding this issue</td><td>1</td></tr><tr><td>I am never in danger of losing my job involuntarily.  This loan will help me consolidate some debt I incurred as a result of helping family members with some rather large (but necessary) medical and legal bills.  I don't complain about incurring the debt because it was the right thing to do.  Now all I would like to do is pay one bill at a decent interest rate instead of 4 credit cards at high rates.  Thank you for your interest.\"</td><td>1</td></tr><tr><td>we would not have revolving credit balances if not for our own decision to pay the education expenses for our daughter Andrea and our son Eric.\"</td><td>1</td></tr><tr><td>no honey attitude\"\". I'm basically doing everything I can do to get out of debt and invest in my future. I've also been looking for night and weekend work.\"</td><td>1</td></tr><tr><td>but will primarily be used as a debt consolidation tool.   I studied abroad in Oxford for about six months</td><td>1</td></tr><tr><td>and if I'm going to pay anyone interest</td><td>1</td></tr><tr><td>such as the plumbing</td><td>1</td></tr><tr><td>expensive electronics (I salvaged our TV from my neighbors trash)</td><td>1</td></tr><tr><td>and have a solid income at $11.79/hr x 25 hr/wk. This is my last year of school and then I'm on to a real job!!! I only pay $225 a month for rent and $35 for utilities. I don't have a car payment</td><td>1</td></tr><tr><td>I thought it was a great idea that fellow americans could be making money off of interest</td><td>1</td></tr><tr><td>affordable family adventures. Some of these items include a gear trailer</td><td>1</td></tr><tr><td>not only will my competence as an educator have been verified through the extensive</td><td>1</td></tr><tr><td>739.00. Primarily</td><td>1</td></tr><tr><td>Time has become an issue. This device allows me to expedite the process significantly</td><td>1</td></tr><tr><td>\"\" and I would rather pay a fixed rate than an outrageous</td><td>1</td></tr><tr><td>meaning the metrics I use are all based on best and worst case scenarios with contingencies for the major and obvious disasters (economy</td><td>1</td></tr><tr><td>and I work full -time as a Senior Financial Analyst at a fortune 100 company. Personally</td><td>1</td></tr><tr><td>and earns an additional $49</td><td>1</td></tr><tr><td>000 as a downpayment.  I am able to pay $5</td><td>1</td></tr><tr><td>I have requested this loan because of the high interest I am paying on the balances on my credit cards. Some APRS  from  17.99 to 19.99 even with my good credit score. It is time to say good bye to these credit card companies.  <br/>   I have been on my job for 21 years and yes it is my career.<br/>I have learned that paying cash is the best way to go these days. I have a plan to be almost debt free because we all will have some type of debt in this lifetime. If I am funded/approved for this loan it will surely help.<br/>So if you have any questions feel free to submit them.<br/><br/> I Thank You for your time and consideration.<br/>\"</td><td>1</td></tr><tr><td>5 years).  I request this loan because of my families current unforeseen situation and it's time sensitivity.  I feel an incredible sense of duty to honor the commitment made to the lenders of this loan.  As I will do what it takes to keep the promise I made to my father to protect him</td><td>1</td></tr><tr><td>first as a Borrower then perhaps also as an Investor.<br/> Borrower added on 03/05/10 > Am a Senior Executive of a Healthcare Marketing & Communications Agency<br/>Have two Sons in College at the same time.<br/>Could liquidate stocks but want to give the market more time to come back.<br/>Also wanted to try \"\"peer-to-peer\"\" banking</td><td>1</td></tr><tr><td>CB Radio or Police scanner from Overstock there is a good chance it is actually coming from us. (we are 1 of several \"\"Overstock Partners\"\" that supply that type of merchandise for them.   The money will be used for:  1. Increasing Inventory I intend to increase inventory. ( the no. of SKUs) Width of inventory is the key to my business. There is not much risk involved as I can accurately predict what I can sell most anything for</td><td>1</td></tr><tr><td>let's hike his interest so we get more and he can't pay down principle.\"\" My response - enough is enough. I'd rather smart investors like Lending Club members get my interest money than keep sending it to a credit card company that treats me this way! Please help me free myself from these companies. Thanks.<br/> Borrower added on 03/12/10 > FYI: We do rent the home we live in</td><td>1</td></tr><tr><td>and the young lady I talked to that works for lending club advised me that I would have to wait for an email to come through in order to verify my income so I am waiting for that email.  Thank You</td><td>1</td></tr><tr><td>which necessitated incurring additional (unexpected) expenses to travel to their funerals. I have been employed by the same company for a little over 2 years</td><td>1</td></tr><tr><td>responsibility and compensation.  I made a lot of finanancal mistakes years ago when I graduated college but now I am ready to remedy those mistakes and achieve financial freedom from Credit Cards.<br/>\"</td><td>1</td></tr><tr><td>and extremely secure despite the grim economic woes felt by the rest of the world.  In 2010 and almost eighteen years later</td><td>1</td></tr><tr><td>I will be lowering my monthly payments and will have a definite payoff date of within three years of all my debt.  Even though one of the loans will be transferred to a higher interest rate</td><td>1</td></tr><tr><td>Paladin will benefit from the 3% set-aside on federal government projects of greater than $500</td><td>1</td></tr><tr><td>I decided I'd like to let some real people earn my interest dollars.<br/>\"</td><td>1</td></tr><tr><td>so has local and small business budgets for promotion and advertising.  This in turn directly affects my income.    The primary purpose of this loan is to pay off two of the three credit cards that I currently have.  I have two balances that amount to roughly $5000.  By paying these off using a loan through this organization</td><td>1</td></tr><tr><td>and are paid in full by him each month.  A little about myself: I'm a recent graduate (Dec '09) from Texas A&M University. Prior to starting my current job in January</td><td>1</td></tr><tr><td>I am looking to start with Lending Club.  I have excellent credit</td><td>1</td></tr><tr><td>as well as $1270 loaned to me for security and first month rent at an apartment.\"</td><td>1</td></tr><tr><td>multipurpose card) have rates anywhere near this. Just looking to pay less in interest for my wonderful Ibanez guitars!   Thanks!\"</td><td>1</td></tr><tr><td>please do not hesitate to ask.  I have contacted Lending Club about how to verify my income to make my loan more attractive as well.  Thank you!<br/>\"</td><td>1</td></tr><tr><td>Macy's Visa is not new debt.  That account was opened in 2003.  I really don't know why the credit report isn't showing that balance.<br/> Borrower added on 02/07/10 > To Member_569427</td><td>1</td></tr><tr><td>and use the P2P method instead.  Thank you for taking the time to review my loan request.<br/> Borrower added on 01/16/10 > Thank you everyone who has funded my loan so far.  I<br/>am also quite impressed with ease of the Lending Club P2P process.<br/>\"</td><td>1</td></tr><tr><td>I accidentally clicked the \"\"IGNORE\"\" button.  Holiday drowsiness I think.<br/><br/>I will send the email starting the verification process tomorrow morning.  Away for the holidays but I presume that I can get that taken care of when I return Tuesday.  Thanks and sorry again for the 'ignore'.<br/>\"</td><td>1</td></tr><tr><td>and to be debt free by three years.  This plan should afford me the opportunity to send my child to private school at that time and help improve the quality of life for my family.  \"</td><td>1</td></tr><tr><td>so that's where my credit card purchases began. My current interest on my card is too much so with this loan</td><td>1</td></tr><tr><td>000 to pay off those credit cards(of which i have NEVER been late with a payment).  If you would like specifics on the balances or interest rates of those accounts please contact me.  Thank you for your time.  Sincerely</td><td>1</td></tr><tr><td>in case a lawsuit was filed AFTER I moved</td><td>1</td></tr><tr><td>and Software to major OEM's for sell to End Users.  I handle the Business Development for one of their largest OEM's.  I have been doing this for 2 years</td><td>1</td></tr><tr><td>is located by the Delaware river</td><td>1</td></tr><tr><td>lower interest rate</td><td>1</td></tr><tr><td>at the time of these rate increases we were working hard to pay off these debts. We have no doubt that we will easily be able to pay off this loan and give you a good</td><td>1</td></tr><tr><td>fence and do landscaping work around our property.  We would like to pay it off in only 12 months.\"</td><td>1</td></tr><tr><td>movies</td><td>1</td></tr><tr><td>which leaves me with my $3100 after taxes to pay all bills. Thanks again.<br/> Borrower added on 05/20/10 > I know my credit score is not good</td><td>1</td></tr><tr><td>I am now ready to deliver this service via the web using an interactive website. The proceeds from this loan will help pay for the development and launch of this website.<br/><br/>This is the kind of business that does well in any economy (especially a down economy). I'm starting out as a service-based business</td><td>1</td></tr><tr><td>I helped that guy do that!\"\".  If it doesn't</td><td>1</td></tr><tr><td>500 per car sale. This is worth it even if I just sold 2 or 3 a month.  I need this loan to give me a very much needed boost to start investing in this type of business. <br/>My plan</td><td>1</td></tr><tr><td>TransUnion: 684</td><td>1</td></tr><tr><td>my family's immediate goal of wrestling our credit card debt to zero is very much an uphill battle.  Looking for a low-interest</td><td>1</td></tr><tr><td>and transparent relationship base of the Lending Club.<br/>\"</td><td>1</td></tr><tr><td>one of those actors is Kane Hodder who would be best know as Jason from the movies; Jason X (2001)</td><td>1</td></tr><tr><td>I was canceling them</td><td>1</td></tr><tr><td>I pay my bills and I pay on time.  I stay on top of my financial status.  My goal is to free myself of credit card debt</td><td>1</td></tr><tr><td>etc?<br/>\"</td><td>1</td></tr><tr><td>at lower interest rates</td><td>1</td></tr><tr><td>eat greek meals\"\".There is a golf course and >5 RV vacation camps that will also receive a gift as first guest at The Greek Tavern.<br/> 572953 added on 11/17/09 > Let me tell you about our operation. The Greek Tavern will have self serve system. The client will order at the register</td><td>1</td></tr><tr><td>she recently made it clear she's eager to get engaged. (Or maybe I've been missing subtle clues for a while.) In any event</td><td>1</td></tr><tr><td>000 annually.  We are easily able to pay are mortgage and debts each month.  We are using this loan to pay off the two credit cards we have and eliminate debt over a 3 year period</td><td>1</td></tr><tr><td>which is their life and possibly career one day.<br/>My job is stable and I am a good and valuable employee.  I've won multiple employee awards and have been recognized for my contributions to the company.  <br/>All I want is to pay my creditors and not incur new debt.  We've stopped using any kind of credit as of last year</td><td>1</td></tr><tr><td>just pending bank approval from the buyer) . This will free up more money to enable me to pay this off in a timely matter.<br/>\"</td><td>1</td></tr><tr><td>,debt_consolidation,Debt Consolidation + Funeral Expenses,940xx,CA,6.08,1.0,Mar-1999,675.0,679.0,1.0,14.0,0.0,5.0,0.0,5071.0,78.0,7.0,f,0.0,0.0,11885.53,1899.55,8903.51,2703.9,0.0,278.12,2.95,Jan-2010,504.84,,Jul-2010,504.0,500.0,0.0,,1.0,Individual,,,,0.0,,,,,,,,,,,,,,,,,,,,,,0.0,0.0,,,,,,,,,,,,,,,,,,,,,,,,,,,0.0,,,,,,,,,,,,,,,,,,N,,,,,,,,,,,,,,,Cash,N,,,,,,</td><td>1</td></tr><tr><td>with a track record of success</td><td>1</td></tr><tr><td>my wife and I</td><td>1</td></tr><tr><td>i wasn't even born until October of 88. So i guess i need to contact the Credit bureau or whoever</td><td>1</td></tr><tr><td>I realize that I may have to pay a higher interest rate than other borrowers with a higher credit score.     I'm prepared to pay a higher than normal rate</td><td>1</td></tr><tr><td>it would be greatly appreciated.  Thank you.<br/>\"</td><td>1</td></tr><tr><td>I did not anticipate the costs of travel back and forth for breaks when the school is closed or the new computer she needed and other supplies and deposits needed for this dream to come true for her. Additionally my car has required several repairs this year and my refigerator is on its last legs. The 8</td><td>1</td></tr><tr><td>usually doubling the payments</td><td>1</td></tr><tr><td>such as fees</td><td>1</td></tr><tr><td>the grass is in a really sad condition.\"</td><td>1</td></tr><tr><td>I discovered that this was a new tactic being used where the higher interest credit card account would have been closed and opening another account would have adversely affected my credit score (thus further indebting me to that bank)!!!!  This offer occurred when my credit score improved as the collections accounts from 2001 were no longer on my credit report......It is important to note that one of my bank card holders raised my credit limit at a time when banks were lowering credit limits and the bank that raised my APR</td><td>1</td></tr><tr><td>and 2) I need to reduce my commuting time now that my company is moving a few miles away from our current home.  I have pristine credit history</td><td>1</td></tr><tr><td>I thought I'd give this Lending Club thing a try.  I recently made the move to KC (to be closer to my future wife</td><td>1</td></tr><tr><td>but I've still got a little ways to go before any of that comes to fruition.    As far as the military goes</td><td>1</td></tr><tr><td>which was a swindle from the start.  The interest rate for the loan sits right now at 19.99% and will likely increase; regardless of my pristine payment history on every account I've had with them and a consistent overpayment of the minimum</td><td>1</td></tr><tr><td>at which point I had virtually no income.  During this span of three years</td><td>1</td></tr><tr><td>it was going to be tougher then I thought. Long and interesting story short.. I am currently an Investigator for American International Group. This might make you scratch your head... Let me explain... I was previously employed by JP Morgan Chase  as the Computer Forensic Analyst in Corporate Global Security Department.  I was recruited to American International Group  in 2008 as a member of there Investigation Team</td><td>1</td></tr><tr><td>mostly in lowering my stress level each not wondering if i've paid everything for the given month by the given date.  I hope you can help me out.  Thank you for your time.  \"</td><td>1</td></tr><tr><td>and wish to explore how the borrower side of this website is managed. To blanket answer a few of my fellow investors questions... No - I do not need the loan of $2K to support a purchase. I have plenty of funds to accommodate my lifestyle. As you will notice in my income; debt to income ratio; and outstanding balances - I'm financially secure.   Past delinquency shown on the credit report is from a two medical bills which I was unaware of</td><td>1</td></tr><tr><td>but it is not at all due to unreliable behavior.\"\"<br/>\"</td><td>1</td></tr><tr><td>TEXAS\"\"  when it should be \"\"Chattanooga</td><td>1</td></tr><tr><td>I have always been on time with my payments for all of my borrowing needs</td><td>1</td></tr><tr><td>768</td><td>1</td></tr><tr><td>000 so far this year.<br/>><br/>> I'm currently employed at a top 100 DOD Contractor and have been for over 10 years.  Income is more than sufficient to carry the debt load and if for some reason the business can not afford the payment and I need to pay it myself</td><td>1</td></tr><tr><td><br/>I feel I must clarify a few things to assist any funders interested in my loan. A mistake was made in my profile regarding my work history. I have been employed at my present company for 18+ years and previously at DuPont for 17 years. As I stated I am only trying to get rid of two high interest accounts and move foward towards saving for retirement. I have a decent small nest egg but using it to pay off these two obligations could put me in a position I would not like to be in with this economy. It makes sense to combine these into a single payment with a much smaller rate and be done with it in three years and move on. My credit history should prove that I always pay my bills and am never late. I have the standard bills: mortgage</td><td>1</td></tr><tr><td>my income exceeds my expenses and I'm very meticulous about spending.  I have good control over myself mentally</td><td>1</td></tr><tr><td>domestic</td><td>1</td></tr><tr><td>and another one coming up</td><td>1</td></tr><tr><td><br/>BUT I'VE NEVER MISSED A PAYMENT--NOR BEEN LATE</td><td>1</td></tr><tr><td>looking better than ever.\"\"  The unit includes a dual-braking sustem</td><td>1</td></tr><tr><td>but given that i cant excercise that option</td><td>1</td></tr><tr><td>no interest</td><td>1</td></tr><tr><td>my parents will not support me during my education journey.  I do have a full-time job</td><td>1</td></tr><tr><td>perhaps a bit lower and certainly a lower interest rate</td><td>1</td></tr><tr><td>but want to make sure I have enough cash on hand.  It is a tough lending environment out there for me (even with decent credit and income)</td><td>1</td></tr><tr><td>I am not comfortable with broadcasting the what and how of my financial problems. My Credit Report should speak for my credibility and if it does'nt I Thank You for the Consideration. I am capable of paying the loan back no later than Feb. 2011</td><td>1</td></tr><tr><td>000 in annual passive / renewal gross income.  We have always had lines of credit with major banks. It seems banks are afraid to lend to anyone at this time! That is why I am here now. We would like to simply eliminate the last of the credit card debt that we have. Aprox. $10</td><td>1</td></tr><tr><td>proms</td><td>1</td></tr><tr><td>I will never be able to spend time with our boys. My ex wife</td><td>1</td></tr><tr><td>000 (income approx $10</td><td>1</td></tr><tr><td>will fix. I previously have been a finance manager and a buyer for fragrance and accessories.<br/>\"</td><td>1</td></tr><tr><td>hopefully in time for the holidays. I want to thank</td><td>1</td></tr><tr><td>000</td><td>1</td></tr><tr><td>the funds will be used to pay off four credit card balances which currently have ridiculously high APR's and the one car loan that we have (which weâve had for three years now).  Working in the Lending industry ourselves</td><td>1</td></tr><tr><td>they will sell at a way lower value than what it's worth in order to make quick money.  I will buy these items and flip them around for profits later on.<br/> Borrower added on 06/09/10 > I'm going to verify my bank account as soon as the transaction appears on my statement.  I need the funding ASAP! Please people</td><td>1</td></tr><tr><td>not 3</td><td>1</td></tr><tr><td>(Citi Bank) which they owned up to and admitted there were some glitches</td><td>1</td></tr><tr><td>such \"\"above and beyond\"\" circumstances include participation in group showings at local galleries (which generally charge a utilization fee for us to use in the first place) as well as premium member account benefits on the website that's currently under construction (such as unlimited uploading of photos</td><td>1</td></tr><tr><td>I have a very large client (confidential) that has had me working on a network in India. I have purchased most of the equipment necessary</td><td>1</td></tr><tr><td>I also always pay a little more than the minimums due.  My truck is paid for and there is no monthly payment.   Thank You for considering me for this loan.\"</td><td>1</td></tr><tr><td>I say thanks and make payments\"\" kind of thing. I want you to get to know me</td><td>1</td></tr><tr><td>000 at 14.99%! Just below my lowest credit card APR at the time. It was disapointing to me because I have such a good credit score. Either way I have paid a little more than the min every month on time</td><td>1</td></tr><tr><td>and have never had any credit but credit cards (paid in full each month).  I have purchased my (used) vehicles with cash</td><td>1</td></tr><tr><td>at the time</td><td>1</td></tr><tr><td>such as our summer gardening program.  The center is conveniently located on 2 acres of beautifully maintained grounds where children will enjoy a variety of outdoor activities.  I really believe that the Arts are truly essential to a child's overall education</td><td>1</td></tr><tr><td>though</td><td>1</td></tr><tr><td>since sometimes the investors are quicker than the credit review team.  If you have questions about this process you might call LC at 866-754-4094.\"</td><td>1</td></tr><tr><td>but I have been picking up the deposits.  So</td><td>1</td></tr><tr><td>but paying down my balance has been very difficult! My current balance on my closed</td><td>1</td></tr><tr><td>000/year salary.  I'm not struggling to make any payments and this is not an emergency loan.  I would rather pay honest individuals interest than the greedy credit card companies.<br/>\"</td><td>1</td></tr><tr><td>and I would like to keep the finance charges to a minimum.  I have never made a late payment on any account I have ever had.  I expect to pay off the loan within a year</td><td>1</td></tr><tr><td>but given the changes in the credit card industry</td><td>1</td></tr><tr><td>but I want to maintain liquidity.   My wife and I both have secure jobs and a solid credit history. Our bills are low enough to be covered by one job if necessary.  I work at a company who is currently growing</td><td>1</td></tr><tr><td>BUT I LOVE THE CONCEPT OF LENDING CLUB.<br/><br/>THANKS FOR ALL YOUR HELP<br/> Borrower added on 05/23/10 > down to last two days!!  thanks to all of you who have helped us.  much appreciated  and wont let you down !!    Eddie and Karen<br/>\"</td><td>1</td></tr><tr><td>win-win all around.  Thanks for you time and consideration. \"</td><td>1</td></tr><tr><td>please consider this in making your decesion.\"</td><td>1</td></tr><tr><td>which brought me here....to the Lending Club.<br/>\"</td><td>1</td></tr><tr><td>my monthly budget is $3</td><td>1</td></tr><tr><td>other banks said I was too young to have this kind of loan. I guess private investors win on a loan amount that'll be returned before the end of next summer... I just got the three year because the interest rate wasn't that much lower for a one or two year.<br/> 568147 added on 11/05/09 > By the way investors...since this site says I my job is \"\"unverified\"\" please feel free to send me an email on my government account for easy verification.  I am done for today</td><td>1</td></tr><tr><td>000 would put me in a position to change my life and help others change their lives as well in the future.  I have a full time job and work 40 hours per week.  My health has returned and I'm fully functional with no issues at this time.  I have a detailed plan and by moving in with my brother and saving the $1</td><td>1</td></tr><tr><td>doctors performing his examinations in \"\"space suits\"\"</td><td>1</td></tr><tr><td>it is my intention to take the full 36 month term to pay off the loan I am seeking.  If I receive substantial raises over the next two years</td><td>1</td></tr><tr><td>which is $250 a month (in a family members basement)</td><td>1</td></tr><tr><td>as my credit rating is very high & I  am very diligent and careful regarding my financial obligations.  Please help!<br/>\"</td><td>1</td></tr><tr><td>place</td><td>1</td></tr><tr><td>and have not one one late payment (30 day or otherwise) in 5 years.   Monthly net income: $ 3574.71  Monthly expenses: $    Housing: $ 600 (split $1200 rent with wife).    Insurance: $ 100 (car insurance)   Car expenses: $150 (approx) for gas. I do not have a car payment.     Utilities: $ 120 (Electric</td><td>1</td></tr><tr><td>as we affectionately call it</td><td>1</td></tr><tr><td>After graduating from college</td><td>1</td></tr><tr><td>and always kept the best interests of the students in mind. American Investor is not afraid to voice new ideas</td><td>1</td></tr><tr><td>I want to pay YOU the interest and not some faceless credit card company.\"</td><td>1</td></tr><tr><td>250 towards the home and my wife contributes another $1</td><td>1</td></tr><tr><td>but we are slowly sinking.  We are a family of 5 with 3 small kids.  We have recently moved out of state due to a job change and unexpected costs have caused us to charge more frequently on our credit cards.  We have good credit and have always paid our bills on time but now we are just paying minimum payments.  Life and the economy is stressfull enough these days but to not have credit card debt and medical debt would be a BIG stress reliever.  Please consider us for funding!<br/> 574834 added on 11/28/09 > If we could pay off all our credit cards and medical bills</td><td>1</td></tr><tr><td>but it has 160</td><td>1</td></tr><tr><td>now wife</td><td>1</td></tr></tbody></table></div>"
      ]
     },
     "metadata": {
      "application/vnd.databricks.v1+output": {
       "addedWidgets": {},
       "aggData": [],
       "aggError": "",
       "aggOverflow": false,
       "aggSchema": [],
       "aggSeriesLimitReached": false,
       "aggType": "",
       "arguments": {},
       "columnCustomDisplayInfos": {},
       "data": [
        [
         "debt_consolidation",
         1277790
        ],
        [
         "credit_card",
         516926
        ],
        [
         "home_improvement",
         150440
        ],
        [
         "other",
         139413
        ],
        [
         "major_purchase",
         50429
        ],
        [
         "medical",
         27481
        ],
        [
         "small_business",
         24659
        ],
        [
         "car",
         24009
        ],
        [
         "vacation",
         15525
        ],
        [
         "moving",
         15402
        ],
        [
         "house",
         14131
        ],
        [
         "wedding",
         2351
        ],
        [
         "renewable_energy",
         1445
        ],
        [
         "educational",
         412
        ],
        [
         "and also pay off some credit card debt.  I will be debt free except for my payment to you.  I don't care what the interest rate is",
         1
        ],
        [
         "guaranteed!\"",
         1
        ],
        [
         "and if they are allocated properly. I have twenty plus years experience in the investment business so this is my area of expertise. My plan is unique and will be successful due to the biased nature of the investment business.<br/>\"",
         1
        ],
        [
         "never had any trouble with debts.\"\"\"\"I bought a duplex in june. The only thing left to renovate is the roof and redo the sidewalk and drive way. I am secure in my job",
         1
        ],
        [
         "<br/><br/>Lending Club Member Support\"\"<br/>*********<br/><br/>Please contact the Lending Club if you have ANY questions about my loan.<br/>\"",
         1
        ],
        [
         "Bank of America cut our business credit. This left us without the \"\"bridge\"\" capital that we use for seasonal fluctuations in our business income.   Our contracts are usually enacted in the 2nd and 3rd quarters of each year. Therefore",
         1
        ],
        [
         "stocks",
         1
        ],
        [
         "please feel free to ask and I will enlighten you.\"",
         1
        ],
        [
         "I became his primary caregiver.<br/><br/>And to add more strain to our situation",
         1
        ],
        [
         "brakes",
         1
        ],
        [
         "on one of the busiest routes in the entire state",
         1
        ],
        [
         "because of the nature of my business bonus income is very substantial.  Last year's bonus and origination share was over $105",
         1
        ],
        [
         "progressive multi-media company start-up. The initial project of this single-member LLC is an entrepreneurial opportunity that must be taken advantage of immediately",
         1
        ],
        [
         "but not much info for borrower. <br/><br/>If the lender goes bankruptcy.<br/>If the lender die. <br/>Who covers the cost... i'm guessing lenders club.<br/><br/>I'll probably invest in lending club in the near future... but i would not want to invest in something without seeing how the borrower experience is. I will also investigate the above question in more detail at that time.<br/><br/>Thank you for your time!<br/>\"",
         1
        ],
        [
         "I have eliminated 2 1/2 so far",
         1
        ],
        [
         "TutoringOne is a leader in the next generation of innovative education techniques that will improve student achievement and potential for global success.  TutoringOne is staffed by “highly qualified teachers” and college experts or graduates who provide live services 24 hours a day.  Teachers are specifically qualified to teach high school core academic subject areas",
         1
        ],
        [
         "so I have to pay for my loss",
         1
        ],
        [
         "you may feel confident I can always make my payments. 558389 added on 10/16/09 > This loan will partially be used to include:  putting a 3.5% down payment on my newly purchased $105",
         1
        ],
        [
         "Hilal Khalil Homaidan\"",
         1
        ],
        [
         "000 in debt on credit cards. Yes",
         1
        ],
        [
         "and the monthly payment are perfect for my situation.  Thank you in advance.  Sincerely",
         1
        ],
        [
         "the state of the economy",
         1
        ],
        [
         "I will receive the title and will be able to sell the motorcycle ASAP.  I will most likely be able to get around 6500 for the motorcycle so most of this loan will get paid back once the motorcycle is sold.  Thank you for your time",
         1
        ],
        [
         "Credit Card",
         1
        ],
        [
         "I will be able to budget accordingly for future tax expenses.  Thank you for your help!\"",
         1
        ],
        [
         "but you never know.  My wife and I decided to start living in our basement and renting out the top of the house as a Vacation Rental and sometimes as a Bed & Breakfast. So we did some remodeling and racked up our first permanent CC debt in my life ($10 K). We have started renting our house and things look promising.  I hate the idea of giving the interest I made off of the CC companies back to them and would rather get a loan from investors here.\"",
         1
        ],
        [
         "so I am trying to help clean his up some by clearing some of these bad rates.<br/>\"",
         1
        ],
        [
         "I am very serious about fulfilling my obligations to lenders. Financial health is my #1 priority. \"",
         1
        ],
        [
         "but has seen his interest rates double due to blah",
         1
        ],
        [
         "rental property",
         1
        ],
        [
         "in \"\"lunar conditions\"\".  We have already built an initial prototype",
         1
        ],
        [
         "in the past couple of months however",
         1
        ],
        [
         "and I have never been late or even missed a payment. I have been trying to pay off this balance",
         1
        ],
        [
         "we can guarantee you a few things. We are at LC because a bank has either turned us down for a loan or the interest rates were higher than the debt we have. We realize that we rather see a peer profit from our loans as well as helping us succeed.<br/><br/>Will this loan be paid back in 36 months. I have EVERY intention to pay this loan in LESS than 36 months. I would like to purchase a house in the future",
         1
        ],
        [
         "but unfortunately",
         1
        ],
        [
         "Butler PA. It is currently rented out so repaying the capital wouldn't be an issue.  They are currently locked in a 1 year lease with one tenant two months in with the other tenant three.  However I am on a time constraint with the seller because my initial loan from the bank was denied so quick financing would be the best option. It works out for you because you get your loan plus interest from a guaranteed investment source. Again thank you for your interest!\"",
         1
        ],
        [
         "because we are not looking to give up equity in the company long-term. And",
         1
        ],
        [
         "every month. I do not want to be on the \"\"Treadmill\"\" any longer and would appreciate you assistance in making this .<br/><br/>The reasons for the debt is due the following in which I will list below<br/><br/>1. Excessive auto repairs (I have since bought a newer late model used car). So having to have a 10+ YR old vehicle repaired on a regular basis will no longer be an issue.<br/><br/>2. Being unemployed and/or having low paying jobs which excessively exceeded my daily living expenses. I have been able to increase my income and have good job security. I have been with my current employer for nearly 2 years. I also plan to look for additional sources of income (i.e second job",
         1
        ],
        [
         "I don't need extravagance... I just want to put my house back together!\"",
         1
        ],
        [
         "which is easy to do.  $5000 goes to repaying a private loan while the rest will go towards buying a Laptop Computer",
         1
        ],
        [
         "low Rate. Tired of Writing / E paying",
         1
        ],
        [
         "I have the means to get myself out of the mess I created but I would like to quit rewarding the predatory \"\"enablers\"\" with interest payments. I am responsible for getting into this problem. I am now looking forward to getting out and if I can accelerate that process using the lending club with a better rate and not reward credit card companies any more than I already have. So much the better  Thank you for your consideration\"",
         1
        ],
        [
         "I lacked the funds to see it through.  I asked the specialist in Toronto why insurance does not cover it",
         1
        ],
        [
         "it is a historic treasure that deserves repair.    I was approved for a total home renovation loan",
         1
        ],
        [
         "and from that my own stem cells are harvested. Then these stem cells are re-injected into the problem area of the bone to promote re-growth or at least halt the degeneration. This was done by Dr Centeno at the Regenexx clinic in CO. It seems to have been successful. I now need to have this done on my left hip. The procedure cost $8000 and I only have $4000. I have been turned down by my bank and we spent most of our savings on our adoption process. I am experiencing quite a bit of pain and have scheduled the procedure for July- hoping I can raise the money. \"",
         1
        ],
        [
         "I want to pay off my credit cards as soon as possible and destroy them!  I don't have particularly high interest rates",
         1
        ],
        [
         "too",
         1
        ],
        [
         "and it lasts through 2014.<br/><br/>Thank you very much for your consideration.<br/> Borrower added on 03/15/10 > I plan to use the loan to pay off my credit card debt so I will not have to worry about multiple credit card payments every month. Having a fixed interest rate will afford me the opportunity to have a fixed payment plan",
         1
        ],
        [
         "judgments",
         1
        ],
        [
         "MD\"\"... approx. 4 miles North of Bethesda (an appreciating to stable market) and 6 miles South of Rockville (designated a declining market).  The need to borrow is created by timing.  I estimate that the current value of the divorce assets is approximately $200",
         1
        ],
        [
         "so will not affect my budget to increase.  The final buyout price of the car is $15",
         1
        ],
        [
         "550 amount",
         1
        ],
        [
         "allowing me to double or triple payments.<br/>\"",
         1
        ],
        [
         "when I meant \"\"home rehabilitation\"\" -- but I presume the text of my loan description makes that obvious FHA 203(k) program and all.<br/>  <br/>I just wanted to clarify. Thanks for your interest.<br/>\"",
         1
        ],
        [
         "500 more to make my dream come true.  I was self-employed for 17 years it was the happiest times of my life.  Getting out working tirelessly for MY goals.  Then life came along and it was necessary for me to work in the corporate world for the last 10 years for their goals.  I now want to go back to working hard and being happy.  Help me make my dream come true.\"",
         1
        ],
        [
         "lower my finance rate",
         1
        ],
        [
         "so we will have the added greenhouse space for organic",
         1
        ],
        [
         "\"\" even though I've made my payments on time for more than five years for each of the cards.   My goal is to completely pay off all of my non-mortgage debt and by refinancing this debt with a fixed rate I think this is completely obtainable within three years",
         1
        ],
        [
         "it was too late to call and they are not open on weekends.***   ****Now that everything has been VERIFIED for me and they have spoken to me by phone they have stated I need to relist - as my original listing expired",
         1
        ],
        [
         "a school being built in Kenya for deaf children.  These children are considered throw-aways in Kenya and some other African nations.  They are sometimes tied to trees in the bush and left for the wild animals to kill them and eat them.  I want to contribute all of this loan amount at once and would have to cash in some investments carrying a penalty for early withdrawal otherwise.  If you would like to help with a contribution of your own",
         1
        ],
        [
         "my cell is on a family plan at 10 dollars a month",
         1
        ],
        [
         "or over my credit limit? No! They are raising it because \"\"everyone else is doing it.\"\" What a scam! And this is not just a small nudge",
         1
        ],
        [
         "art shows and book sales",
         1
        ],
        [
         "I am married and my husband makes around 80-90K per year.  Since these are all my credit cards",
         1
        ],
        [
         "so it is just not possible for me to get a part time job right now due to their age and also all of their school activities.  This consolidation will help save money each month",
         1
        ],
        [
         "they love me",
         1
        ],
        [
         "as long as we pay at least 5% of the balance each month (which we do). Unfortunately",
         1
        ],
        [
         "I need the loan before my credit report \"\"fixes\"\" itself.\"",
         1
        ],
        [
         "I'm with a Fed agency as a contractor and my wife is a teacher here in Northern VA.  I have talked to my client and have been assured that my position is as secure as his Fed slot.<br/> Borrower added on 06/04/10 > Please feel free to contact me with any questions or concerns.<br/>\"",
         1
        ],
        [
         "so that our company will continue to realize the success which it has had for 25 years.    Please feel free to ask any questions. I will gladly provide any additional details you may require.    Thank you for your consideration.  Borrower added on 05/13/10 > We have recently incorporated a new division of our company in Nevada",
         1
        ],
        [
         "we expect the return in this location to pay the lender(s) back in good time.\"",
         1
        ],
        [
         "JC\"",
         1
        ],
        [
         "our eaves on our house",
         1
        ],
        [
         "but I could not",
         1
        ],
        [
         "I am a good borrower because I have the ability to pay back loans in a timely manner. I have always paid above any minimum amounts due. I have paid any accounts before due dates and typically have paid off loans before the initial end of the loan. I have only had one late payment in the previous three years and that was a credit card annual fee added to my account from Capital One in the amount of $29. I would have paid the amount; however",
         1
        ],
        [
         "without making them feel as though they are \"\"beneath\"\" the rest of us",
         1
        ],
        [
         "300 across 3 retirement accounts.  I save 5% of my paycheck for my 401(k).  I stopped a year ago on my Roth and IRA due to the market meltdown (it sucked to see your money vanish the day after you put it in). We had a $2",
         1
        ],
        [
         "LINE",
         1
        ],
        [
         "20 foot Yamaha sport boat is quite a beauty",
         1
        ],
        [
         "but it will stay open until paid off",
         1
        ],
        [
         "and I am finally in a position to where I can afford a second car",
         1
        ],
        [
         "but any help would be greatly appreciated.   I am trying to live a good life and I give back to others daily. While I am not able to do this finacially",
         1
        ],
        [
         "I'll never be here again!) After coming back to the States",
         1
        ],
        [
         "however",
         1
        ],
        [
         "once under contract",
         1
        ],
        [
         "putting together an apartment here",
         1
        ],
        [
         "but we cant all be just like our Grandad.  I am not DESPERATE for this",
         1
        ],
        [
         "Own my Car outright",
         1
        ],
        [
         "PA). \"",
         1
        ],
        [
         "this was a good thing because it marked the end of some foolish decisions and now I would like to put this behind me quickly. It is my understanding that closed accounts with balances hurt your credit score. But",
         1
        ],
        [
         "CA for 13 years. My credit rating is approximately 740.  I have a good-paying job (as a full-time consultant under contract) that is secure. My actual loan-to-debt ratio is good.  I have no other major credit (card) debt other than my mortgage. I own a 2005 BMW.    Any fellow horse-lovers out there that can empathize?   \"",
         1
        ],
        [
         "increasingly",
         1
        ],
        [
         "in other words",
         1
        ],
        [
         "you are eligible to receive a second loan with us.\"\"  We have had such a good experience that we thought we'd finish off our last remaining credit cards and hopefully soon sign up to be a lender for someone who needs a little help.\"",
         1
        ],
        [
         "bushes",
         1
        ],
        [
         "carbon filtered inserts for underwear",
         1
        ],
        [
         "I'll work on the car then the house.  Thanks for your consideration!\"",
         1
        ],
        [
         "skin care",
         1
        ],
        [
         "and I had grown my residual base and my yearly income to a point where I was \"\"outearning\"\" the owners",
         1
        ],
        [
         "again",
         1
        ],
        [
         "while preparing for my jump off of the swing and have a safe",
         1
        ],
        [
         "but a bit too much of it. I would like to be able to purchase my first home in a few years and finish putting myself thru school. However",
         1
        ],
        [
         "which is more than I am requesting.  Ill just pay of the rest myself.  According to the Lending Club website",
         1
        ],
        [
         "and by understanding this issue",
         1
        ],
        [
         "I am never in danger of losing my job involuntarily.  This loan will help me consolidate some debt I incurred as a result of helping family members with some rather large (but necessary) medical and legal bills.  I don't complain about incurring the debt because it was the right thing to do.  Now all I would like to do is pay one bill at a decent interest rate instead of 4 credit cards at high rates.  Thank you for your interest.\"",
         1
        ],
        [
         "we would not have revolving credit balances if not for our own decision to pay the education expenses for our daughter Andrea and our son Eric.\"",
         1
        ],
        [
         "no honey attitude\"\". I'm basically doing everything I can do to get out of debt and invest in my future. I've also been looking for night and weekend work.\"",
         1
        ],
        [
         "but will primarily be used as a debt consolidation tool.   I studied abroad in Oxford for about six months",
         1
        ],
        [
         "and if I'm going to pay anyone interest",
         1
        ],
        [
         "such as the plumbing",
         1
        ],
        [
         "expensive electronics (I salvaged our TV from my neighbors trash)",
         1
        ],
        [
         "and have a solid income at $11.79/hr x 25 hr/wk. This is my last year of school and then I'm on to a real job!!! I only pay $225 a month for rent and $35 for utilities. I don't have a car payment",
         1
        ],
        [
         "I thought it was a great idea that fellow americans could be making money off of interest",
         1
        ],
        [
         "affordable family adventures. Some of these items include a gear trailer",
         1
        ],
        [
         "not only will my competence as an educator have been verified through the extensive",
         1
        ],
        [
         "739.00. Primarily",
         1
        ],
        [
         "Time has become an issue. This device allows me to expedite the process significantly",
         1
        ],
        [
         "\"\" and I would rather pay a fixed rate than an outrageous",
         1
        ],
        [
         "meaning the metrics I use are all based on best and worst case scenarios with contingencies for the major and obvious disasters (economy",
         1
        ],
        [
         "and I work full -time as a Senior Financial Analyst at a fortune 100 company. Personally",
         1
        ],
        [
         "and earns an additional $49",
         1
        ],
        [
         "000 as a downpayment.  I am able to pay $5",
         1
        ],
        [
         "I have requested this loan because of the high interest I am paying on the balances on my credit cards. Some APRS  from  17.99 to 19.99 even with my good credit score. It is time to say good bye to these credit card companies.  <br/>   I have been on my job for 21 years and yes it is my career.<br/>I have learned that paying cash is the best way to go these days. I have a plan to be almost debt free because we all will have some type of debt in this lifetime. If I am funded/approved for this loan it will surely help.<br/>So if you have any questions feel free to submit them.<br/><br/> I Thank You for your time and consideration.<br/>\"",
         1
        ],
        [
         "5 years).  I request this loan because of my families current unforeseen situation and it's time sensitivity.  I feel an incredible sense of duty to honor the commitment made to the lenders of this loan.  As I will do what it takes to keep the promise I made to my father to protect him",
         1
        ],
        [
         "first as a Borrower then perhaps also as an Investor.<br/> Borrower added on 03/05/10 > Am a Senior Executive of a Healthcare Marketing & Communications Agency<br/>Have two Sons in College at the same time.<br/>Could liquidate stocks but want to give the market more time to come back.<br/>Also wanted to try \"\"peer-to-peer\"\" banking",
         1
        ],
        [
         "CB Radio or Police scanner from Overstock there is a good chance it is actually coming from us. (we are 1 of several \"\"Overstock Partners\"\" that supply that type of merchandise for them.   The money will be used for:  1. Increasing Inventory I intend to increase inventory. ( the no. of SKUs) Width of inventory is the key to my business. There is not much risk involved as I can accurately predict what I can sell most anything for",
         1
        ],
        [
         "let's hike his interest so we get more and he can't pay down principle.\"\" My response - enough is enough. I'd rather smart investors like Lending Club members get my interest money than keep sending it to a credit card company that treats me this way! Please help me free myself from these companies. Thanks.<br/> Borrower added on 03/12/10 > FYI: We do rent the home we live in",
         1
        ],
        [
         "and the young lady I talked to that works for lending club advised me that I would have to wait for an email to come through in order to verify my income so I am waiting for that email.  Thank You",
         1
        ],
        [
         "which necessitated incurring additional (unexpected) expenses to travel to their funerals. I have been employed by the same company for a little over 2 years",
         1
        ],
        [
         "responsibility and compensation.  I made a lot of finanancal mistakes years ago when I graduated college but now I am ready to remedy those mistakes and achieve financial freedom from Credit Cards.<br/>\"",
         1
        ],
        [
         "and extremely secure despite the grim economic woes felt by the rest of the world.  In 2010 and almost eighteen years later",
         1
        ],
        [
         "I will be lowering my monthly payments and will have a definite payoff date of within three years of all my debt.  Even though one of the loans will be transferred to a higher interest rate",
         1
        ],
        [
         "Paladin will benefit from the 3% set-aside on federal government projects of greater than $500",
         1
        ],
        [
         "I decided I'd like to let some real people earn my interest dollars.<br/>\"",
         1
        ],
        [
         "so has local and small business budgets for promotion and advertising.  This in turn directly affects my income.    The primary purpose of this loan is to pay off two of the three credit cards that I currently have.  I have two balances that amount to roughly $5000.  By paying these off using a loan through this organization",
         1
        ],
        [
         "and are paid in full by him each month.  A little about myself: I'm a recent graduate (Dec '09) from Texas A&M University. Prior to starting my current job in January",
         1
        ],
        [
         "I am looking to start with Lending Club.  I have excellent credit",
         1
        ],
        [
         "as well as $1270 loaned to me for security and first month rent at an apartment.\"",
         1
        ],
        [
         "multipurpose card) have rates anywhere near this. Just looking to pay less in interest for my wonderful Ibanez guitars!   Thanks!\"",
         1
        ],
        [
         "please do not hesitate to ask.  I have contacted Lending Club about how to verify my income to make my loan more attractive as well.  Thank you!<br/>\"",
         1
        ],
        [
         "Macy's Visa is not new debt.  That account was opened in 2003.  I really don't know why the credit report isn't showing that balance.<br/> Borrower added on 02/07/10 > To Member_569427",
         1
        ],
        [
         "and use the P2P method instead.  Thank you for taking the time to review my loan request.<br/> Borrower added on 01/16/10 > Thank you everyone who has funded my loan so far.  I<br/>am also quite impressed with ease of the Lending Club P2P process.<br/>\"",
         1
        ],
        [
         "I accidentally clicked the \"\"IGNORE\"\" button.  Holiday drowsiness I think.<br/><br/>I will send the email starting the verification process tomorrow morning.  Away for the holidays but I presume that I can get that taken care of when I return Tuesday.  Thanks and sorry again for the 'ignore'.<br/>\"",
         1
        ],
        [
         "and to be debt free by three years.  This plan should afford me the opportunity to send my child to private school at that time and help improve the quality of life for my family.  \"",
         1
        ],
        [
         "so that's where my credit card purchases began. My current interest on my card is too much so with this loan",
         1
        ],
        [
         "000 to pay off those credit cards(of which i have NEVER been late with a payment).  If you would like specifics on the balances or interest rates of those accounts please contact me.  Thank you for your time.  Sincerely",
         1
        ],
        [
         "in case a lawsuit was filed AFTER I moved",
         1
        ],
        [
         "and Software to major OEM's for sell to End Users.  I handle the Business Development for one of their largest OEM's.  I have been doing this for 2 years",
         1
        ],
        [
         "is located by the Delaware river",
         1
        ],
        [
         "lower interest rate",
         1
        ],
        [
         "at the time of these rate increases we were working hard to pay off these debts. We have no doubt that we will easily be able to pay off this loan and give you a good",
         1
        ],
        [
         "fence and do landscaping work around our property.  We would like to pay it off in only 12 months.\"",
         1
        ],
        [
         "movies",
         1
        ],
        [
         "which leaves me with my $3100 after taxes to pay all bills. Thanks again.<br/> Borrower added on 05/20/10 > I know my credit score is not good",
         1
        ],
        [
         "I am now ready to deliver this service via the web using an interactive website. The proceeds from this loan will help pay for the development and launch of this website.<br/><br/>This is the kind of business that does well in any economy (especially a down economy). I'm starting out as a service-based business",
         1
        ],
        [
         "I helped that guy do that!\"\".  If it doesn't",
         1
        ],
        [
         "500 per car sale. This is worth it even if I just sold 2 or 3 a month.  I need this loan to give me a very much needed boost to start investing in this type of business. <br/>My plan",
         1
        ],
        [
         "TransUnion: 684",
         1
        ],
        [
         "my family's immediate goal of wrestling our credit card debt to zero is very much an uphill battle.  Looking for a low-interest",
         1
        ],
        [
         "and transparent relationship base of the Lending Club.<br/>\"",
         1
        ],
        [
         "one of those actors is Kane Hodder who would be best know as Jason from the movies; Jason X (2001)",
         1
        ],
        [
         "I was canceling them",
         1
        ],
        [
         "I pay my bills and I pay on time.  I stay on top of my financial status.  My goal is to free myself of credit card debt",
         1
        ],
        [
         "etc?<br/>\"",
         1
        ],
        [
         "at lower interest rates",
         1
        ],
        [
         "eat greek meals\"\".There is a golf course and >5 RV vacation camps that will also receive a gift as first guest at The Greek Tavern.<br/> 572953 added on 11/17/09 > Let me tell you about our operation. The Greek Tavern will have self serve system. The client will order at the register",
         1
        ],
        [
         "she recently made it clear she's eager to get engaged. (Or maybe I've been missing subtle clues for a while.) In any event",
         1
        ],
        [
         "000 annually.  We are easily able to pay are mortgage and debts each month.  We are using this loan to pay off the two credit cards we have and eliminate debt over a 3 year period",
         1
        ],
        [
         "which is their life and possibly career one day.<br/>My job is stable and I am a good and valuable employee.  I've won multiple employee awards and have been recognized for my contributions to the company.  <br/>All I want is to pay my creditors and not incur new debt.  We've stopped using any kind of credit as of last year",
         1
        ],
        [
         "just pending bank approval from the buyer) . This will free up more money to enable me to pay this off in a timely matter.<br/>\"",
         1
        ],
        [
         ",debt_consolidation,Debt Consolidation + Funeral Expenses,940xx,CA,6.08,1.0,Mar-1999,675.0,679.0,1.0,14.0,0.0,5.0,0.0,5071.0,78.0,7.0,f,0.0,0.0,11885.53,1899.55,8903.51,2703.9,0.0,278.12,2.95,Jan-2010,504.84,,Jul-2010,504.0,500.0,0.0,,1.0,Individual,,,,0.0,,,,,,,,,,,,,,,,,,,,,,0.0,0.0,,,,,,,,,,,,,,,,,,,,,,,,,,,0.0,,,,,,,,,,,,,,,,,,N,,,,,,,,,,,,,,,Cash,N,,,,,,",
         1
        ],
        [
         "with a track record of success",
         1
        ],
        [
         "my wife and I",
         1
        ],
        [
         "i wasn't even born until October of 88. So i guess i need to contact the Credit bureau or whoever",
         1
        ],
        [
         "I realize that I may have to pay a higher interest rate than other borrowers with a higher credit score.     I'm prepared to pay a higher than normal rate",
         1
        ],
        [
         "it would be greatly appreciated.  Thank you.<br/>\"",
         1
        ],
        [
         "I did not anticipate the costs of travel back and forth for breaks when the school is closed or the new computer she needed and other supplies and deposits needed for this dream to come true for her. Additionally my car has required several repairs this year and my refigerator is on its last legs. The 8",
         1
        ],
        [
         "usually doubling the payments",
         1
        ],
        [
         "such as fees",
         1
        ],
        [
         "the grass is in a really sad condition.\"",
         1
        ],
        [
         "I discovered that this was a new tactic being used where the higher interest credit card account would have been closed and opening another account would have adversely affected my credit score (thus further indebting me to that bank)!!!!  This offer occurred when my credit score improved as the collections accounts from 2001 were no longer on my credit report......It is important to note that one of my bank card holders raised my credit limit at a time when banks were lowering credit limits and the bank that raised my APR",
         1
        ],
        [
         "and 2) I need to reduce my commuting time now that my company is moving a few miles away from our current home.  I have pristine credit history",
         1
        ],
        [
         "I thought I'd give this Lending Club thing a try.  I recently made the move to KC (to be closer to my future wife",
         1
        ],
        [
         "but I've still got a little ways to go before any of that comes to fruition.    As far as the military goes",
         1
        ],
        [
         "which was a swindle from the start.  The interest rate for the loan sits right now at 19.99% and will likely increase; regardless of my pristine payment history on every account I've had with them and a consistent overpayment of the minimum",
         1
        ],
        [
         "at which point I had virtually no income.  During this span of three years",
         1
        ],
        [
         "it was going to be tougher then I thought. Long and interesting story short.. I am currently an Investigator for American International Group. This might make you scratch your head... Let me explain... I was previously employed by JP Morgan Chase  as the Computer Forensic Analyst in Corporate Global Security Department.  I was recruited to American International Group  in 2008 as a member of there Investigation Team",
         1
        ],
        [
         "mostly in lowering my stress level each not wondering if i've paid everything for the given month by the given date.  I hope you can help me out.  Thank you for your time.  \"",
         1
        ],
        [
         "and wish to explore how the borrower side of this website is managed. To blanket answer a few of my fellow investors questions... No - I do not need the loan of $2K to support a purchase. I have plenty of funds to accommodate my lifestyle. As you will notice in my income; debt to income ratio; and outstanding balances - I'm financially secure.   Past delinquency shown on the credit report is from a two medical bills which I was unaware of",
         1
        ],
        [
         "but it is not at all due to unreliable behavior.\"\"<br/>\"",
         1
        ],
        [
         "TEXAS\"\"  when it should be \"\"Chattanooga",
         1
        ],
        [
         "I have always been on time with my payments for all of my borrowing needs",
         1
        ],
        [
         "768",
         1
        ],
        [
         "000 so far this year.<br/>><br/>> I'm currently employed at a top 100 DOD Contractor and have been for over 10 years.  Income is more than sufficient to carry the debt load and if for some reason the business can not afford the payment and I need to pay it myself",
         1
        ],
        [
         "<br/>I feel I must clarify a few things to assist any funders interested in my loan. A mistake was made in my profile regarding my work history. I have been employed at my present company for 18+ years and previously at DuPont for 17 years. As I stated I am only trying to get rid of two high interest accounts and move foward towards saving for retirement. I have a decent small nest egg but using it to pay off these two obligations could put me in a position I would not like to be in with this economy. It makes sense to combine these into a single payment with a much smaller rate and be done with it in three years and move on. My credit history should prove that I always pay my bills and am never late. I have the standard bills: mortgage",
         1
        ],
        [
         "my income exceeds my expenses and I'm very meticulous about spending.  I have good control over myself mentally",
         1
        ],
        [
         "domestic",
         1
        ],
        [
         "and another one coming up",
         1
        ],
        [
         "<br/>BUT I'VE NEVER MISSED A PAYMENT--NOR BEEN LATE",
         1
        ],
        [
         "looking better than ever.\"\"  The unit includes a dual-braking sustem",
         1
        ],
        [
         "but given that i cant excercise that option",
         1
        ],
        [
         "no interest",
         1
        ],
        [
         "my parents will not support me during my education journey.  I do have a full-time job",
         1
        ],
        [
         "perhaps a bit lower and certainly a lower interest rate",
         1
        ],
        [
         "but want to make sure I have enough cash on hand.  It is a tough lending environment out there for me (even with decent credit and income)",
         1
        ],
        [
         "I am not comfortable with broadcasting the what and how of my financial problems. My Credit Report should speak for my credibility and if it does'nt I Thank You for the Consideration. I am capable of paying the loan back no later than Feb. 2011",
         1
        ],
        [
         "000 in annual passive / renewal gross income.  We have always had lines of credit with major banks. It seems banks are afraid to lend to anyone at this time! That is why I am here now. We would like to simply eliminate the last of the credit card debt that we have. Aprox. $10",
         1
        ],
        [
         "proms",
         1
        ],
        [
         "I will never be able to spend time with our boys. My ex wife",
         1
        ],
        [
         "000 (income approx $10",
         1
        ],
        [
         "will fix. I previously have been a finance manager and a buyer for fragrance and accessories.<br/>\"",
         1
        ],
        [
         "hopefully in time for the holidays. I want to thank",
         1
        ],
        [
         "000",
         1
        ],
        [
         "the funds will be used to pay off four credit card balances which currently have ridiculously high APR's and the one car loan that we have (which weâve had for three years now).  Working in the Lending industry ourselves",
         1
        ],
        [
         "they will sell at a way lower value than what it's worth in order to make quick money.  I will buy these items and flip them around for profits later on.<br/> Borrower added on 06/09/10 > I'm going to verify my bank account as soon as the transaction appears on my statement.  I need the funding ASAP! Please people",
         1
        ],
        [
         "not 3",
         1
        ],
        [
         "(Citi Bank) which they owned up to and admitted there were some glitches",
         1
        ],
        [
         "such \"\"above and beyond\"\" circumstances include participation in group showings at local galleries (which generally charge a utilization fee for us to use in the first place) as well as premium member account benefits on the website that's currently under construction (such as unlimited uploading of photos",
         1
        ],
        [
         "I have a very large client (confidential) that has had me working on a network in India. I have purchased most of the equipment necessary",
         1
        ],
        [
         "I also always pay a little more than the minimums due.  My truck is paid for and there is no monthly payment.   Thank You for considering me for this loan.\"",
         1
        ],
        [
         "I say thanks and make payments\"\" kind of thing. I want you to get to know me",
         1
        ],
        [
         "000 at 14.99%! Just below my lowest credit card APR at the time. It was disapointing to me because I have such a good credit score. Either way I have paid a little more than the min every month on time",
         1
        ],
        [
         "and have never had any credit but credit cards (paid in full each month).  I have purchased my (used) vehicles with cash",
         1
        ],
        [
         "at the time",
         1
        ],
        [
         "such as our summer gardening program.  The center is conveniently located on 2 acres of beautifully maintained grounds where children will enjoy a variety of outdoor activities.  I really believe that the Arts are truly essential to a child's overall education",
         1
        ],
        [
         "though",
         1
        ],
        [
         "since sometimes the investors are quicker than the credit review team.  If you have questions about this process you might call LC at 866-754-4094.\"",
         1
        ],
        [
         "but I have been picking up the deposits.  So",
         1
        ],
        [
         "but paying down my balance has been very difficult! My current balance on my closed",
         1
        ],
        [
         "000/year salary.  I'm not struggling to make any payments and this is not an emergency loan.  I would rather pay honest individuals interest than the greedy credit card companies.<br/>\"",
         1
        ],
        [
         "and I would like to keep the finance charges to a minimum.  I have never made a late payment on any account I have ever had.  I expect to pay off the loan within a year",
         1
        ],
        [
         "but given the changes in the credit card industry",
         1
        ],
        [
         "but I want to maintain liquidity.   My wife and I both have secure jobs and a solid credit history. Our bills are low enough to be covered by one job if necessary.  I work at a company who is currently growing",
         1
        ],
        [
         "BUT I LOVE THE CONCEPT OF LENDING CLUB.<br/><br/>THANKS FOR ALL YOUR HELP<br/> Borrower added on 05/23/10 > down to last two days!!  thanks to all of you who have helped us.  much appreciated  and wont let you down !!    Eddie and Karen<br/>\"",
         1
        ],
        [
         "win-win all around.  Thanks for you time and consideration. \"",
         1
        ],
        [
         "please consider this in making your decesion.\"",
         1
        ],
        [
         "which brought me here....to the Lending Club.<br/>\"",
         1
        ],
        [
         "my monthly budget is $3",
         1
        ],
        [
         "other banks said I was too young to have this kind of loan. I guess private investors win on a loan amount that'll be returned before the end of next summer... I just got the three year because the interest rate wasn't that much lower for a one or two year.<br/> 568147 added on 11/05/09 > By the way investors...since this site says I my job is \"\"unverified\"\" please feel free to send me an email on my government account for easy verification.  I am done for today",
         1
        ],
        [
         "000 would put me in a position to change my life and help others change their lives as well in the future.  I have a full time job and work 40 hours per week.  My health has returned and I'm fully functional with no issues at this time.  I have a detailed plan and by moving in with my brother and saving the $1",
         1
        ],
        [
         "doctors performing his examinations in \"\"space suits\"\"",
         1
        ],
        [
         "it is my intention to take the full 36 month term to pay off the loan I am seeking.  If I receive substantial raises over the next two years",
         1
        ],
        [
         "which is $250 a month (in a family members basement)",
         1
        ],
        [
         "as my credit rating is very high & I  am very diligent and careful regarding my financial obligations.  Please help!<br/>\"",
         1
        ],
        [
         "place",
         1
        ],
        [
         "and have not one one late payment (30 day or otherwise) in 5 years.   Monthly net income: $ 3574.71  Monthly expenses: $    Housing: $ 600 (split $1200 rent with wife).    Insurance: $ 100 (car insurance)   Car expenses: $150 (approx) for gas. I do not have a car payment.     Utilities: $ 120 (Electric",
         1
        ],
        [
         "as we affectionately call it",
         1
        ],
        [
         "After graduating from college",
         1
        ],
        [
         "and always kept the best interests of the students in mind. American Investor is not afraid to voice new ideas",
         1
        ],
        [
         "I want to pay YOU the interest and not some faceless credit card company.\"",
         1
        ],
        [
         "250 towards the home and my wife contributes another $1",
         1
        ],
        [
         "but we are slowly sinking.  We are a family of 5 with 3 small kids.  We have recently moved out of state due to a job change and unexpected costs have caused us to charge more frequently on our credit cards.  We have good credit and have always paid our bills on time but now we are just paying minimum payments.  Life and the economy is stressfull enough these days but to not have credit card debt and medical debt would be a BIG stress reliever.  Please consider us for funding!<br/> 574834 added on 11/28/09 > If we could pay off all our credit cards and medical bills",
         1
        ],
        [
         "but it has 160",
         1
        ],
        [
         "now wife",
         1
        ]
       ],
       "datasetInfos": [],
       "dbfsResultPath": null,
       "isJsonSchema": true,
       "metadata": {},
       "overflow": false,
       "plotOptions": {
        "customPlotOptions": {},
        "displayType": "table",
        "pivotAggregation": null,
        "pivotColumns": null,
        "xColumns": null,
        "yColumns": null
       },
       "removedWidgets": [],
       "schema": [
        {
         "metadata": "{}",
         "name": "loan_purpose",
         "type": "\"string\""
        },
        {
         "metadata": "{}",
         "name": "count",
         "type": "\"long\""
        }
       ],
       "type": "table"
      }
     },
     "output_type": "display_data"
    }
   ],
   "source": [
    "display(dist_count_ordered)"
   ]
  },
  {
   "cell_type": "code",
   "execution_count": 0,
   "metadata": {
    "application/vnd.databricks.v1+cell": {
     "cellMetadata": {
      "byteLimit": 2048000,
      "rowLimit": 10000
     },
     "inputWidgets": {},
     "nuid": "c0ab0955-2f10-49f1-a75f-678c06c7d409",
     "showTitle": false,
     "title": ""
    }
   },
   "outputs": [
    {
     "output_type": "stream",
     "name": "stdout",
     "output_type": "stream",
     "text": [
      "+--------+--------------------+-----------+-------------+---------------+-------------+-------------------+----------+-----------+------------------+--------------------+--------------------+\n|      id|           member_id|loan_amount|funded_amount|loan_term_years|interest_rate|monthly_installment|issue_date|loan_status|      loan_purpose|          loan_title|         ingest_date|\n+--------+--------------------+-----------+-------------+---------------+-------------+-------------------+----------+-----------+------------------+--------------------+--------------------+\n|68407277|af2c01919a67ad070...|     3600.0|       3600.0|            3.0|        13.99|             123.03|  Dec-2015| Fully Paid|debt_consolidation|  Debt consolidation|2023-12-19 14:51:...|\n|68355089|51cf0089ac3e1beeb...|    24700.0|      24700.0|            3.0|        11.99|             820.28|  Dec-2015| Fully Paid|    small_business|            Business|2023-12-19 14:51:...|\n|68341763|a03d0c087a03631e3...|    20000.0|      20000.0|            5.0|        10.78|             432.66|  Dec-2015| Fully Paid|  home_improvement|                NULL|2023-12-19 14:51:...|\n|66310712|edb5d90fadb8d0754...|    35000.0|      35000.0|            5.0|        14.85|              829.9|  Dec-2015|    Current|debt_consolidation|  Debt consolidation|2023-12-19 14:51:...|\n|68476807|19ef0a55233f5d753...|    10400.0|      10400.0|            5.0|        22.45|             289.91|  Dec-2015| Fully Paid|    major_purchase|      Major purchase|2023-12-19 14:51:...|\n|68426831|e8330c3d08626dd84...|    11950.0|      11950.0|            3.0|        13.44|             405.18|  Dec-2015| Fully Paid|debt_consolidation|  Debt consolidation|2023-12-19 14:51:...|\n|68476668|1fcc933dd0548c623...|    20000.0|      20000.0|            3.0|         9.17|             637.58|  Dec-2015| Fully Paid|debt_consolidation|  Debt consolidation|2023-12-19 14:51:...|\n|67275481|ac829342586dce5b5...|    20000.0|      20000.0|            3.0|         8.49|             631.26|  Dec-2015| Fully Paid|    major_purchase|      Major purchase|2023-12-19 14:51:...|\n|68466926|fc961d7d8940475a1...|    10000.0|      10000.0|            3.0|         6.49|             306.45|  Dec-2015| Fully Paid|       credit_card|Credit card refin...|2023-12-19 14:51:...|\n|68616873|6ff86d8b565871d94...|     8000.0|       8000.0|            3.0|        11.48|             263.74|  Dec-2015| Fully Paid|       credit_card|Credit card refin...|2023-12-19 14:51:...|\n|68356421|aedd29e3627be1278...|    22400.0|      22400.0|            5.0|        12.88|              508.3|  Dec-2015|    Current|debt_consolidation|  Debt consolidation|2023-12-19 14:51:...|\n|68426545|5b42be481ab00e358...|    16000.0|      16000.0|            5.0|        12.88|             363.07|  Dec-2015|    Current|debt_consolidation|  Debt consolidation|2023-12-19 14:51:...|\n|68338832|45da7ecd0535b4243...|     1400.0|       1400.0|            3.0|        12.88|               47.1|  Dec-2015| Fully Paid|             other|                NULL|2023-12-19 14:51:...|\n|66624733|618a72079f76d6511...|    18000.0|      18000.0|            5.0|        19.48|              471.7|  Dec-2015|Charged Off|debt_consolidation|  Debt consolidation|2023-12-19 14:51:...|\n|68466961|b737dd01c078e95e2...|    28000.0|      28000.0|            3.0|         6.49|             858.05|  Dec-2015| Fully Paid|debt_consolidation|  Debt consolidation|2023-12-19 14:51:...|\n|68354783|db57cdd3f81b2501a...|     9600.0|       9600.0|            3.0|         7.49|             298.58|  Dec-2015| Fully Paid|       credit_card|Credit card refin...|2023-12-19 14:51:...|\n|68466916|7ecc9d571f7dff321...|    25000.0|      25000.0|            3.0|         7.49|             777.55|  Dec-2015| Fully Paid|debt_consolidation|  Debt consolidation|2023-12-19 14:51:...|\n|68577849|0704182cf7ed93107...|    18000.0|      18000.0|            5.0|        11.99|             400.31|  Dec-2015| Fully Paid|debt_consolidation|  Debt consolidation|2023-12-19 14:51:...|\n|68506798|7b70a7dd291cc5bb5...|    23000.0|      23000.0|            5.0|         8.49|             471.77|  Dec-2015|    Current|       credit_card|Credit card refin...|2023-12-19 14:51:...|\n|68495092|d5bbe44369cec752e...|     8650.0|       8650.0|            3.0|        19.89|             320.99|  Dec-2015| Fully Paid|debt_consolidation|  Debt consolidation|2023-12-19 14:51:...|\n+--------+--------------------+-----------+-------------+---------------+-------------+-------------------+----------+-----------+------------------+--------------------+--------------------+\nonly showing top 20 rows\n\n"
     ]
    }
   ],
   "source": [
    "loan_purpose_lookup = [\"debt_consolidation\", \"credit_card\", \"home_improvement\", \"other\", \"major_purchase\", \"medical\", \"small_business\", \"car\", \"vacation\", \"moving\", \"house\", \"wedding\", \"renewable_energy\", \"educational\"]\n",
    "\n",
    "loans_df_purpose = loans_modified.withColumn(\n",
    "    \"loan_purpose\"\\\n",
    "    ,when(\n",
    "        col(\"loan_purpose\").isin(loan_purpose_lookup)\\\n",
    "        ,col(\"loan_purpose\")\n",
    "    )\\\n",
    "    .otherwise(\"other\")\n",
    "\n",
    ")\n",
    "\n",
    "loans_df_purpose.show()"
   ]
  },
  {
   "cell_type": "code",
   "execution_count": 0,
   "metadata": {
    "application/vnd.databricks.v1+cell": {
     "cellMetadata": {
      "byteLimit": 2048000,
      "rowLimit": 10000
     },
     "inputWidgets": {},
     "nuid": "9f866bf1-0a72-40e1-9210-2f8743213866",
     "showTitle": false,
     "title": ""
    }
   },
   "outputs": [
    {
     "output_type": "stream",
     "name": "stdout",
     "output_type": "stream",
     "text": [
      "+------------------+\n|      loan_purpose|\n+------------------+\n|           wedding|\n|       educational|\n|             other|\n|    small_business|\n|debt_consolidation|\n|       credit_card|\n|            moving|\n|          vacation|\n|  renewable_energy|\n|             house|\n|               car|\n|    major_purchase|\n|           medical|\n|  home_improvement|\n+------------------+\n\n"
     ]
    }
   ],
   "source": [
    "loans_df_purpose.select(\"loan_purpose\").distinct().show()"
   ]
  },
  {
   "cell_type": "code",
   "execution_count": 0,
   "metadata": {
    "application/vnd.databricks.v1+cell": {
     "cellMetadata": {
      "byteLimit": 2048000,
      "rowLimit": 10000
     },
     "inputWidgets": {},
     "nuid": "d2b22732-6810-4b33-ab74-d4086b705e39",
     "showTitle": false,
     "title": ""
    }
   },
   "outputs": [],
   "source": [
    "loans_df_purpose.write \\\n",
    ".format(\"parquet\") \\\n",
    ".mode(\"overwrite\") \\\n",
    ".option(\"path\", \"/mnt/lending_club/staging/loans/partitioned/parquet\") \\\n",
    ".partitionBy(\"loan_purpose\")\\\n",
    ".save()"
   ]
  },
  {
   "cell_type": "code",
   "execution_count": 0,
   "metadata": {
    "application/vnd.databricks.v1+cell": {
     "cellMetadata": {
      "byteLimit": 2048000,
      "rowLimit": 10000
     },
     "inputWidgets": {},
     "nuid": "0fa68252-9890-4f71-ace8-785ce127481f",
     "showTitle": false,
     "title": ""
    }
   },
   "outputs": [],
   "source": [
    "loans_df_purpose.write \\\n",
    ".format(\"csv\") \\\n",
    ".mode(\"overwrite\") \\\n",
    ".option(\"path\", \"/mnt/lending_club/staging/loans/partitioned/csv\") \\\n",
    ".partitionBy(\"loan_purpose\")\\\n",
    ".save()"
   ]
  },
  {
   "cell_type": "code",
   "execution_count": 0,
   "metadata": {
    "application/vnd.databricks.v1+cell": {
     "cellMetadata": {
      "byteLimit": 2048000,
      "rowLimit": 10000
     },
     "inputWidgets": {},
     "nuid": "5bd6b523-04cc-4178-846a-d34e1788cd16",
     "showTitle": false,
     "title": ""
    }
   },
   "outputs": [],
   "source": [
    "loans_df_purpose.write \\\n",
    ".format(\"parquet\") \\\n",
    ".mode(\"overwrite\") \\\n",
    ".option(\"path\", \"/mnt/lending_club/staging/loans/non_partitioned/parquet\") \\\n",
    ".save()"
   ]
  },
  {
   "cell_type": "code",
   "execution_count": 0,
   "metadata": {
    "application/vnd.databricks.v1+cell": {
     "cellMetadata": {
      "byteLimit": 2048000,
      "rowLimit": 10000
     },
     "inputWidgets": {},
     "nuid": "1a7f7421-92a9-4bff-a84f-baf491ea11d9",
     "showTitle": false,
     "title": ""
    }
   },
   "outputs": [],
   "source": [
    "loans_df_purpose.write \\\n",
    ".format(\"csv\") \\\n",
    ".mode(\"overwrite\") \\\n",
    ".option(\"path\", \"/mnt/lending_club/staging/loans/non_partitioned/csv\") \\\n",
    ".save()"
   ]
  },
  {
   "cell_type": "code",
   "execution_count": 0,
   "metadata": {
    "application/vnd.databricks.v1+cell": {
     "cellMetadata": {},
     "inputWidgets": {},
     "nuid": "d3c36292-b80a-4732-83ce-5f40367652be",
     "showTitle": false,
     "title": ""
    }
   },
   "outputs": [],
   "source": []
  }
 ],
 "metadata": {
  "application/vnd.databricks.v1+notebook": {
   "dashboards": [],
   "language": "python",
   "notebookMetadata": {
    "mostRecentlyExecutedCommandWithImplicitDF": {
     "commandId": 2031990454545387,
     "dataframes": [
      "_sqldf"
     ]
    },
    "pythonIndentUnit": 4
   },
   "notebookName": "loans_data_cleaned 2023-12-19 18:53:07",
   "widgets": {}
  }
 },
 "nbformat": 4,
 "nbformat_minor": 0
}
