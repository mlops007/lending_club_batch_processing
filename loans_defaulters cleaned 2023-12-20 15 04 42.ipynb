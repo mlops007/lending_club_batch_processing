{
 "cells": [
  {
   "cell_type": "code",
   "execution_count": 0,
   "metadata": {
    "application/vnd.databricks.v1+cell": {
     "cellMetadata": {
      "byteLimit": 2048000,
      "rowLimit": 10000
     },
     "inputWidgets": {},
     "nuid": "d7367a1d-0509-44e1-bcfe-fdb6c0943b96",
     "showTitle": false,
     "title": ""
    }
   },
   "outputs": [
    {
     "output_type": "display_data",
     "data": {
      "text/html": [
       "<style scoped>\n",
       "  .table-result-container {\n",
       "    max-height: 300px;\n",
       "    overflow: auto;\n",
       "  }\n",
       "  table, th, td {\n",
       "    border: 1px solid black;\n",
       "    border-collapse: collapse;\n",
       "  }\n",
       "  th, td {\n",
       "    padding: 5px;\n",
       "  }\n",
       "  th {\n",
       "    text-align: left;\n",
       "  }\n",
       "</style><div class='table-result-container'><table class='table-result'><thead style='background-color: white'><tr><th>path</th><th>name</th><th>size</th><th>modificationTime</th></tr></thead><tbody><tr><td>dbfs:/mnt/lending_club/landing/loan_defaulters_df/csv/single/_SUCCESS</td><td>_SUCCESS</td><td>0</td><td>1702883183000</td></tr><tr><td>dbfs:/mnt/lending_club/landing/loan_defaulters_df/csv/single/_committed_2898080382008637628</td><td>_committed_2898080382008637628</td><td>113</td><td>1702883183000</td></tr><tr><td>dbfs:/mnt/lending_club/landing/loan_defaulters_df/csv/single/_started_2898080382008637628</td><td>_started_2898080382008637628</td><td>0</td><td>1702883178000</td></tr><tr><td>dbfs:/mnt/lending_club/landing/loan_defaulters_df/csv/single/part-00000-tid-2898080382008637628-d409c413-9f62-4986-889e-aa2bbe9225c0-232-1-c000.csv</td><td>part-00000-tid-2898080382008637628-d409c413-9f62-4986-889e-aa2bbe9225c0-232-1-c000.csv</td><td>211765942</td><td>1702883183000</td></tr></tbody></table></div>"
      ]
     },
     "metadata": {
      "application/vnd.databricks.v1+output": {
       "addedWidgets": {},
       "aggData": [],
       "aggError": "",
       "aggOverflow": false,
       "aggSchema": [],
       "aggSeriesLimitReached": false,
       "aggType": "",
       "arguments": {},
       "columnCustomDisplayInfos": {},
       "data": [
        [
         "dbfs:/mnt/lending_club/landing/loan_defaulters_df/csv/single/_SUCCESS",
         "_SUCCESS",
         0,
         1702883183000
        ],
        [
         "dbfs:/mnt/lending_club/landing/loan_defaulters_df/csv/single/_committed_2898080382008637628",
         "_committed_2898080382008637628",
         113,
         1702883183000
        ],
        [
         "dbfs:/mnt/lending_club/landing/loan_defaulters_df/csv/single/_started_2898080382008637628",
         "_started_2898080382008637628",
         0,
         1702883178000
        ],
        [
         "dbfs:/mnt/lending_club/landing/loan_defaulters_df/csv/single/part-00000-tid-2898080382008637628-d409c413-9f62-4986-889e-aa2bbe9225c0-232-1-c000.csv",
         "part-00000-tid-2898080382008637628-d409c413-9f62-4986-889e-aa2bbe9225c0-232-1-c000.csv",
         211765942,
         1702883183000
        ]
       ],
       "datasetInfos": [],
       "dbfsResultPath": null,
       "isJsonSchema": true,
       "metadata": {
        "isDbfsCommandResult": false
       },
       "overflow": false,
       "plotOptions": {
        "customPlotOptions": {},
        "displayType": "table",
        "pivotAggregation": null,
        "pivotColumns": null,
        "xColumns": null,
        "yColumns": null
       },
       "removedWidgets": [],
       "schema": [
        {
         "metadata": "{}",
         "name": "path",
         "type": "\"string\""
        },
        {
         "metadata": "{}",
         "name": "name",
         "type": "\"string\""
        },
        {
         "metadata": "{}",
         "name": "size",
         "type": "\"long\""
        },
        {
         "metadata": "{}",
         "name": "modificationTime",
         "type": "\"long\""
        }
       ],
       "type": "table"
      }
     },
     "output_type": "display_data"
    }
   ],
   "source": [
    "%fs ls /mnt/lending_club/landing/loan_defaulters_df/csv/single"
   ]
  },
  {
   "cell_type": "code",
   "execution_count": 0,
   "metadata": {
    "application/vnd.databricks.v1+cell": {
     "cellMetadata": {
      "byteLimit": 2048000,
      "rowLimit": 10000
     },
     "inputWidgets": {},
     "nuid": "3aa6e047-d3f9-49cb-84d0-ded6783dea10",
     "showTitle": false,
     "title": ""
    }
   },
   "outputs": [],
   "source": [
    "from pyspark.sql.types import StructType, StructField, TimestampType, IntegerType, StringType, FloatType, LongType, TimestampType\n",
    "from pyspark.sql.functions import regexp_replace, concat_ws\n",
    "from pyspark.sql.functions import when, col, length\n",
    "from pyspark.sql.functions import current_timestamp\n",
    "from pyspark.sql.functions import avg"
   ]
  },
  {
   "cell_type": "code",
   "execution_count": 0,
   "metadata": {
    "application/vnd.databricks.v1+cell": {
     "cellMetadata": {
      "byteLimit": 2048000,
      "rowLimit": 10000
     },
     "inputWidgets": {},
     "nuid": "6a9b807e-9d3f-4d97-ae16-70114e1d4ddf",
     "showTitle": false,
     "title": ""
    }
   },
   "outputs": [],
   "source": [
    "loans_defaulters_schema = StructType([\n",
    "    \n",
    "    StructField(\"member_id\", StringType(), True)\n",
    "    ,StructField(\"deling_2yrs\", FloatType(), True)\n",
    "    ,StructField(\"delinq_amount\", FloatType(), True)\n",
    "    ,StructField(\"pub_rec\", FloatType(), True)\n",
    "    ,StructField(\"pub_rec_bankruptcies\", FloatType(), True)\n",
    "    ,StructField(\"inq_last_6mths\", FloatType(), True)\n",
    "    ,StructField(\"total_rec_late_fee\", FloatType(), True)\n",
    "    ,StructField(\"mths_since_last_delinq\", FloatType(), True)\n",
    "    ,StructField(\"mths_since_last_record\", FloatType(), True)\n",
    "])"
   ]
  },
  {
   "cell_type": "code",
   "execution_count": 0,
   "metadata": {
    "application/vnd.databricks.v1+cell": {
     "cellMetadata": {
      "byteLimit": 2048000,
      "rowLimit": 10000
     },
     "inputWidgets": {},
     "nuid": "e0797445-8963-4042-850d-a39a104cf5ec",
     "showTitle": false,
     "title": ""
    }
   },
   "outputs": [
    {
     "output_type": "stream",
     "name": "stdout",
     "output_type": "stream",
     "text": [
      "+--------------------+-----------+-------------+-------+--------------------+--------------+------------------+----------------------+----------------------+\n|           member_id|deling_2yrs|delinq_amount|pub_rec|pub_rec_bankruptcies|inq_last_6mths|total_rec_late_fee|mths_since_last_delinq|mths_since_last_record|\n+--------------------+-----------+-------------+-------+--------------------+--------------+------------------+----------------------+----------------------+\n|af2c01919a67ad070...|        0.0|          0.0|    0.0|                 0.0|           1.0|               0.0|                  30.0|                  NULL|\n|51cf0089ac3e1beeb...|        1.0|          0.0|    0.0|                 0.0|           4.0|               0.0|                   6.0|                  NULL|\n|a03d0c087a03631e3...|        0.0|          0.0|    0.0|                 0.0|           0.0|               0.0|                  NULL|                  NULL|\n|edb5d90fadb8d0754...|        0.0|          0.0|    0.0|                 0.0|           0.0|               0.0|                  NULL|                  NULL|\n|19ef0a55233f5d753...|        1.0|          0.0|    0.0|                 0.0|           3.0|               0.0|                  12.0|                  NULL|\n|e8330c3d08626dd84...|        0.0|          0.0|    0.0|                 0.0|           0.0|               0.0|                  NULL|                  NULL|\n|1fcc933dd0548c623...|        0.0|          0.0|    0.0|                 0.0|           0.0|               0.0|                  49.0|                  NULL|\n|ac829342586dce5b5...|        1.0|          0.0|    0.0|                 0.0|           0.0|               0.0|                   3.0|                  NULL|\n|fc961d7d8940475a1...|        0.0|          0.0|    1.0|                 1.0|           1.0|               0.0|                  NULL|                 106.0|\n|6ff86d8b565871d94...|        0.0|          0.0|    0.0|                 0.0|           0.0|               0.0|                  75.0|                  NULL|\n|aedd29e3627be1278...|        0.0|          0.0|    0.0|                 0.0|           0.0|               0.0|                  54.0|                  NULL|\n|5b42be481ab00e358...|        0.0|          0.0|    0.0|                 0.0|           0.0|               0.0|                  NULL|                  NULL|\n|45da7ecd0535b4243...|        0.0|          0.0|    0.0|                 0.0|           0.0|               0.0|                  NULL|                  NULL|\n|618a72079f76d6511...|        0.0|          0.0|    1.0|                 1.0|           1.0|               0.0|                  NULL|                  75.0|\n|b737dd01c078e95e2...|        0.0|          0.0|    0.0|                 0.0|           0.0|               0.0|                  42.0|                  NULL|\n|db57cdd3f81b2501a...|        0.0|          0.0|    0.0|                 0.0|           0.0|               0.0|                  NULL|                  NULL|\n|7ecc9d571f7dff321...|        0.0|          0.0|    0.0|                 0.0|           1.0|               0.0|                  NULL|                  NULL|\n|0704182cf7ed93107...|        0.0|          0.0|    0.0|                 0.0|           0.0|               0.0|                  NULL|                  NULL|\n|7b70a7dd291cc5bb5...|        0.0|          0.0|    0.0|                 0.0|           0.0|               0.0|                  29.0|                  NULL|\n|d5bbe44369cec752e...|        0.0|          0.0|    1.0|                 1.0|           4.0|               0.0|                  NULL|                  30.0|\n+--------------------+-----------+-------------+-------+--------------------+--------------+------------------+----------------------+----------------------+\nonly showing top 20 rows\n\n"
     ]
    }
   ],
   "source": [
    "loans_defaulters_df = spark.read\\\n",
    "    .format(\"csv\")\\\n",
    "    .option(\"header\", True)\\\n",
    "    .schema(loans_defaulters_schema)\\\n",
    "    .load(\"dbfs:/mnt/lending_club/landing/loan_defaulters_df/csv/single/part-00000-tid-2898080382008637628-d409c413-9f62-4986-889e-aa2bbe9225c0-232-1-c000.csv\")\n",
    "\n",
    "\n",
    "loans_defaulters_df.show()"
   ]
  },
  {
   "cell_type": "code",
   "execution_count": 0,
   "metadata": {
    "application/vnd.databricks.v1+cell": {
     "cellMetadata": {
      "byteLimit": 2048000,
      "rowLimit": 10000
     },
     "inputWidgets": {},
     "nuid": "ebaf0ce1-6ee9-4e6e-aff4-dbc8b9a0947d",
     "showTitle": false,
     "title": ""
    }
   },
   "outputs": [],
   "source": [
    "loans_defaulters_delind2yrs_df = loans_defaulters_df.withColumn(\n",
    "    \"deling_2yrs\",\n",
    "    col(\"deling_2yrs\").cast(\"integer\")\n",
    ").fillna(0, subset = [\"deling_2yrs\"])"
   ]
  },
  {
   "cell_type": "code",
   "execution_count": 0,
   "metadata": {
    "application/vnd.databricks.v1+cell": {
     "cellMetadata": {
      "byteLimit": 2048000,
      "rowLimit": 10000
     },
     "inputWidgets": {},
     "nuid": "a06c147b-c6a8-4cb9-abc6-0b22df3b7711",
     "showTitle": false,
     "title": ""
    }
   },
   "outputs": [
    {
     "output_type": "stream",
     "name": "stdout",
     "output_type": "stream",
     "text": [
      "+--------------------+-----------+-------------+-------+--------------------+--------------+------------------+----------------------+----------------------+\n|           member_id|deling_2yrs|delinq_amount|pub_rec|pub_rec_bankruptcies|inq_last_6mths|total_rec_late_fee|mths_since_last_delinq|mths_since_last_record|\n+--------------------+-----------+-------------+-------+--------------------+--------------+------------------+----------------------+----------------------+\n|af2c01919a67ad070...|          0|          0.0|    0.0|                 0.0|           1.0|               0.0|                  30.0|                  NULL|\n|51cf0089ac3e1beeb...|          1|          0.0|    0.0|                 0.0|           4.0|               0.0|                   6.0|                  NULL|\n|a03d0c087a03631e3...|          0|          0.0|    0.0|                 0.0|           0.0|               0.0|                  NULL|                  NULL|\n|edb5d90fadb8d0754...|          0|          0.0|    0.0|                 0.0|           0.0|               0.0|                  NULL|                  NULL|\n|19ef0a55233f5d753...|          1|          0.0|    0.0|                 0.0|           3.0|               0.0|                  12.0|                  NULL|\n|e8330c3d08626dd84...|          0|          0.0|    0.0|                 0.0|           0.0|               0.0|                  NULL|                  NULL|\n|1fcc933dd0548c623...|          0|          0.0|    0.0|                 0.0|           0.0|               0.0|                  49.0|                  NULL|\n|ac829342586dce5b5...|          1|          0.0|    0.0|                 0.0|           0.0|               0.0|                   3.0|                  NULL|\n|fc961d7d8940475a1...|          0|          0.0|    1.0|                 1.0|           1.0|               0.0|                  NULL|                 106.0|\n|6ff86d8b565871d94...|          0|          0.0|    0.0|                 0.0|           0.0|               0.0|                  75.0|                  NULL|\n|aedd29e3627be1278...|          0|          0.0|    0.0|                 0.0|           0.0|               0.0|                  54.0|                  NULL|\n|5b42be481ab00e358...|          0|          0.0|    0.0|                 0.0|           0.0|               0.0|                  NULL|                  NULL|\n|45da7ecd0535b4243...|          0|          0.0|    0.0|                 0.0|           0.0|               0.0|                  NULL|                  NULL|\n|618a72079f76d6511...|          0|          0.0|    1.0|                 1.0|           1.0|               0.0|                  NULL|                  75.0|\n|b737dd01c078e95e2...|          0|          0.0|    0.0|                 0.0|           0.0|               0.0|                  42.0|                  NULL|\n|db57cdd3f81b2501a...|          0|          0.0|    0.0|                 0.0|           0.0|               0.0|                  NULL|                  NULL|\n|7ecc9d571f7dff321...|          0|          0.0|    0.0|                 0.0|           1.0|               0.0|                  NULL|                  NULL|\n|0704182cf7ed93107...|          0|          0.0|    0.0|                 0.0|           0.0|               0.0|                  NULL|                  NULL|\n|7b70a7dd291cc5bb5...|          0|          0.0|    0.0|                 0.0|           0.0|               0.0|                  29.0|                  NULL|\n|d5bbe44369cec752e...|          0|          0.0|    1.0|                 1.0|           4.0|               0.0|                  NULL|                  30.0|\n+--------------------+-----------+-------------+-------+--------------------+--------------+------------------+----------------------+----------------------+\nonly showing top 20 rows\n\n"
     ]
    }
   ],
   "source": [
    "loans_defaulters_delind2yrs_df.show()"
   ]
  },
  {
   "cell_type": "code",
   "execution_count": 0,
   "metadata": {
    "application/vnd.databricks.v1+cell": {
     "cellMetadata": {
      "byteLimit": 2048000,
      "rowLimit": 10000
     },
     "inputWidgets": {},
     "nuid": "e6943ac5-ca45-4944-9414-bfb06829f95a",
     "showTitle": false,
     "title": ""
    }
   },
   "outputs": [
    {
     "output_type": "stream",
     "name": "stdout",
     "output_type": "stream",
     "text": [
      "+--------------------+-----------+-------------+-------+--------------------+--------------+------------------+----------------------+----------------------+--------------------+\n|           member_id|deling_2yrs|delinq_amount|pub_rec|pub_rec_bankruptcies|inq_last_6mths|total_rec_late_fee|mths_since_last_delinq|mths_since_last_record|       ingested_date|\n+--------------------+-----------+-------------+-------+--------------------+--------------+------------------+----------------------+----------------------+--------------------+\n|af2c01919a67ad070...|          0|          0.0|    0.0|                 0.0|           1.0|               0.0|                  30.0|                  NULL|2023-12-20 09:48:...|\n|51cf0089ac3e1beeb...|          1|          0.0|    0.0|                 0.0|           4.0|               0.0|                   6.0|                  NULL|2023-12-20 09:48:...|\n|a03d0c087a03631e3...|          0|          0.0|    0.0|                 0.0|           0.0|               0.0|                  NULL|                  NULL|2023-12-20 09:48:...|\n|edb5d90fadb8d0754...|          0|          0.0|    0.0|                 0.0|           0.0|               0.0|                  NULL|                  NULL|2023-12-20 09:48:...|\n|19ef0a55233f5d753...|          1|          0.0|    0.0|                 0.0|           3.0|               0.0|                  12.0|                  NULL|2023-12-20 09:48:...|\n|e8330c3d08626dd84...|          0|          0.0|    0.0|                 0.0|           0.0|               0.0|                  NULL|                  NULL|2023-12-20 09:48:...|\n|1fcc933dd0548c623...|          0|          0.0|    0.0|                 0.0|           0.0|               0.0|                  49.0|                  NULL|2023-12-20 09:48:...|\n|ac829342586dce5b5...|          1|          0.0|    0.0|                 0.0|           0.0|               0.0|                   3.0|                  NULL|2023-12-20 09:48:...|\n|fc961d7d8940475a1...|          0|          0.0|    1.0|                 1.0|           1.0|               0.0|                  NULL|                 106.0|2023-12-20 09:48:...|\n|6ff86d8b565871d94...|          0|          0.0|    0.0|                 0.0|           0.0|               0.0|                  75.0|                  NULL|2023-12-20 09:48:...|\n|aedd29e3627be1278...|          0|          0.0|    0.0|                 0.0|           0.0|               0.0|                  54.0|                  NULL|2023-12-20 09:48:...|\n|5b42be481ab00e358...|          0|          0.0|    0.0|                 0.0|           0.0|               0.0|                  NULL|                  NULL|2023-12-20 09:48:...|\n|45da7ecd0535b4243...|          0|          0.0|    0.0|                 0.0|           0.0|               0.0|                  NULL|                  NULL|2023-12-20 09:48:...|\n|618a72079f76d6511...|          0|          0.0|    1.0|                 1.0|           1.0|               0.0|                  NULL|                  75.0|2023-12-20 09:48:...|\n|b737dd01c078e95e2...|          0|          0.0|    0.0|                 0.0|           0.0|               0.0|                  42.0|                  NULL|2023-12-20 09:48:...|\n|db57cdd3f81b2501a...|          0|          0.0|    0.0|                 0.0|           0.0|               0.0|                  NULL|                  NULL|2023-12-20 09:48:...|\n|7ecc9d571f7dff321...|          0|          0.0|    0.0|                 0.0|           1.0|               0.0|                  NULL|                  NULL|2023-12-20 09:48:...|\n|0704182cf7ed93107...|          0|          0.0|    0.0|                 0.0|           0.0|               0.0|                  NULL|                  NULL|2023-12-20 09:48:...|\n|7b70a7dd291cc5bb5...|          0|          0.0|    0.0|                 0.0|           0.0|               0.0|                  29.0|                  NULL|2023-12-20 09:48:...|\n|d5bbe44369cec752e...|          0|          0.0|    1.0|                 1.0|           4.0|               0.0|                  NULL|                  30.0|2023-12-20 09:48:...|\n+--------------------+-----------+-------------+-------+--------------------+--------------+------------------+----------------------+----------------------+--------------------+\nonly showing top 20 rows\n\n"
     ]
    }
   ],
   "source": [
    "loans_defaulters_delind2yrs_ingested_df = loans_defaulters_delind2yrs_df.withColumn(\n",
    "    \"ingested_date\", current_timestamp()\n",
    ")\n",
    "loans_defaulters_delind2yrs_ingested_df.show()"
   ]
  },
  {
   "cell_type": "code",
   "execution_count": 0,
   "metadata": {
    "application/vnd.databricks.v1+cell": {
     "cellMetadata": {
      "byteLimit": 2048000,
      "rowLimit": 10000
     },
     "inputWidgets": {},
     "nuid": "a5e7f0a6-739c-450e-bac4-eb923e2af614",
     "showTitle": false,
     "title": ""
    }
   },
   "outputs": [
    {
     "output_type": "stream",
     "name": "stdout",
     "output_type": "stream",
     "text": [
      "+--------------------+-----------+-------------+-------+--------------------+--------------+------------------+----------------------+----------------------+--------------------+\n|           member_id|deling_2yrs|delinq_amount|pub_rec|pub_rec_bankruptcies|inq_last_6mths|total_rec_late_fee|mths_since_last_delinq|mths_since_last_record|       ingested_date|\n+--------------------+-----------+-------------+-------+--------------------+--------------+------------------+----------------------+----------------------+--------------------+\n|af2c01919a67ad070...|          0|          0.0|    0.0|                 0.0|           1.0|               0.0|                  30.0|                  NULL|2023-12-20 09:56:...|\n|51cf0089ac3e1beeb...|          1|          0.0|    0.0|                 0.0|           4.0|               0.0|                   6.0|                  NULL|2023-12-20 09:56:...|\n+--------------------+-----------+-------------+-------+--------------------+--------------+------------------+----------------------+----------------------+--------------------+\nonly showing top 2 rows\n\n"
     ]
    }
   ],
   "source": [
    "loans_defaulters_delind2yrs_ingested_df.show(2)"
   ]
  },
  {
   "cell_type": "code",
   "execution_count": 0,
   "metadata": {
    "application/vnd.databricks.v1+cell": {
     "cellMetadata": {
      "byteLimit": 2048000,
      "rowLimit": 10000
     },
     "inputWidgets": {},
     "nuid": "4186fc2b-7fbf-44a2-b5c2-ef8c29c3ba86",
     "showTitle": false,
     "title": ""
    }
   },
   "outputs": [],
   "source": [
    "defaulters_df = loans_defaulters_delind2yrs_ingested_df.select(\"member_id\").filter(\"pub_rec >0.0\").filter(\"pub_rec_bankruptcies>0.0\").filter(\"inq_last_6mths>0.0\")"
   ]
  },
  {
   "cell_type": "code",
   "execution_count": 0,
   "metadata": {
    "application/vnd.databricks.v1+cell": {
     "cellMetadata": {
      "byteLimit": 2048000,
      "rowLimit": 10000
     },
     "inputWidgets": {},
     "nuid": "80f27a90-1575-4e07-9072-ec11deac07a0",
     "showTitle": false,
     "title": ""
    }
   },
   "outputs": [],
   "source": [
    "defaulters_df.write \\\n",
    ".format(\"csv\") \\\n",
    ".mode(\"overwrite\") \\\n",
    ".option(\"path\", \"/mnt/lending_club/staging/loans_defaulters/deafulters/non_partitioned/csv\") \\\n",
    ".save()"
   ]
  },
  {
   "cell_type": "code",
   "execution_count": 0,
   "metadata": {
    "application/vnd.databricks.v1+cell": {
     "cellMetadata": {
      "byteLimit": 2048000,
      "rowLimit": 10000
     },
     "inputWidgets": {},
     "nuid": "740f05e0-9da3-4b9b-bac8-1cdcca7d7f27",
     "showTitle": false,
     "title": ""
    }
   },
   "outputs": [],
   "source": [
    "defaulters_df.write \\\n",
    ".format(\"parquet\") \\\n",
    ".mode(\"overwrite\") \\\n",
    ".option(\"path\", \"/mnt/lending_club/staging/loans_defaulters/deafulters/non_partitioned/parquet\") \\\n",
    ".save()"
   ]
  },
  {
   "cell_type": "code",
   "execution_count": 0,
   "metadata": {
    "application/vnd.databricks.v1+cell": {
     "cellMetadata": {
      "byteLimit": 2048000,
      "rowLimit": 10000
     },
     "inputWidgets": {},
     "nuid": "cf45069e-8ff0-4dd7-a3a5-45fdb8f3fad2",
     "showTitle": false,
     "title": ""
    }
   },
   "outputs": [],
   "source": [
    "loans_defaulters_delind2yrs_ingested_df = loans_defaulters_delind2yrs_ingested_df.filter(\"deling_2yrs > 0\").filter(\"mths_since_last_delinq > 0.0\")"
   ]
  },
  {
   "cell_type": "code",
   "execution_count": 0,
   "metadata": {
    "application/vnd.databricks.v1+cell": {
     "cellMetadata": {
      "byteLimit": 2048000,
      "rowLimit": 10000
     },
     "inputWidgets": {},
     "nuid": "fe40392f-27e5-4e6f-973e-73f257b81234",
     "showTitle": false,
     "title": ""
    }
   },
   "outputs": [],
   "source": [
    "loans_defaulters_delind2yrs_ingested_df.write \\\n",
    ".format(\"csv\") \\\n",
    ".mode(\"overwrite\") \\\n",
    ".option(\"path\", \"/mnt/lending_club/staging/loans_defaulters/non_deafulters/non_partitioned/csv\") \\\n",
    ".save()"
   ]
  },
  {
   "cell_type": "code",
   "execution_count": 0,
   "metadata": {
    "application/vnd.databricks.v1+cell": {
     "cellMetadata": {
      "byteLimit": 2048000,
      "rowLimit": 10000
     },
     "inputWidgets": {},
     "nuid": "b11c7100-8969-4717-b19d-05648d197ae8",
     "showTitle": false,
     "title": ""
    }
   },
   "outputs": [],
   "source": [
    "loans_defaulters_delind2yrs_ingested_df.write \\\n",
    ".format(\"parquet\") \\\n",
    ".mode(\"overwrite\") \\\n",
    ".option(\"path\", \"/mnt/lending_club/staging/loans_defaulters/non_deafulters/non_partitioned/parquet\") \\\n",
    ".save()"
   ]
  },
  {
   "cell_type": "code",
   "execution_count": 0,
   "metadata": {
    "application/vnd.databricks.v1+cell": {
     "cellMetadata": {},
     "inputWidgets": {},
     "nuid": "22f0141f-0bba-4c20-9564-d10a5989bfd7",
     "showTitle": false,
     "title": ""
    }
   },
   "outputs": [],
   "source": []
  }
 ],
 "metadata": {
  "application/vnd.databricks.v1+notebook": {
   "dashboards": [],
   "language": "python",
   "notebookMetadata": {
    "mostRecentlyExecutedCommandWithImplicitDF": {
     "commandId": 2939821825825423,
     "dataframes": [
      "_sqldf"
     ]
    },
    "pythonIndentUnit": 4
   },
   "notebookName": "loans_defaulters cleaned 2023-12-20 15:04:42",
   "widgets": {}
  }
 },
 "nbformat": 4,
 "nbformat_minor": 0
}
