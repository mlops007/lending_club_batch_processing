{
 "cells": [
  {
   "cell_type": "code",
   "execution_count": 0,
   "metadata": {
    "application/vnd.databricks.v1+cell": {
     "cellMetadata": {
      "byteLimit": 2048000,
      "rowLimit": 10000
     },
     "inputWidgets": {},
     "nuid": "5b9eaf91-3934-4ae6-a0dd-bd720fceba72",
     "showTitle": false,
     "title": ""
    }
   },
   "outputs": [
    {
     "output_type": "display_data",
     "data": {
      "text/html": [
       "<style scoped>\n",
       "  .table-result-container {\n",
       "    max-height: 300px;\n",
       "    overflow: auto;\n",
       "  }\n",
       "  table, th, td {\n",
       "    border: 1px solid black;\n",
       "    border-collapse: collapse;\n",
       "  }\n",
       "  th, td {\n",
       "    padding: 5px;\n",
       "  }\n",
       "  th {\n",
       "    text-align: left;\n",
       "  }\n",
       "</style><div class='table-result-container'><table class='table-result'><thead style='background-color: white'><tr><th>path</th><th>name</th><th>size</th><th>modificationTime</th></tr></thead><tbody><tr><td>dbfs:/mnt/lending_club/landing/loan_repayments_df/csv/single/_SUCCESS</td><td>_SUCCESS</td><td>0</td><td>1702883438000</td></tr><tr><td>dbfs:/mnt/lending_club/landing/loan_repayments_df/csv/single/_committed_2414998971585683794</td><td>_committed_2414998971585683794</td><td>113</td><td>1702883438000</td></tr><tr><td>dbfs:/mnt/lending_club/landing/loan_repayments_df/csv/single/_started_2414998971585683794</td><td>_started_2414998971585683794</td><td>0</td><td>1702883433000</td></tr><tr><td>dbfs:/mnt/lending_club/landing/loan_repayments_df/csv/single/part-00000-tid-2414998971585683794-11892453-bff9-4546-97cc-2a94e5f52b5f-250-1-c000.csv</td><td>part-00000-tid-2414998971585683794-11892453-bff9-4546-97cc-2a94e5f52b5f-250-1-c000.csv</td><td>138123359</td><td>1702883438000</td></tr></tbody></table></div>"
      ]
     },
     "metadata": {
      "application/vnd.databricks.v1+output": {
       "addedWidgets": {},
       "aggData": [],
       "aggError": "",
       "aggOverflow": false,
       "aggSchema": [],
       "aggSeriesLimitReached": false,
       "aggType": "",
       "arguments": {},
       "columnCustomDisplayInfos": {},
       "data": [
        [
         "dbfs:/mnt/lending_club/landing/loan_repayments_df/csv/single/_SUCCESS",
         "_SUCCESS",
         0,
         1702883438000
        ],
        [
         "dbfs:/mnt/lending_club/landing/loan_repayments_df/csv/single/_committed_2414998971585683794",
         "_committed_2414998971585683794",
         113,
         1702883438000
        ],
        [
         "dbfs:/mnt/lending_club/landing/loan_repayments_df/csv/single/_started_2414998971585683794",
         "_started_2414998971585683794",
         0,
         1702883433000
        ],
        [
         "dbfs:/mnt/lending_club/landing/loan_repayments_df/csv/single/part-00000-tid-2414998971585683794-11892453-bff9-4546-97cc-2a94e5f52b5f-250-1-c000.csv",
         "part-00000-tid-2414998971585683794-11892453-bff9-4546-97cc-2a94e5f52b5f-250-1-c000.csv",
         138123359,
         1702883438000
        ]
       ],
       "datasetInfos": [],
       "dbfsResultPath": null,
       "isJsonSchema": true,
       "metadata": {
        "isDbfsCommandResult": false
       },
       "overflow": false,
       "plotOptions": {
        "customPlotOptions": {},
        "displayType": "table",
        "pivotAggregation": null,
        "pivotColumns": null,
        "xColumns": null,
        "yColumns": null
       },
       "removedWidgets": [],
       "schema": [
        {
         "metadata": "{}",
         "name": "path",
         "type": "\"string\""
        },
        {
         "metadata": "{}",
         "name": "name",
         "type": "\"string\""
        },
        {
         "metadata": "{}",
         "name": "size",
         "type": "\"long\""
        },
        {
         "metadata": "{}",
         "name": "modificationTime",
         "type": "\"long\""
        }
       ],
       "type": "table"
      }
     },
     "output_type": "display_data"
    }
   ],
   "source": [
    "%fs ls /mnt/lending_club/landing/loan_repayments_df/csv/single"
   ]
  },
  {
   "cell_type": "code",
   "execution_count": 0,
   "metadata": {
    "application/vnd.databricks.v1+cell": {
     "cellMetadata": {
      "byteLimit": 2048000,
      "rowLimit": 10000
     },
     "inputWidgets": {},
     "nuid": "867df6a0-1bc7-4bc3-a203-bc55ab3b3fa2",
     "showTitle": false,
     "title": ""
    }
   },
   "outputs": [],
   "source": [
    "from pyspark.sql.types import StructType, StructField, TimestampType, IntegerType, StringType, FloatType, LongType, TimestampType\n",
    "from pyspark.sql.functions import regexp_replace, concat_ws\n",
    "from pyspark.sql.functions import when, col, length\n",
    "from pyspark.sql.functions import current_timestamp\n",
    "from pyspark.sql.functions import avg"
   ]
  },
  {
   "cell_type": "code",
   "execution_count": 0,
   "metadata": {
    "application/vnd.databricks.v1+cell": {
     "cellMetadata": {
      "byteLimit": 2048000,
      "rowLimit": 10000
     },
     "inputWidgets": {},
     "nuid": "fb904d70-ff5e-43ae-bb93-187d95d72ba8",
     "showTitle": false,
     "title": ""
    }
   },
   "outputs": [],
   "source": [
    "loan_repayments_schema = StructType([\n",
    "    StructField(\"id\", StringType(), True)\n",
    "    ,StructField(\"total_principal_recieved\", FloatType(), True)\n",
    "    ,StructField(\"total_interest_recieved\", FloatType(), True)\n",
    "    ,StructField(\"total_late_fee_recieved\", FloatType(), True)\n",
    "    ,StructField(\"total_payment_recieved\", FloatType(), True)\n",
    "    ,StructField(\"last_payment_amount\", FloatType(), True)\n",
    "    ,StructField(\"last_payment_date\", StringType(), True)\n",
    "    ,StructField(\"next_payment_date\", StringType(), True)\n",
    "])"
   ]
  },
  {
   "cell_type": "code",
   "execution_count": 0,
   "metadata": {
    "application/vnd.databricks.v1+cell": {
     "cellMetadata": {
      "byteLimit": 2048000,
      "rowLimit": 10000
     },
     "inputWidgets": {},
     "nuid": "48ab8ef2-eda5-407f-a7d1-49118681719f",
     "showTitle": false,
     "title": ""
    }
   },
   "outputs": [],
   "source": [
    "loan_repayments = spark.read\\\n",
    "    .format(\"csv\")\\\n",
    "    .schema(loan_repayments_schema)\\\n",
    "    .option(\"header\", True)\\\n",
    "    .load(\"dbfs:/mnt/lending_club/landing/loan_repayments_df/csv/single/part-00000-tid-2414998971585683794-11892453-bff9-4546-97cc-2a94e5f52b5f-250-1-c000.csv\")"
   ]
  },
  {
   "cell_type": "code",
   "execution_count": 0,
   "metadata": {
    "application/vnd.databricks.v1+cell": {
     "cellMetadata": {
      "byteLimit": 2048000,
      "rowLimit": 10000
     },
     "inputWidgets": {},
     "nuid": "2440175f-4b07-4842-b3c4-4d93a4392327",
     "showTitle": false,
     "title": ""
    }
   },
   "outputs": [
    {
     "output_type": "stream",
     "name": "stdout",
     "output_type": "stream",
     "text": [
      "+--------+------------------------+-----------------------+-----------------------+----------------------+-------------------+-----------------+-----------------+\n|      id|total_principal_recieved|total_interest_recieved|total_late_fee_recieved|total_payment_recieved|last_payment_amount|last_payment_date|next_payment_date|\n+--------+------------------------+-----------------------+-----------------------+----------------------+-------------------+-----------------+-----------------+\n|68407277|                  3600.0|                 821.72|                    0.0|              4421.724|             122.67|         Jan-2019|             NULL|\n|68355089|                 24700.0|                 979.66|                    0.0|              25679.66|             926.35|         Jun-2016|             NULL|\n|68341763|                 20000.0|                2705.92|                    0.0|             22705.924|            15813.3|         Jun-2017|             NULL|\n|66310712|                19102.35|               12361.66|                    0.0|              31464.01|              829.9|         Feb-2019|         Apr-2019|\n|68476807|                 10400.0|                 1340.5|                    0.0|               11740.5|           10128.96|         Jul-2016|             NULL|\n|68426831|                 11950.0|                1758.95|                    0.0|             13708.948|            7653.56|         May-2017|             NULL|\n|68476668|                 20000.0|                 1393.8|                    0.0|               21393.8|           15681.05|         Nov-2016|             NULL|\n|67275481|                 20000.0|                1538.51|                    0.0|              21538.51|           14618.23|         Jan-2017|             NULL|\n|68466926|                 10000.0|                 998.97|                    0.0|             10998.972|            1814.48|         Aug-2018|             NULL|\n|68616873|                  8000.0|                 939.58|                    0.0|               8939.58|            4996.24|         Apr-2017|             NULL|\n|68356421|                12487.12|                6788.21|                    0.0|              19275.33|              508.3|         Feb-2019|         Apr-2019|\n|68426545|                  8919.3|                4848.74|                    0.0|              13768.04|             363.07|         Feb-2019|         Apr-2019|\n|68338832|                  1400.0|                 175.16|                    0.0|             1575.1606|             965.36|         Mar-2017|             NULL|\n|66624733|                 3481.86|                4351.98|                    0.0|               9452.74|              471.7|         May-2017|             NULL|\n|68466961|                 28000.0|                1939.02|                    0.0|             29939.018|           17093.51|         May-2017|             NULL|\n|68354783|                  9600.0|                 1036.1|                    0.0|             10636.099|            3480.17|         Feb-2018|             NULL|\n|68466916|                 25000.0|                1224.23|                    0.0|              26224.23|           20807.39|         Sep-2016|             NULL|\n|68577849|                 18000.0|                 387.22|                    0.0|              18387.22|            18004.9|         Mar-2016|             NULL|\n|68506798|                 13419.8|                4480.34|                    0.0|              17900.14|             471.77|         Feb-2019|         Apr-2019|\n|68495092|                  8650.0|                 540.49|                    0.0|               9190.49|            8251.42|         May-2016|             NULL|\n+--------+------------------------+-----------------------+-----------------------+----------------------+-------------------+-----------------+-----------------+\nonly showing top 20 rows\n\n"
     ]
    }
   ],
   "source": [
    "loan_repayments.show()"
   ]
  },
  {
   "cell_type": "code",
   "execution_count": 0,
   "metadata": {
    "application/vnd.databricks.v1+cell": {
     "cellMetadata": {
      "byteLimit": 2048000,
      "rowLimit": 10000
     },
     "inputWidgets": {},
     "nuid": "ce04c10a-220c-4ea4-8148-8b5195831a6d",
     "showTitle": false,
     "title": ""
    }
   },
   "outputs": [
    {
     "output_type": "stream",
     "name": "stdout",
     "output_type": "stream",
     "text": [
      "+--------+------------------------+-----------------------+-----------------------+----------------------+-------------------+-----------------+-----------------+--------------------+\n|      id|total_principal_recieved|total_interest_recieved|total_late_fee_recieved|total_payment_recieved|last_payment_amount|last_payment_date|next_payment_date|         ingest_date|\n+--------+------------------------+-----------------------+-----------------------+----------------------+-------------------+-----------------+-----------------+--------------------+\n|68407277|                  3600.0|                 821.72|                    0.0|              4421.724|             122.67|         Jan-2019|             NULL|2023-12-20 07:22:...|\n|68355089|                 24700.0|                 979.66|                    0.0|              25679.66|             926.35|         Jun-2016|             NULL|2023-12-20 07:22:...|\n|68341763|                 20000.0|                2705.92|                    0.0|             22705.924|            15813.3|         Jun-2017|             NULL|2023-12-20 07:22:...|\n|66310712|                19102.35|               12361.66|                    0.0|              31464.01|              829.9|         Feb-2019|         Apr-2019|2023-12-20 07:22:...|\n|68476807|                 10400.0|                 1340.5|                    0.0|               11740.5|           10128.96|         Jul-2016|             NULL|2023-12-20 07:22:...|\n|68426831|                 11950.0|                1758.95|                    0.0|             13708.948|            7653.56|         May-2017|             NULL|2023-12-20 07:22:...|\n|68476668|                 20000.0|                 1393.8|                    0.0|               21393.8|           15681.05|         Nov-2016|             NULL|2023-12-20 07:22:...|\n|67275481|                 20000.0|                1538.51|                    0.0|              21538.51|           14618.23|         Jan-2017|             NULL|2023-12-20 07:22:...|\n|68466926|                 10000.0|                 998.97|                    0.0|             10998.972|            1814.48|         Aug-2018|             NULL|2023-12-20 07:22:...|\n|68616873|                  8000.0|                 939.58|                    0.0|               8939.58|            4996.24|         Apr-2017|             NULL|2023-12-20 07:22:...|\n|68356421|                12487.12|                6788.21|                    0.0|              19275.33|              508.3|         Feb-2019|         Apr-2019|2023-12-20 07:22:...|\n|68426545|                  8919.3|                4848.74|                    0.0|              13768.04|             363.07|         Feb-2019|         Apr-2019|2023-12-20 07:22:...|\n|68338832|                  1400.0|                 175.16|                    0.0|             1575.1606|             965.36|         Mar-2017|             NULL|2023-12-20 07:22:...|\n|66624733|                 3481.86|                4351.98|                    0.0|               9452.74|              471.7|         May-2017|             NULL|2023-12-20 07:22:...|\n|68466961|                 28000.0|                1939.02|                    0.0|             29939.018|           17093.51|         May-2017|             NULL|2023-12-20 07:22:...|\n|68354783|                  9600.0|                 1036.1|                    0.0|             10636.099|            3480.17|         Feb-2018|             NULL|2023-12-20 07:22:...|\n|68466916|                 25000.0|                1224.23|                    0.0|              26224.23|           20807.39|         Sep-2016|             NULL|2023-12-20 07:22:...|\n|68577849|                 18000.0|                 387.22|                    0.0|              18387.22|            18004.9|         Mar-2016|             NULL|2023-12-20 07:22:...|\n|68506798|                 13419.8|                4480.34|                    0.0|              17900.14|             471.77|         Feb-2019|         Apr-2019|2023-12-20 07:22:...|\n|68495092|                  8650.0|                 540.49|                    0.0|               9190.49|            8251.42|         May-2016|             NULL|2023-12-20 07:22:...|\n+--------+------------------------+-----------------------+-----------------------+----------------------+-------------------+-----------------+-----------------+--------------------+\nonly showing top 20 rows\n\n"
     ]
    }
   ],
   "source": [
    "loan_repayments_ingested = loan_repayments.withColumn(\"ingest_date\", current_timestamp())\n",
    "loan_repayments_ingested.show()"
   ]
  },
  {
   "cell_type": "code",
   "execution_count": 0,
   "metadata": {
    "application/vnd.databricks.v1+cell": {
     "cellMetadata": {
      "byteLimit": 2048000,
      "rowLimit": 10000
     },
     "inputWidgets": {},
     "nuid": "04055ae8-94f4-4362-b332-f3a8b4df2d72",
     "showTitle": false,
     "title": ""
    }
   },
   "outputs": [
    {
     "output_type": "execute_result",
     "data": {
      "text/plain": [
       "1068"
      ]
     },
     "execution_count": 11,
     "metadata": {},
     "output_type": "execute_result"
    }
   ],
   "source": [
    "loan_repayments_ingested.filter(\"total_payment_recieved = 0\").count()"
   ]
  },
  {
   "cell_type": "code",
   "execution_count": 0,
   "metadata": {
    "application/vnd.databricks.v1+cell": {
     "cellMetadata": {
      "byteLimit": 2048000,
      "rowLimit": 10000
     },
     "inputWidgets": {},
     "nuid": "2ac90017-aabf-4198-9e2e-bcd83252e2e3",
     "showTitle": false,
     "title": ""
    }
   },
   "outputs": [
    {
     "output_type": "stream",
     "name": "stdout",
     "output_type": "stream",
     "text": [
      "+--------+------------------------+-----------------------+-----------------------+----------------------+-------------------+------------------+-----------------+--------------------+\n|      id|total_principal_recieved|total_interest_recieved|total_late_fee_recieved|total_payment_recieved|last_payment_amount| last_payment_date|next_payment_date|         ingest_date|\n+--------+------------------------+-----------------------+-----------------------+----------------------+-------------------+------------------+-----------------+--------------------+\n|61400928|                 4053.98|                1233.28|                 814.56|                   0.0|               NULL|361.10519999940004|           228.25|2023-12-20 07:54:...|\n| 1064185|                11600.98|               11600.98|                10000.0|                   0.0|                0.0|               0.0|         Dec-2014|2023-12-20 07:54:...|\n|  839321|                 4523.48|                 4400.0|                 123.48|                   0.0|               NULL|               0.0|          4234.33|2023-12-20 07:54:...|\n|  516382|               21890.229|               21856.03|                16000.0|                   0.0|                0.0|               0.0|         Mar-2014|2023-12-20 07:54:...|\n|  532839|                15245.58|                15025.0|                 220.58|                   0.0|               NULL|               0.0|         15246.35|2023-12-20 07:54:...|\n|  465295|                12654.72|                9600.01|                3889.08|                   0.0|               NULL|               0.0|          5465.72|2023-12-20 07:54:...|\n|  528899|               3045.0364|                3019.64|                 2500.0|                   0.0|                0.0|               0.0|         Jan-2013|2023-12-20 07:54:...|\n|  528607|                23746.53|               13775.33|               10053.11|                   0.0|               NULL|14.410300001600001|           1206.0|2023-12-20 07:54:...|\n|  527598|               2398.9092|                2220.51|                 2200.0|                   0.0|                0.0|               0.0|         Jul-2011|2023-12-20 07:54:...|\n|  527581|                    20.7|                   15.0|                   NULL|                   0.0|           15474.61|16335.089985249298|          14000.0|2023-12-20 07:54:...|\n|  525697|                21797.86|                19894.9|                15750.0|                   0.0|                0.0|               0.0|         Jun-2015|2023-12-20 07:54:...|\n|  525008|                18277.01|                17000.0|                1638.05|                   0.0|               NULL|               0.0|         12530.08|2023-12-20 07:54:...|\n|  523473|                 7272.39|                 7000.0|                 840.09|                   0.0|               NULL|               0.0|           246.35|2023-12-20 07:54:...|\n|  518686|                14744.61|                11175.0|                3648.63|                   0.0|               NULL|               0.0|          6980.69|2023-12-20 07:54:...|\n|  522788|                13833.32|                 9525.0|                4469.88|                   0.0|               NULL|               0.0|           240.77|2023-12-20 07:54:...|\n|  522641|               3146.8193|                3146.82|                 3000.0|                   0.0|                0.0|               0.0|         Sep-2011|2023-12-20 07:54:...|\n|  517055|                12445.92|                12000.0|                1107.79|                   0.0|               NULL|               0.0|          5819.27|2023-12-20 07:54:...|\n|  515953|                    56.5|                   33.0|                   NULL|                   0.0|           14428.02|  14488.3848306602|          12000.0|2023-12-20 07:54:...|\n|  515655|               29938.576|               29905.75|                22800.0|                   0.0|                0.0|               0.0|         May-2013|2023-12-20 07:54:...|\n|  515070|                11869.49|                7771.86|                5128.37|                   0.0|               NULL|               0.0|           929.79|2023-12-20 07:54:...|\n+--------+------------------------+-----------------------+-----------------------+----------------------+-------------------+------------------+-----------------+--------------------+\nonly showing top 20 rows\n\n"
     ]
    }
   ],
   "source": [
    "loan_repayments_ingested.filter(\"total_payment_recieved = 0 and total_principal_recieved != 0.0\").show()"
   ]
  },
  {
   "cell_type": "code",
   "execution_count": 0,
   "metadata": {
    "application/vnd.databricks.v1+cell": {
     "cellMetadata": {
      "byteLimit": 2048000,
      "rowLimit": 10000
     },
     "inputWidgets": {},
     "nuid": "809284c5-45bf-400f-92c3-3e1e2d647c5b",
     "showTitle": false,
     "title": ""
    }
   },
   "outputs": [
    {
     "output_type": "stream",
     "name": "stdout",
     "output_type": "stream",
     "text": [
      "+--------+------------------------+-----------------------+-----------------------+----------------------+-------------------+-----------------+-----------------+--------------------+\n|      id|total_principal_recieved|total_interest_recieved|total_late_fee_recieved|total_payment_recieved|last_payment_amount|last_payment_date|next_payment_date|         ingest_date|\n+--------+------------------------+-----------------------+-----------------------+----------------------+-------------------+-----------------+-----------------+--------------------+\n|68407277|                  3600.0|                 821.72|                    0.0|              4421.724|             122.67|         Jan-2019|             NULL|2023-12-20 08:12:...|\n|68355089|                 24700.0|                 979.66|                    0.0|              25679.66|             926.35|         Jun-2016|             NULL|2023-12-20 08:12:...|\n|68341763|                 20000.0|                2705.92|                    0.0|             22705.924|            15813.3|         Jun-2017|             NULL|2023-12-20 08:12:...|\n|66310712|                19102.35|               12361.66|                    0.0|              31464.01|              829.9|         Feb-2019|         Apr-2019|2023-12-20 08:12:...|\n|68476807|                 10400.0|                 1340.5|                    0.0|               11740.5|           10128.96|         Jul-2016|             NULL|2023-12-20 08:12:...|\n|68426831|                 11950.0|                1758.95|                    0.0|             13708.948|            7653.56|         May-2017|             NULL|2023-12-20 08:12:...|\n|68476668|                 20000.0|                 1393.8|                    0.0|               21393.8|           15681.05|         Nov-2016|             NULL|2023-12-20 08:12:...|\n|67275481|                 20000.0|                1538.51|                    0.0|              21538.51|           14618.23|         Jan-2017|             NULL|2023-12-20 08:12:...|\n|68466926|                 10000.0|                 998.97|                    0.0|             10998.972|            1814.48|         Aug-2018|             NULL|2023-12-20 08:12:...|\n|68616873|                  8000.0|                 939.58|                    0.0|               8939.58|            4996.24|         Apr-2017|             NULL|2023-12-20 08:12:...|\n|68356421|                12487.12|                6788.21|                    0.0|              19275.33|              508.3|         Feb-2019|         Apr-2019|2023-12-20 08:12:...|\n|68426545|                  8919.3|                4848.74|                    0.0|              13768.04|             363.07|         Feb-2019|         Apr-2019|2023-12-20 08:12:...|\n|68338832|                  1400.0|                 175.16|                    0.0|             1575.1606|             965.36|         Mar-2017|             NULL|2023-12-20 08:12:...|\n|66624733|                 3481.86|                4351.98|                    0.0|               9452.74|              471.7|         May-2017|             NULL|2023-12-20 08:12:...|\n|68466961|                 28000.0|                1939.02|                    0.0|             29939.018|           17093.51|         May-2017|             NULL|2023-12-20 08:12:...|\n|68354783|                  9600.0|                 1036.1|                    0.0|             10636.099|            3480.17|         Feb-2018|             NULL|2023-12-20 08:12:...|\n|68466916|                 25000.0|                1224.23|                    0.0|              26224.23|           20807.39|         Sep-2016|             NULL|2023-12-20 08:12:...|\n|68577849|                 18000.0|                 387.22|                    0.0|              18387.22|            18004.9|         Mar-2016|             NULL|2023-12-20 08:12:...|\n|68506798|                 13419.8|                4480.34|                    0.0|              17900.14|             471.77|         Feb-2019|         Apr-2019|2023-12-20 08:12:...|\n|68495092|                  8650.0|                 540.49|                    0.0|               9190.49|            8251.42|         May-2016|             NULL|2023-12-20 08:12:...|\n+--------+------------------------+-----------------------+-----------------------+----------------------+-------------------+-----------------+-----------------+--------------------+\nonly showing top 20 rows\n\n"
     ]
    }
   ],
   "source": [
    "loan_repayments_payments_df = loan_repayments_ingested.withColumn(\n",
    "    \"total_payment_recieved\"\n",
    "    ,when(\n",
    "        (col(\"total_payment_recieved\") == 0.0) \n",
    "        ,col(\"total_principal_recieved\") + col(\"total_interest_recieved\") + col(\"total_late_fee_recieved\")\n",
    "    ).otherwise(col(\"total_payment_recieved\"))\n",
    ")\n",
    "\n",
    "loan_repayments_payments_df.show()"
   ]
  },
  {
   "cell_type": "code",
   "execution_count": 0,
   "metadata": {
    "application/vnd.databricks.v1+cell": {
     "cellMetadata": {
      "byteLimit": 2048000,
      "rowLimit": 10000
     },
     "inputWidgets": {},
     "nuid": "0aca17e0-5770-40a8-ba82-6bbbac0c46bb",
     "showTitle": false,
     "title": ""
    }
   },
   "outputs": [
    {
     "output_type": "stream",
     "name": "stdout",
     "output_type": "stream",
     "text": [
      "+--------+------------------------+-----------------------+-----------------------+----------------------+-------------------+------------------+-----------------+--------------------+\n|      id|total_principal_recieved|total_interest_recieved|total_late_fee_recieved|total_payment_recieved|last_payment_amount| last_payment_date|next_payment_date|         ingest_date|\n+--------+------------------------+-----------------------+-----------------------+----------------------+-------------------+------------------+-----------------+--------------------+\n|61400928|                 4053.98|                1233.28|                 814.56|               6101.82|               NULL|361.10519999940004|           228.25|2023-12-20 08:12:...|\n| 1064185|                11600.98|               11600.98|                10000.0|              33201.96|                0.0|               0.0|         Dec-2014|2023-12-20 08:12:...|\n+--------+------------------------+-----------------------+-----------------------+----------------------+-------------------+------------------+-----------------+--------------------+\n\n"
     ]
    }
   ],
   "source": [
    "loan_repayments_payments_df.filter(\"id in (61400928, 1064185)\").show()"
   ]
  },
  {
   "cell_type": "code",
   "execution_count": 0,
   "metadata": {
    "application/vnd.databricks.v1+cell": {
     "cellMetadata": {
      "byteLimit": 2048000,
      "rowLimit": 10000
     },
     "inputWidgets": {},
     "nuid": "80ade41f-8204-4e93-be75-4b741c23d57a",
     "showTitle": false,
     "title": ""
    }
   },
   "outputs": [
    {
     "output_type": "stream",
     "name": "stdout",
     "output_type": "stream",
     "text": [
      "+--------------------+------------------------+-----------------------+-----------------------+----------------------+-------------------+-----------------+-----------------+--------------------+\n|                  id|total_principal_recieved|total_interest_recieved|total_late_fee_recieved|total_payment_recieved|last_payment_amount|last_payment_date|next_payment_date|         ingest_date|\n+--------------------+------------------------+-----------------------+-----------------------+----------------------+-------------------+-----------------+-----------------+--------------------+\n|Total amount fund...|                    NULL|                   NULL|                   NULL|                  NULL|               NULL|             NULL|             NULL|2023-12-20 08:13:...|\n|Total amount fund...|                    NULL|                   NULL|                   NULL|                  NULL|               NULL|             NULL|             NULL|2023-12-20 08:13:...|\n|Total amount fund...|                    NULL|                   NULL|                   NULL|                  NULL|               NULL|             NULL|             NULL|2023-12-20 08:13:...|\n|Total amount fund...|                    NULL|                   NULL|                   NULL|                  NULL|               NULL|             NULL|             NULL|2023-12-20 08:13:...|\n|Total amount fund...|                    NULL|                   NULL|                   NULL|                  NULL|               NULL|             NULL|             NULL|2023-12-20 08:13:...|\n|Total amount fund...|                    NULL|                   NULL|                   NULL|                  NULL|               NULL|             NULL|             NULL|2023-12-20 08:13:...|\n|Total amount fund...|                    NULL|                   NULL|                   NULL|                  NULL|               NULL|             NULL|             NULL|2023-12-20 08:13:...|\n|Total amount fund...|                    NULL|                   NULL|                   NULL|                  NULL|               NULL|             NULL|             NULL|2023-12-20 08:13:...|\n|Total amount fund...|                    NULL|                   NULL|                   NULL|                  NULL|               NULL|             NULL|             NULL|2023-12-20 08:13:...|\n|Total amount fund...|                    NULL|                   NULL|                   NULL|                  NULL|               NULL|             NULL|             NULL|2023-12-20 08:13:...|\n|Total amount fund...|                    NULL|                   NULL|                   NULL|                  NULL|               NULL|             NULL|             NULL|2023-12-20 08:13:...|\n|Total amount fund...|                    NULL|                   NULL|                   NULL|                  NULL|               NULL|             NULL|             NULL|2023-12-20 08:13:...|\n|Total amount fund...|                    NULL|                   NULL|                   NULL|                  NULL|               NULL|             NULL|             NULL|2023-12-20 08:13:...|\n|Total amount fund...|                    NULL|                   NULL|                   NULL|                  NULL|               NULL|             NULL|             NULL|2023-12-20 08:13:...|\n|Total amount fund...|                    NULL|                   NULL|                   NULL|                  NULL|               NULL|             NULL|             NULL|2023-12-20 08:13:...|\n|Total amount fund...|                    NULL|                   NULL|                   NULL|                  NULL|               NULL|             NULL|             NULL|2023-12-20 08:13:...|\n|Total amount fund...|                    NULL|                   NULL|                   NULL|                  NULL|               NULL|             NULL|             NULL|2023-12-20 08:13:...|\n|Total amount fund...|                    NULL|                   NULL|                   NULL|                  NULL|               NULL|             NULL|             NULL|2023-12-20 08:13:...|\n|Total amount fund...|                    NULL|                   NULL|                   NULL|                  NULL|               NULL|             NULL|             NULL|2023-12-20 08:13:...|\n|Total amount fund...|                    NULL|                   NULL|                   NULL|                  NULL|               NULL|             NULL|             NULL|2023-12-20 08:13:...|\n+--------------------+------------------------+-----------------------+-----------------------+----------------------+-------------------+-----------------+-----------------+--------------------+\nonly showing top 20 rows\n\n"
     ]
    }
   ],
   "source": [
    "loan_repayments_payments_df.filter(\"total_principal_recieved is null \").show()"
   ]
  },
  {
   "cell_type": "code",
   "execution_count": 0,
   "metadata": {
    "application/vnd.databricks.v1+cell": {
     "cellMetadata": {
      "byteLimit": 2048000,
      "rowLimit": 10000
     },
     "inputWidgets": {},
     "nuid": "80ce8119-46a1-40c8-990d-d5ee18a4adf2",
     "showTitle": false,
     "title": ""
    }
   },
   "outputs": [
    {
     "output_type": "stream",
     "name": "stdout",
     "output_type": "stream",
     "text": [
      "+--------+------------------------+-----------------------+-----------------------+----------------------+-------------------+-----------------+-----------------+--------------------+\n|      id|total_principal_recieved|total_interest_recieved|total_late_fee_recieved|total_payment_recieved|last_payment_amount|last_payment_date|next_payment_date|         ingest_date|\n+--------+------------------------+-----------------------+-----------------------+----------------------+-------------------+-----------------+-----------------+--------------------+\n|68407277|                  3600.0|                 821.72|                    0.0|              4421.724|             122.67|         Jan-2019|             NULL|2023-12-20 08:13:...|\n|68355089|                 24700.0|                 979.66|                    0.0|              25679.66|             926.35|         Jun-2016|             NULL|2023-12-20 08:13:...|\n|68341763|                 20000.0|                2705.92|                    0.0|             22705.924|            15813.3|         Jun-2017|             NULL|2023-12-20 08:13:...|\n|66310712|                19102.35|               12361.66|                    0.0|              31464.01|              829.9|         Feb-2019|         Apr-2019|2023-12-20 08:13:...|\n|68476807|                 10400.0|                 1340.5|                    0.0|               11740.5|           10128.96|         Jul-2016|             NULL|2023-12-20 08:13:...|\n|68426831|                 11950.0|                1758.95|                    0.0|             13708.948|            7653.56|         May-2017|             NULL|2023-12-20 08:13:...|\n|68476668|                 20000.0|                 1393.8|                    0.0|               21393.8|           15681.05|         Nov-2016|             NULL|2023-12-20 08:13:...|\n|67275481|                 20000.0|                1538.51|                    0.0|              21538.51|           14618.23|         Jan-2017|             NULL|2023-12-20 08:13:...|\n|68466926|                 10000.0|                 998.97|                    0.0|             10998.972|            1814.48|         Aug-2018|             NULL|2023-12-20 08:13:...|\n|68616873|                  8000.0|                 939.58|                    0.0|               8939.58|            4996.24|         Apr-2017|             NULL|2023-12-20 08:13:...|\n|68356421|                12487.12|                6788.21|                    0.0|              19275.33|              508.3|         Feb-2019|         Apr-2019|2023-12-20 08:13:...|\n|68426545|                  8919.3|                4848.74|                    0.0|              13768.04|             363.07|         Feb-2019|         Apr-2019|2023-12-20 08:13:...|\n|68338832|                  1400.0|                 175.16|                    0.0|             1575.1606|             965.36|         Mar-2017|             NULL|2023-12-20 08:13:...|\n|66624733|                 3481.86|                4351.98|                    0.0|               9452.74|              471.7|         May-2017|             NULL|2023-12-20 08:13:...|\n|68466961|                 28000.0|                1939.02|                    0.0|             29939.018|           17093.51|         May-2017|             NULL|2023-12-20 08:13:...|\n|68354783|                  9600.0|                 1036.1|                    0.0|             10636.099|            3480.17|         Feb-2018|             NULL|2023-12-20 08:13:...|\n|68466916|                 25000.0|                1224.23|                    0.0|              26224.23|           20807.39|         Sep-2016|             NULL|2023-12-20 08:13:...|\n|68577849|                 18000.0|                 387.22|                    0.0|              18387.22|            18004.9|         Mar-2016|             NULL|2023-12-20 08:13:...|\n|68506798|                 13419.8|                4480.34|                    0.0|              17900.14|             471.77|         Feb-2019|         Apr-2019|2023-12-20 08:13:...|\n|68495092|                  8650.0|                 540.49|                    0.0|               9190.49|            8251.42|         May-2016|             NULL|2023-12-20 08:13:...|\n+--------+------------------------+-----------------------+-----------------------+----------------------+-------------------+-----------------+-----------------+--------------------+\nonly showing top 20 rows\n\n"
     ]
    }
   ],
   "source": [
    "columns_to_check = [\"total_principal_recieved\", \"total_interest_recieved\", \"total_late_fee_recieved\", \"total_payment_recieved\", \"last_payment_amount\"]\n",
    "loans_repay_filtered_df = loan_repayments_payments_df.na.drop(subset=columns_to_check)\n",
    "loans_repay_filtered_df.show()"
   ]
  },
  {
   "cell_type": "code",
   "execution_count": 0,
   "metadata": {
    "application/vnd.databricks.v1+cell": {
     "cellMetadata": {
      "byteLimit": 2048000,
      "rowLimit": 10000
     },
     "inputWidgets": {},
     "nuid": "4796bb95-a3d3-484c-be36-a9bfadadf34b",
     "showTitle": false,
     "title": ""
    }
   },
   "outputs": [
    {
     "output_type": "execute_result",
     "data": {
      "text/plain": [
       "949"
      ]
     },
     "execution_count": 51,
     "metadata": {},
     "output_type": "execute_result"
    }
   ],
   "source": [
    "loans_repay_filtered_df.filter(\"total_payment_recieved == 0.0\").count()"
   ]
  },
  {
   "cell_type": "code",
   "execution_count": 0,
   "metadata": {
    "application/vnd.databricks.v1+cell": {
     "cellMetadata": {
      "byteLimit": 2048000,
      "rowLimit": 10000
     },
     "inputWidgets": {},
     "nuid": "61924279-55fb-4df2-8490-af4919305e47",
     "showTitle": false,
     "title": ""
    }
   },
   "outputs": [
    {
     "output_type": "stream",
     "name": "stdout",
     "output_type": "stream",
     "text": [
      "+--------+------------------------+-----------------------+-----------------------+----------------------+-------------------+-----------------+-----------------+--------------------+\n|      id|total_principal_recieved|total_interest_recieved|total_late_fee_recieved|total_payment_recieved|last_payment_amount|last_payment_date|next_payment_date|         ingest_date|\n+--------+------------------------+-----------------------+-----------------------+----------------------+-------------------+-----------------+-----------------+--------------------+\n|68393736|                     0.0|                    0.0|                    0.0|                   0.0|                0.0|             NULL|             NULL|2023-12-20 08:13:...|\n|67789810|                     0.0|                    0.0|                    0.0|                   0.0|                0.0|             NULL|             NULL|2023-12-20 08:13:...|\n|67216542|                     0.0|                    0.0|                    0.0|                   0.0|                0.0|             NULL|             NULL|2023-12-20 08:13:...|\n|67326541|                     0.0|                    0.0|                    0.0|                   0.0|                0.0|             NULL|             NULL|2023-12-20 08:13:...|\n|66955316|                     0.0|                    0.0|                    0.0|                   0.0|                0.0|             NULL|             NULL|2023-12-20 08:13:...|\n|66484022|                     0.0|                    0.0|                    0.0|                   0.0|                0.0|             NULL|             NULL|2023-12-20 08:13:...|\n|65662684|                     0.0|                    0.0|                    0.0|                   0.0|                0.0|             NULL|             NULL|2023-12-20 08:13:...|\n|65707010|                     0.0|                    0.0|                    0.0|                   0.0|                0.0|             NULL|             NULL|2023-12-20 08:13:...|\n|65652635|                     0.0|                    0.0|                    0.0|                   0.0|                0.0|             NULL|             NULL|2023-12-20 08:13:...|\n|65622360|                     0.0|                    0.0|                    0.0|                   0.0|                0.0|             NULL|             NULL|2023-12-20 08:13:...|\n|65444660|                     0.0|                    0.0|                    0.0|                   0.0|                0.0|             NULL|             NULL|2023-12-20 08:13:...|\n|65313666|                     0.0|                    0.0|                    0.0|                   0.0|                0.0|             NULL|             NULL|2023-12-20 08:13:...|\n|65453293|                     0.0|                    0.0|                    0.0|                   0.0|                0.0|             NULL|             NULL|2023-12-20 08:13:...|\n|63517851|                     0.0|                    0.0|                    0.0|                   0.0|                0.0|             NULL|             NULL|2023-12-20 08:13:...|\n|63558275|                     0.0|                    0.0|                    0.0|                   0.0|                0.0|             NULL|             NULL|2023-12-20 08:13:...|\n|63288610|                     0.0|                    0.0|                    0.0|                   0.0|                0.0|             NULL|             NULL|2023-12-20 08:13:...|\n|63465230|                     0.0|                    0.0|                    0.0|                   0.0|                0.0|             NULL|             NULL|2023-12-20 08:13:...|\n|62225876|                     0.0|                    0.0|                    0.0|                   0.0|                0.0|             NULL|             NULL|2023-12-20 08:13:...|\n|62345381|                     0.0|                    0.0|                    0.0|                   0.0|                0.0|             NULL|             NULL|2023-12-20 08:13:...|\n|61882809|                     0.0|                    0.0|                    0.0|                   0.0|                0.0|             NULL|             NULL|2023-12-20 08:13:...|\n+--------+------------------------+-----------------------+-----------------------+----------------------+-------------------+-----------------+-----------------+--------------------+\nonly showing top 20 rows\n\n"
     ]
    }
   ],
   "source": [
    "loans_repay_filtered_df.filter(\"total_payment_recieved == 0.0\").show()"
   ]
  },
  {
   "cell_type": "code",
   "execution_count": 0,
   "metadata": {
    "application/vnd.databricks.v1+cell": {
     "cellMetadata": {
      "byteLimit": 2048000,
      "rowLimit": 10000
     },
     "inputWidgets": {},
     "nuid": "87a5ec3a-4e18-4444-a70f-47b80fbff919",
     "showTitle": false,
     "title": ""
    }
   },
   "outputs": [
    {
     "output_type": "execute_result",
     "data": {
      "text/plain": [
       "0"
      ]
     },
     "execution_count": 53,
     "metadata": {},
     "output_type": "execute_result"
    }
   ],
   "source": [
    "loans_repay_filtered_df.filter(\"total_payment_recieved == 0.0 and total_principal_recieved != 0.0\").count()"
   ]
  },
  {
   "cell_type": "code",
   "execution_count": 0,
   "metadata": {
    "application/vnd.databricks.v1+cell": {
     "cellMetadata": {
      "byteLimit": 2048000,
      "rowLimit": 10000
     },
     "inputWidgets": {},
     "nuid": "51c83b10-3992-411e-9a2b-ef6d88df0ec0",
     "showTitle": false,
     "title": ""
    }
   },
   "outputs": [
    {
     "output_type": "stream",
     "name": "stdout",
     "output_type": "stream",
     "text": [
      "+---+------------------------+-----------------------+-----------------------+----------------------+-------------------+-----------------+-----------------+-----------+\n| id|total_principal_recieved|total_interest_recieved|total_late_fee_recieved|total_payment_recieved|last_payment_amount|last_payment_date|next_payment_date|ingest_date|\n+---+------------------------+-----------------------+-----------------------+----------------------+-------------------+-----------------+-----------------+-----------+\n+---+------------------------+-----------------------+-----------------------+----------------------+-------------------+-----------------+-----------------+-----------+\n\n"
     ]
    }
   ],
   "source": [
    "loans_repay_filtered_df.filter(\"total_payment_recieved is null and total_principal_recieved != 0.0\").show()"
   ]
  },
  {
   "cell_type": "code",
   "execution_count": 0,
   "metadata": {
    "application/vnd.databricks.v1+cell": {
     "cellMetadata": {
      "byteLimit": 2048000,
      "rowLimit": 10000
     },
     "inputWidgets": {},
     "nuid": "b7f791a5-faff-447d-9f00-8ee95f0a89da",
     "showTitle": false,
     "title": ""
    }
   },
   "outputs": [
    {
     "output_type": "execute_result",
     "data": {
      "text/plain": [
       "48"
      ]
     },
     "execution_count": 58,
     "metadata": {},
     "output_type": "execute_result"
    }
   ],
   "source": [
    "loans_repay_filtered_df.filter(\"last_payment_date == 0.0\").count()"
   ]
  },
  {
   "cell_type": "code",
   "execution_count": 0,
   "metadata": {
    "application/vnd.databricks.v1+cell": {
     "cellMetadata": {
      "byteLimit": 2048000,
      "rowLimit": 10000
     },
     "inputWidgets": {},
     "nuid": "678a0678-4a6f-4746-86c7-49787cebe958",
     "showTitle": false,
     "title": ""
    }
   },
   "outputs": [],
   "source": [
    "loans_last_payment = loans_repay_filtered_df.withColumn(\n",
    "    \"last_payment_date\",\n",
    "    when(\n",
    "        (col(\"last_payment_date\") == 0.0)\n",
    "        ,None\n",
    "    ).otherwise(\"last_payment_date\")\n",
    ")"
   ]
  },
  {
   "cell_type": "code",
   "execution_count": 0,
   "metadata": {
    "application/vnd.databricks.v1+cell": {
     "cellMetadata": {
      "byteLimit": 2048000,
      "rowLimit": 10000
     },
     "inputWidgets": {},
     "nuid": "705b2b92-a61f-448c-b381-0822d88d2595",
     "showTitle": false,
     "title": ""
    }
   },
   "outputs": [
    {
     "output_type": "execute_result",
     "data": {
      "text/plain": [
       "0"
      ]
     },
     "execution_count": 57,
     "metadata": {},
     "output_type": "execute_result"
    }
   ],
   "source": [
    "loans_last_payment.filter(\"last_payment_date == 0.0\").count()"
   ]
  },
  {
   "cell_type": "code",
   "execution_count": 0,
   "metadata": {
    "application/vnd.databricks.v1+cell": {
     "cellMetadata": {
      "byteLimit": 2048000,
      "rowLimit": 10000
     },
     "inputWidgets": {},
     "nuid": "3a867ee0-bcdc-47c5-ba82-6505afa1a046",
     "showTitle": false,
     "title": ""
    }
   },
   "outputs": [
    {
     "output_type": "execute_result",
     "data": {
      "text/plain": [
       "24"
      ]
     },
     "execution_count": 61,
     "metadata": {},
     "output_type": "execute_result"
    }
   ],
   "source": [
    "loans_last_payment.filter(\"next_payment_date == 0.0\").count()"
   ]
  },
  {
   "cell_type": "code",
   "execution_count": 0,
   "metadata": {
    "application/vnd.databricks.v1+cell": {
     "cellMetadata": {
      "byteLimit": 2048000,
      "rowLimit": 10000
     },
     "inputWidgets": {},
     "nuid": "92d7c125-30d1-43f3-b6ec-0cc061f16dfd",
     "showTitle": false,
     "title": ""
    }
   },
   "outputs": [],
   "source": [
    "loans_next_payment = loans_repay_filtered_df.withColumn(\n",
    "    \"next_payment_date\",\n",
    "    when(\n",
    "        (col(\"next_payment_date\") == 0.0)\n",
    "        ,None\n",
    "    ).otherwise(\"next_payment_date\")\n",
    ")"
   ]
  },
  {
   "cell_type": "code",
   "execution_count": 0,
   "metadata": {
    "application/vnd.databricks.v1+cell": {
     "cellMetadata": {
      "byteLimit": 2048000,
      "rowLimit": 10000
     },
     "inputWidgets": {},
     "nuid": "e0f51fbc-aa2e-4968-8955-b46285ea4fa4",
     "showTitle": false,
     "title": ""
    }
   },
   "outputs": [
    {
     "output_type": "execute_result",
     "data": {
      "text/plain": [
       "0"
      ]
     },
     "execution_count": 62,
     "metadata": {},
     "output_type": "execute_result"
    }
   ],
   "source": [
    "loans_next_payment.filter(\"next_payment_date == 0.0\").count()"
   ]
  },
  {
   "cell_type": "code",
   "execution_count": 0,
   "metadata": {
    "application/vnd.databricks.v1+cell": {
     "cellMetadata": {
      "byteLimit": 2048000,
      "rowLimit": 10000
     },
     "inputWidgets": {},
     "nuid": "bbfd69f3-402e-4c2a-b78f-60eb49b6580a",
     "showTitle": false,
     "title": ""
    }
   },
   "outputs": [],
   "source": [
    "loans_next_payment.write \\\n",
    ".format(\"parquet\") \\\n",
    ".mode(\"overwrite\") \\\n",
    ".option(\"path\", \"/mnt/lending_club/staging/loans_repayments/non_partitioned/parquet\") \\\n",
    ".save()"
   ]
  },
  {
   "cell_type": "code",
   "execution_count": 0,
   "metadata": {
    "application/vnd.databricks.v1+cell": {
     "cellMetadata": {
      "byteLimit": 2048000,
      "rowLimit": 10000
     },
     "inputWidgets": {},
     "nuid": "dfbec1f0-db23-4fd3-8517-122ecd01e2c0",
     "showTitle": false,
     "title": ""
    }
   },
   "outputs": [],
   "source": [
    "loans_next_payment.write \\\n",
    ".format(\"csv\") \\\n",
    ".mode(\"overwrite\") \\\n",
    ".option(\"path\", \"/mnt/lending_club/staging/loans_repayments/non_partitioned/csv\") \\\n",
    ".save()"
   ]
  },
  {
   "cell_type": "code",
   "execution_count": 0,
   "metadata": {
    "application/vnd.databricks.v1+cell": {
     "cellMetadata": {},
     "inputWidgets": {},
     "nuid": "62a840ca-1b07-4556-b45b-e6c5c4bc133e",
     "showTitle": false,
     "title": ""
    }
   },
   "outputs": [],
   "source": []
  }
 ],
 "metadata": {
  "application/vnd.databricks.v1+notebook": {
   "dashboards": [],
   "language": "python",
   "notebookMetadata": {
    "mostRecentlyExecutedCommandWithImplicitDF": {
     "commandId": 4393855835543458,
     "dataframes": [
      "_sqldf"
     ]
    },
    "pythonIndentUnit": 4
   },
   "notebookName": "loans_repayments_cleaned 2023-12-20 12:38:22",
   "widgets": {}
  }
 },
 "nbformat": 4,
 "nbformat_minor": 0
}
